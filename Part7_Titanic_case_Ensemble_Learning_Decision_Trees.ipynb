{
 "cells": [
  {
   "cell_type": "code",
   "execution_count": 58,
   "id": "b2e4fa38",
   "metadata": {},
   "outputs": [],
   "source": [
    "# Load libs\n",
    "import pandas as pd\n",
    "import numpy as np\n",
    "from pandas.plotting import scatter_matrix\n",
    "import matplotlib.pyplot as plt\n",
    "from sklearn.model_selection import train_test_split\n",
    "from sklearn.model_selection import cross_val_score\n",
    "from sklearn.model_selection import StratifiedKFold\n",
    "from sklearn.metrics import classification_report\n",
    "from sklearn.metrics import confusion_matrix\n",
    "from sklearn.metrics import accuracy_score\n",
    "from sklearn.linear_model import LinearRegression\n",
    "from sklearn.linear_model import LogisticRegression\n",
    "from sklearn.tree import DecisionTreeClassifier\n",
    "from sklearn.neighbors import KNeighborsClassifier\n",
    "from sklearn.discriminant_analysis import LinearDiscriminantAnalysis\n",
    "from sklearn.naive_bayes import GaussianNB\n",
    "from sklearn.svm import SVC\n",
    "from sklearn.model_selection import KFold\n",
    "from sklearn.preprocessing import StandardScaler\n",
    "from sklearn.ensemble import RandomForestClassifier\n",
    "from sklearn.model_selection import GridSearchCV\n",
    "from sklearn.ensemble import VotingClassifier\n",
    "from sklearn.ensemble import BaggingClassifier\n",
    "from sklearn.ensemble import AdaBoostClassifier\n",
    "from sklearn.ensemble import GradientBoostingClassifier"
   ]
  },
  {
   "cell_type": "code",
   "execution_count": 59,
   "id": "c64e61c0",
   "metadata": {},
   "outputs": [],
   "source": [
    "# dataset downloading, selecting and reordering columns for further analysis\n",
    "dataset=pd.read_excel(\"cata.xlsx\")\n",
    "dataset=dataset.drop(['name','sibsp', 'parch', 'ticket', 'fare', \n",
    "                      'cabin', 'embarked', 'boat', 'body', 'home.dest'],axis=1)\n",
    "dataset=dataset[['survived','pclass', 'sex', 'age']]\n",
    "\n",
    "# checking the dataset for nan and deleting empty rows\n",
    "dataset.isna().sum()\n",
    "dataset=dataset.dropna(axis=0)\n",
    "\n",
    "# formatting the \"survived\" column into categorical\n",
    "dataset.survived.replace(to_replace=[0,1],value=[\"no\",\"yes\"], inplace=True)\n",
    "dataset.sex.replace(to_replace=[\"female\",\"male\"],value=[0,1], inplace=True)\n",
    "dataset = dataset.astype({'survived':'category','pclass':'int','sex':'int','age':'float'})\n",
    "\n",
    "# split-out validation dataset\n",
    "array = dataset.values\n",
    "X = array[:,1:]\n",
    "y = array[:,0]\n",
    "\n",
    "# set up the train & test split\n",
    "X_train, X_test, Y_train, Y_test = train_test_split(X, y, test_size=0.20, random_state=1)\n",
    "\n",
    "# standardize the dataset manually (except for the categorical values)\n",
    "m=np.mean(X_train[:,2])\n",
    "s=np.std(X_train[:,2])\n",
    "X_train[:,2]=(X_train[:,2]-m)/s\n",
    "X_test[:,2]=(X_test[:,2]-m)/s\n",
    "\n",
    "\n",
    "# the goal is to check different models for prediction (linear and non-linear ones)\n",
    "# individually and then deploy different options of the Ensemble Learning and Decision Trees\n",
    "# the list of the individual models is given below:\n",
    "# Logistic Regression (LR)\n",
    "# Linear Discriminant Analysis (LDA)\n",
    "# K-Nearest Neighbors (KNN)\n",
    "# Gaussian Naive Bayes (NB)\n",
    "# Classification Trees (CART)\n",
    "\n",
    "models = []\n",
    "models.append(('LR', LogisticRegression()))\n",
    "models.append(('LDA', LinearDiscriminantAnalysis()))\n",
    "models.append(('KNN', KNeighborsClassifier()))\n",
    "models.append(('NB', GaussianNB()))\n",
    "models.append(('CART', DecisionTreeClassifier()))"
   ]
  },
  {
   "cell_type": "code",
   "execution_count": 60,
   "id": "fac9908b",
   "metadata": {
    "scrolled": true
   },
   "outputs": [
    {
     "name": "stdout",
     "output_type": "stream",
     "text": [
      "model name - LR, accuracy score - 0.80\n",
      "model name - LDA, accuracy score - 0.80\n",
      "model name - KNN, accuracy score - 0.79\n",
      "model name - NB, accuracy score - 0.80\n",
      "model name - CART, accuracy score - 0.79\n"
     ]
    }
   ],
   "source": [
    "# below is a set of different models for prediction (linear and non-linear ones)\n",
    "# and the result of predictions for the validation (test) dataset\n",
    "# max accuracy score - 0.8 for individual models\n",
    "results = []\n",
    "names = []\n",
    "for name, model in models:\n",
    "    model.fit(X_train, Y_train)\n",
    "    predictions=model.predict(X_test)\n",
    "    print('model name - %.5s, accuracy score - %.2f' % \n",
    "        (name,accuracy_score(Y_test,predictions)))"
   ]
  },
  {
   "cell_type": "code",
   "execution_count": 61,
   "id": "cd59426d",
   "metadata": {},
   "outputs": [
    {
     "name": "stdout",
     "output_type": "stream",
     "text": [
      "VotingClassifier accuracy score -  0.8\n"
     ]
    }
   ],
   "source": [
    "# further I'll experiment with different algorythms of the Ensemble Learning and Decision Trees\n",
    "# to maximize the accuracy of the predictions\n",
    "# 1/ I'm going to start with the Voting Classifier which gives the accuracy score 0.8\n",
    "vc=VotingClassifier(estimators=models)\n",
    "vc.fit(X_train, Y_train)\n",
    "predictions=vc.predict(X_test)\n",
    "vc_as=round(accuracy_score(Y_test,predictions),2)\n",
    "name='VotingClassifier accuracy score - '\n",
    "results.append((name,vc_as))\n",
    "print(name,vc_as)"
   ]
  },
  {
   "cell_type": "code",
   "execution_count": 62,
   "id": "2e133b21",
   "metadata": {},
   "outputs": [
    {
     "name": "stdout",
     "output_type": "stream",
     "text": [
      "BaggingClassifier accuracy score -  0.8\n"
     ]
    }
   ],
   "source": [
    "# 2/ I'll use bagging technique - Bootstrap Aggregation to reduce variance of idividual models in the ensemble\n",
    "# n_estimators is set to 300 classification trees\n",
    "# BaggingClassifier also shows the accuracy score 0.8\n",
    "dt=DecisionTreeClassifier()\n",
    "bc=BaggingClassifier(estimator=dt,n_estimators=300,n_jobs=-1)\n",
    "bc.fit(X_train, Y_train)\n",
    "predictions=vc.predict(X_test)\n",
    "bc_as=round(accuracy_score(Y_test,predictions),2)\n",
    "name='BaggingClassifier accuracy score - '\n",
    "results.append((name,bc_as))\n",
    "print(name,bc_as)"
   ]
  },
  {
   "cell_type": "code",
   "execution_count": 63,
   "id": "7d9ed84f",
   "metadata": {},
   "outputs": [
    {
     "name": "stdout",
     "output_type": "stream",
     "text": [
      "BaggingClassifier accuracy score -  0.8\n",
      "BaggingClassifier OOB accuracy score -  0.78\n"
     ]
    }
   ],
   "source": [
    "# the problem with Bagging is that some instances may not be sampled at all\n",
    "# for this time I'm going to retrieve the Out of Bag (OOB) instances, the accuracy score of OBB is 0.78\n",
    "bc=BaggingClassifier(estimator=dt,n_estimators=300,oob_score=True,n_jobs=-1)\n",
    "bc.fit(X_train, Y_train)\n",
    "predictions=vc.predict(X_test)\n",
    "bc_as=round(accuracy_score(Y_test,predictions),2)\n",
    "oob_as=round(bc.oob_score_,2)\n",
    "print('BaggingClassifier accuracy score - ',bc_as)\n",
    "print('BaggingClassifier OOB accuracy score - ',oob_as)"
   ]
  },
  {
   "cell_type": "code",
   "execution_count": 64,
   "id": "1ed8404a",
   "metadata": {},
   "outputs": [
    {
     "name": "stdout",
     "output_type": "stream",
     "text": [
      "RandomForestClassifier accuracy score -  0.82\n"
     ]
    }
   ],
   "source": [
    "# 3/ I'll deploy the Random Forests to further randomize the training of individual trees\n",
    "# RandomForestClassifier shows the accuracy score 0.82 \n",
    "rfc=RandomForestClassifier(n_estimators=400,min_samples_leaf=0.17,random_state=1)\n",
    "rfc.fit(X_train, Y_train)\n",
    "predictions=rfc.predict(X_test)\n",
    "rfc_as=round(accuracy_score(Y_test,predictions),2)\n",
    "name='RandomForestClassifier accuracy score - '\n",
    "results.append((name,rfc_as))\n",
    "print(name,rfc_as)"
   ]
  },
  {
   "cell_type": "code",
   "execution_count": 65,
   "id": "af071fc5",
   "metadata": {},
   "outputs": [
    {
     "data": {
      "image/png": "[encoded data removed]",
      "text/plain": [
       "<Figure size 640x480 with 1 Axes>"
      ]
     },
     "metadata": {},
     "output_type": "display_data"
    }
   ],
   "source": [
    "# let's analyze further the feature importance for the RandomForestClassifier \n",
    "# surprisingly the class of passengers (pclass) is more important vs sex \n",
    "importances_rfc=pd.Series(rfc.feature_importances_,index=['pclass', 'sex', 'age'])\n",
    "importances_rfc=importances_rfc.sort_values()\n",
    "importances_rfc.plot(kind='barh')\n",
    "plt.show()"
   ]
  },
  {
   "cell_type": "code",
   "execution_count": 66,
   "id": "ce6095c9",
   "metadata": {},
   "outputs": [
    {
     "name": "stdout",
     "output_type": "stream",
     "text": [
      "AdaBoostClassifier accuracy score -  0.78\n"
     ]
    }
   ],
   "source": [
    "# 4/ further I'll deploy boosting - the ensemble method combining several weak learners to form a strong learner\n",
    "# each predictor pays more attention to the instances wrongly predicted by its predecessor\n",
    "# and I start from the Adaptive Boosting (Adaboost) which gives the accuracy score 0.78\n",
    "abc=AdaBoostClassifier(estimator=dt,n_estimators=100)\n",
    "abc.fit(X_train, Y_train)\n",
    "predictions=abc.predict(X_test)\n",
    "abc_as=round(accuracy_score(Y_test,predictions),2)\n",
    "name='AdaBoostClassifier accuracy score - '\n",
    "results.append((name,abc_as))\n",
    "print(name,abc_as)"
   ]
  },
  {
   "cell_type": "code",
   "execution_count": 67,
   "id": "a3d4b8b9",
   "metadata": {},
   "outputs": [
    {
     "name": "stdout",
     "output_type": "stream",
     "text": [
      "GradientBoostingClassifier accuracy score -  0.82\n"
     ]
    }
   ],
   "source": [
    "# then I'll exiperiment with the Gradient Boosted Trees which improves the accuracy to 0.82\n",
    "gbc=GradientBoostingClassifier(n_estimators=300,max_depth=1,random_state=1)\n",
    "gbc.fit(X_train, Y_train)\n",
    "predictions=gbc.predict(X_test)\n",
    "gbc_as=round(accuracy_score(Y_test,predictions),2)\n",
    "name='GradientBoostingClassifier accuracy score - '\n",
    "results.append((name,gbc_as))\n",
    "print(name,gbc_as)"
   ]
  },
  {
   "cell_type": "code",
   "execution_count": 68,
   "id": "bd1ff97b",
   "metadata": {},
   "outputs": [
    {
     "name": "stdout",
     "output_type": "stream",
     "text": [
      "Stochastic GradientBoostingClassifier accuracy score -  0.82\n"
     ]
    }
   ],
   "source": [
    "# this time i'll deploy the Stochastic Gradient Boosting method to maximize the accuracy\n",
    "# each tree to sample 80% of the data for training\n",
    "# and each tree to use 20% of available features to perform the best split\n",
    "# SGBC gives the accuracy score 0.82\n",
    "sgbc=GradientBoostingClassifier(n_estimators=300,max_depth=1,random_state=1,subsample=0.8,max_features=0.2)\n",
    "sgbc.fit(X_train, Y_train)\n",
    "predictions=sgbc.predict(X_test)\n",
    "sgbc_as=round(accuracy_score(Y_test,predictions),2)\n",
    "name='Stochastic GradientBoostingClassifier accuracy score - '\n",
    "results.append((name,sgbc_as))\n",
    "print(name,sgbc_as)"
   ]
  },
  {
   "cell_type": "code",
   "execution_count": 69,
   "id": "b2a3cd1c",
   "metadata": {},
   "outputs": [
    {
     "name": "stdout",
     "output_type": "stream",
     "text": [
      "grid.best_params_:  {'max_depth': 6, 'max_features': 0.8, 'min_samples_leaf': 0.06}\n"
     ]
    }
   ],
   "source": [
    "# and finally to check whether the ensemble learning gave a good accuracy score \n",
    "# vs Hyperparameter Tuning I'll run GridSearchCV for DecisionTreeClassifier to compare the scores\n",
    "param_grid = {'max_depth': [1,2,3,4,5,6], \n",
    "              'min_samples_leaf': [0.04,0.06,0.08,0.1,0.12,0.14,0.16,0.18],\n",
    "              'max_features': [0.2,0.4,0.6,0.8,1]} \n",
    "grid = GridSearchCV(estimator=dt,param_grid=param_grid,scoring='accuracy',cv=10,n_jobs=-1)\n",
    "grid.fit(X_train, Y_train)\n",
    "print('grid.best_params_: ',grid.best_params_)"
   ]
  },
  {
   "cell_type": "code",
   "execution_count": 70,
   "id": "4e5791bb",
   "metadata": {},
   "outputs": [
    {
     "name": "stdout",
     "output_type": "stream",
     "text": [
      "GridSearchCV DecisionTreeClassifier accuracy score for the train set -  0.78\n"
     ]
    }
   ],
   "source": [
    "grid_as=round(grid.best_score_,2)\n",
    "print('GridSearchCV DecisionTreeClassifier accuracy score for the train set - ',grid_as)"
   ]
  },
  {
   "cell_type": "code",
   "execution_count": 71,
   "id": "d9392010",
   "metadata": {},
   "outputs": [
    {
     "name": "stdout",
     "output_type": "stream",
     "text": [
      "GridSearchCV DecisionTreeClassifier accuracy score for the test set -  0.81\n"
     ]
    }
   ],
   "source": [
    "# Hyperparameter Tuning for DecisionTreeClassifier gives the accuracy score 0.81\n",
    "best_model=grid.best_estimator_\n",
    "test_acc=round(best_model.score(X_test,Y_test),2)\n",
    "name='GridSearchCV DecisionTreeClassifier accuracy score for the test set - '\n",
    "results.append((name,test_acc))\n",
    "print(name,test_acc)"
   ]
  },
  {
   "cell_type": "code",
   "execution_count": 72,
   "id": "fda50a0a",
   "metadata": {},
   "outputs": [
    {
     "data": {
      "text/plain": [
       "[('VotingClassifier accuracy score - ', 0.8),\n",
       " ('BaggingClassifier accuracy score - ', 0.8),\n",
       " ('RandomForestClassifier accuracy score - ', 0.82),\n",
       " ('AdaBoostClassifier accuracy score - ', 0.78),\n",
       " ('GradientBoostingClassifier accuracy score - ', 0.82),\n",
       " ('Stochastic GradientBoostingClassifier accuracy score - ', 0.82),\n",
       " ('GridSearchCV DecisionTreeClassifier accuracy score for the test set - ',\n",
       "  0.81)]"
      ]
     },
     "execution_count": 72,
     "metadata": {},
     "output_type": "execute_result"
    }
   ],
   "source": [
    "# to summarize the results of the experiment:\n",
    "# I deployed different variations of ensemble learning algorythms (VotingClassifer, BaggingClassifier)\n",
    "# also used RandomForestClassifier (for the accuracy score and features selection)\n",
    "# then I utilized different option of boosters: AdaBoostClassifier, GradientBoostingClassifier, Stochastic GradientBoostingClassifier\n",
    "# and finally I launched GridSearchCV for Hyperparameter Tuning for DecisionTreeClassifier to compare the scores\n",
    "# the best accuracy score (0.82): RandomForestClassifier,Stochastic and GradientBoostingClassifier\n",
    "results"
   ]
  }
 ],
 "metadata": {
  "kernelspec": {
   "display_name": "Python 3 (ipykernel)",
   "language": "python",
   "name": "python3"
  },
  "language_info": {
   "codemirror_mode": {
    "name": "ipython",
    "version": 3
   },
   "file_extension": ".py",
   "mimetype": "text/x-python",
   "name": "python",
   "nbconvert_exporter": "python",
   "pygments_lexer": "ipython3",
   "version": "3.10.9"
  }
 },
 "nbformat": 4,
 "nbformat_minor": 5
}
