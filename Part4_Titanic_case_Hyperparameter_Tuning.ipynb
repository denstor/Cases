{
 "cells": [
  {
   "cell_type": "code",
   "execution_count": 14,
   "id": "c64e61c0",
   "metadata": {},
   "outputs": [
    {
     "name": "stdout",
     "output_type": "stream",
     "text": [
      "LR: 0.78 (0.03)\n",
      "LDA: 0.78 (0.03)\n",
      "KNN: 0.79 (0.04)\n",
      "NB: 0.78 (0.03)\n",
      "SVM: 0.78 (0.03)\n",
      "CART: 0.77 (0.05)\n"
     ]
    }
   ],
   "source": [
    "# Load libraries for this and next parts of the cases at once\n",
    "import pandas as pd\n",
    "import numpy as np\n",
    "from pandas.plotting import scatter_matrix\n",
    "from matplotlib import pyplot\n",
    "from sklearn.model_selection import train_test_split\n",
    "from sklearn.model_selection import cross_val_score\n",
    "from sklearn.model_selection import StratifiedKFold\n",
    "from sklearn.metrics import classification_report\n",
    "from sklearn.metrics import confusion_matrix\n",
    "from sklearn.metrics import accuracy_score\n",
    "from sklearn.linear_model import LinearRegression\n",
    "from sklearn.linear_model import LogisticRegression\n",
    "from sklearn.tree import DecisionTreeClassifier\n",
    "from sklearn.neighbors import KNeighborsClassifier\n",
    "from sklearn.discriminant_analysis import LinearDiscriminantAnalysis\n",
    "from sklearn.naive_bayes import GaussianNB\n",
    "from sklearn.svm import SVC\n",
    "from sklearn.model_selection import KFold\n",
    "from sklearn.preprocessing import StandardScaler\n",
    "from sklearn.ensemble import RandomForestClassifier\n",
    "from sklearn.model_selection import GridSearchCV\n",
    "\n",
    "# dataset downloading, selecting and reordering columns for further analysis\n",
    "dataset=pd.read_excel(\"cata.xlsx\")\n",
    "dataset=dataset.drop(['name','sibsp', 'parch', 'ticket', 'fare', \n",
    "                      'cabin', 'embarked', 'boat', 'body', 'home.dest'],axis=1)\n",
    "dataset=dataset[['survived','pclass', 'sex', 'age']]\n",
    "\n",
    "# checking the dataset for nan and deleting empty rows\n",
    "dataset.isna().sum()\n",
    "dataset=dataset.dropna(axis=0)\n",
    "\n",
    "# formatting the \"survived\" column into categorical\n",
    "dataset.survived.replace(to_replace=[0,1],value=[\"no\",\"yes\"], inplace=True)\n",
    "dataset.sex.replace(to_replace=[\"female\",\"male\"],value=[0,1], inplace=True)\n",
    "dataset = dataset.astype({'survived':'category','pclass':'int','sex':'int','age':'float'})\n",
    "\n",
    "# split-out validation dataset\n",
    "array = dataset.values\n",
    "X = array[:,1:]\n",
    "y = array[:,0]\n",
    "\n",
    "# set up the train & test split\n",
    "X_train, X_validation, Y_train, Y_validation = train_test_split(X, y, test_size=0.20, random_state=1)\n",
    "\n",
    "# standardize the dataset manually (except for the categorical values)\n",
    "m=np.mean(X_train[:,2])\n",
    "s=np.std(X_train[:,2])\n",
    "X_train[:,2]=(X_train[:,2]-m)/s\n",
    "X_validation[:,2]=(X_validation[:,2]-m)/s\n",
    "\n",
    "# the goal is to check different models for prediction (linear and non-linear ones)\n",
    "# and choose the most accurate one. the list of models is given below:\n",
    "# 1. Logistic Regression (LR)\n",
    "# 2. Linear Discriminant Analysis (LDA)\n",
    "# 3. K-Nearest Neighbors (KNN)\n",
    "# 4. Gaussian Naive Bayes (NB)\n",
    "# 5. Support Vector Machines (SVM)\n",
    "# 6. Classification Trees (CART)\n",
    "\n",
    "models = []\n",
    "models.append(('LR', LogisticRegression(solver='liblinear', multi_class='ovr')))\n",
    "models.append(('LDA', LinearDiscriminantAnalysis()))\n",
    "models.append(('KNN', KNeighborsClassifier()))\n",
    "models.append(('NB', GaussianNB()))\n",
    "models.append(('SVM', SVC()))\n",
    "models.append(('CART', DecisionTreeClassifier()))\n",
    "\n",
    "# evaluate each model in turn and show the final results\n",
    "# the Support Vector Machines (SVM) show the best results (correlation and std error)\n",
    "# all the models show good performance (results may slightly differ if re-run the code)\n",
    "#  K-Nearest Neighbors (KNN) shows the best R2\n",
    "results = []\n",
    "names = []\n",
    "for name, model in models:\n",
    "    kfold = StratifiedKFold(n_splits=10, random_state=1, shuffle=True)\n",
    "    cv_results = cross_val_score(model, X_train, Y_train, cv=kfold, scoring='accuracy')\n",
    "    results.append(cv_results)\n",
    "    names.append(name)\n",
    "    print('%s: %.2f (%.2f)' % (name, cv_results.mean(), cv_results.std()))\n"
   ]
  },
  {
   "cell_type": "code",
   "execution_count": 15,
   "id": "074bde8e",
   "metadata": {},
   "outputs": [],
   "source": [
    "# in this part I'll use two models: LR and SVC (just for an experiment)\n",
    "# in order to improve performance with Hyperparameter Tuning"
   ]
  },
  {
   "cell_type": "code",
   "execution_count": 16,
   "id": "4f843771",
   "metadata": {},
   "outputs": [],
   "source": [
    "# defining parameter range for SVC model (initially the worst one)\n",
    "param_grid = {'C': [50, 10, 1.0, 0.1, 0.01], \n",
    "              'gamma': ['scale'],\n",
    "              'kernel': ['linear','poly', 'rbf', 'sigmoid']} \n",
    "\n",
    "grid = GridSearchCV(SVC(), param_grid, refit = True, verbose = 3)"
   ]
  },
  {
   "cell_type": "code",
   "execution_count": 17,
   "id": "7d074561",
   "metadata": {},
   "outputs": [
    {
     "name": "stdout",
     "output_type": "stream",
     "text": [
      "Fitting 5 folds for each of 20 candidates, totalling 100 fits\n",
      "[CV 1/5] END ..C=50, gamma=scale, kernel=linear;, score=0.810 total time=   0.0s\n",
      "[CV 2/5] END ..C=50, gamma=scale, kernel=linear;, score=0.808 total time=   0.1s\n",
      "[CV 3/5] END ..C=50, gamma=scale, kernel=linear;, score=0.796 total time=   0.0s\n",
      "[CV 4/5] END ..C=50, gamma=scale, kernel=linear;, score=0.737 total time=   0.0s\n",
      "[CV 5/5] END ..C=50, gamma=scale, kernel=linear;, score=0.725 total time=   0.0s\n",
      "[CV 1/5] END ....C=50, gamma=scale, kernel=poly;, score=0.786 total time=   0.1s\n",
      "[CV 2/5] END ....C=50, gamma=scale, kernel=poly;, score=0.826 total time=   0.2s\n",
      "[CV 3/5] END ....C=50, gamma=scale, kernel=poly;, score=0.796 total time=   0.3s\n",
      "[CV 4/5] END ....C=50, gamma=scale, kernel=poly;, score=0.737 total time=   1.6s\n",
      "[CV 5/5] END ....C=50, gamma=scale, kernel=poly;, score=0.719 total time=   0.3s\n",
      "[CV 1/5] END .....C=50, gamma=scale, kernel=rbf;, score=0.798 total time=   0.0s\n",
      "[CV 2/5] END .....C=50, gamma=scale, kernel=rbf;, score=0.802 total time=   0.0s\n",
      "[CV 3/5] END .....C=50, gamma=scale, kernel=rbf;, score=0.832 total time=   0.0s\n",
      "[CV 4/5] END .....C=50, gamma=scale, kernel=rbf;, score=0.772 total time=   0.0s\n",
      "[CV 5/5] END .....C=50, gamma=scale, kernel=rbf;, score=0.749 total time=   0.0s\n",
      "[CV 1/5] END .C=50, gamma=scale, kernel=sigmoid;, score=0.417 total time=   0.0s\n",
      "[CV 2/5] END .C=50, gamma=scale, kernel=sigmoid;, score=0.467 total time=   0.0s\n",
      "[CV 3/5] END .C=50, gamma=scale, kernel=sigmoid;, score=0.503 total time=   0.0s\n",
      "[CV 4/5] END .C=50, gamma=scale, kernel=sigmoid;, score=0.467 total time=   0.0s\n",
      "[CV 5/5] END .C=50, gamma=scale, kernel=sigmoid;, score=0.533 total time=   0.0s\n",
      "[CV 1/5] END ..C=10, gamma=scale, kernel=linear;, score=0.810 total time=   0.0s\n",
      "[CV 2/5] END ..C=10, gamma=scale, kernel=linear;, score=0.808 total time=   0.0s\n",
      "[CV 3/5] END ..C=10, gamma=scale, kernel=linear;, score=0.796 total time=   0.0s\n",
      "[CV 4/5] END ..C=10, gamma=scale, kernel=linear;, score=0.737 total time=   0.0s\n",
      "[CV 5/5] END ..C=10, gamma=scale, kernel=linear;, score=0.725 total time=   0.0s\n",
      "[CV 1/5] END ....C=10, gamma=scale, kernel=poly;, score=0.786 total time=   0.0s\n",
      "[CV 2/5] END ....C=10, gamma=scale, kernel=poly;, score=0.808 total time=   0.0s\n",
      "[CV 3/5] END ....C=10, gamma=scale, kernel=poly;, score=0.796 total time=   0.0s\n",
      "[CV 4/5] END ....C=10, gamma=scale, kernel=poly;, score=0.737 total time=   0.0s\n",
      "[CV 5/5] END ....C=10, gamma=scale, kernel=poly;, score=0.725 total time=   0.0s\n",
      "[CV 1/5] END .....C=10, gamma=scale, kernel=rbf;, score=0.786 total time=   0.0s\n",
      "[CV 2/5] END .....C=10, gamma=scale, kernel=rbf;, score=0.802 total time=   0.0s\n",
      "[CV 3/5] END .....C=10, gamma=scale, kernel=rbf;, score=0.802 total time=   0.0s\n",
      "[CV 4/5] END .....C=10, gamma=scale, kernel=rbf;, score=0.772 total time=   0.0s\n",
      "[CV 5/5] END .....C=10, gamma=scale, kernel=rbf;, score=0.754 total time=   0.0s\n",
      "[CV 1/5] END .C=10, gamma=scale, kernel=sigmoid;, score=0.417 total time=   0.0s\n",
      "[CV 2/5] END .C=10, gamma=scale, kernel=sigmoid;, score=0.467 total time=   0.0s\n",
      "[CV 3/5] END .C=10, gamma=scale, kernel=sigmoid;, score=0.503 total time=   0.0s\n",
      "[CV 4/5] END .C=10, gamma=scale, kernel=sigmoid;, score=0.461 total time=   0.0s\n",
      "[CV 5/5] END .C=10, gamma=scale, kernel=sigmoid;, score=0.539 total time=   0.0s\n",
      "[CV 1/5] END .C=1.0, gamma=scale, kernel=linear;, score=0.810 total time=   0.0s\n",
      "[CV 2/5] END .C=1.0, gamma=scale, kernel=linear;, score=0.808 total time=   0.0s\n",
      "[CV 3/5] END .C=1.0, gamma=scale, kernel=linear;, score=0.796 total time=   0.0s\n",
      "[CV 4/5] END .C=1.0, gamma=scale, kernel=linear;, score=0.737 total time=   0.0s\n",
      "[CV 5/5] END .C=1.0, gamma=scale, kernel=linear;, score=0.725 total time=   0.0s\n",
      "[CV 1/5] END ...C=1.0, gamma=scale, kernel=poly;, score=0.810 total time=   0.0s\n",
      "[CV 2/5] END ...C=1.0, gamma=scale, kernel=poly;, score=0.808 total time=   0.0s\n",
      "[CV 3/5] END ...C=1.0, gamma=scale, kernel=poly;, score=0.796 total time=   0.0s\n",
      "[CV 4/5] END ...C=1.0, gamma=scale, kernel=poly;, score=0.737 total time=   0.0s\n",
      "[CV 5/5] END ...C=1.0, gamma=scale, kernel=poly;, score=0.725 total time=   0.0s\n",
      "[CV 1/5] END ....C=1.0, gamma=scale, kernel=rbf;, score=0.774 total time=   0.0s\n",
      "[CV 2/5] END ....C=1.0, gamma=scale, kernel=rbf;, score=0.808 total time=   0.0s\n",
      "[CV 3/5] END ....C=1.0, gamma=scale, kernel=rbf;, score=0.802 total time=   0.0s\n",
      "[CV 4/5] END ....C=1.0, gamma=scale, kernel=rbf;, score=0.737 total time=   0.0s\n",
      "[CV 5/5] END ....C=1.0, gamma=scale, kernel=rbf;, score=0.725 total time=   0.0s\n",
      "[CV 1/5] END C=1.0, gamma=scale, kernel=sigmoid;, score=0.429 total time=   0.0s\n",
      "[CV 2/5] END C=1.0, gamma=scale, kernel=sigmoid;, score=0.491 total time=   0.0s\n",
      "[CV 3/5] END C=1.0, gamma=scale, kernel=sigmoid;, score=0.497 total time=   0.0s\n",
      "[CV 4/5] END C=1.0, gamma=scale, kernel=sigmoid;, score=0.383 total time=   0.0s\n",
      "[CV 5/5] END C=1.0, gamma=scale, kernel=sigmoid;, score=0.497 total time=   0.0s\n",
      "[CV 1/5] END .C=0.1, gamma=scale, kernel=linear;, score=0.810 total time=   0.0s\n",
      "[CV 2/5] END .C=0.1, gamma=scale, kernel=linear;, score=0.808 total time=   0.0s\n",
      "[CV 3/5] END .C=0.1, gamma=scale, kernel=linear;, score=0.796 total time=   0.0s\n",
      "[CV 4/5] END .C=0.1, gamma=scale, kernel=linear;, score=0.737 total time=   0.0s\n",
      "[CV 5/5] END .C=0.1, gamma=scale, kernel=linear;, score=0.725 total time=   0.0s\n",
      "[CV 1/5] END ...C=0.1, gamma=scale, kernel=poly;, score=0.810 total time=   0.0s\n",
      "[CV 2/5] END ...C=0.1, gamma=scale, kernel=poly;, score=0.784 total time=   0.0s\n",
      "[CV 3/5] END ...C=0.1, gamma=scale, kernel=poly;, score=0.749 total time=   0.0s\n",
      "[CV 4/5] END ...C=0.1, gamma=scale, kernel=poly;, score=0.760 total time=   0.0s\n",
      "[CV 5/5] END ...C=0.1, gamma=scale, kernel=poly;, score=0.671 total time=   0.0s\n",
      "[CV 1/5] END ....C=0.1, gamma=scale, kernel=rbf;, score=0.810 total time=   0.0s\n",
      "[CV 2/5] END ....C=0.1, gamma=scale, kernel=rbf;, score=0.808 total time=   0.0s\n",
      "[CV 3/5] END ....C=0.1, gamma=scale, kernel=rbf;, score=0.796 total time=   0.0s\n",
      "[CV 4/5] END ....C=0.1, gamma=scale, kernel=rbf;, score=0.737 total time=   0.0s\n",
      "[CV 5/5] END ....C=0.1, gamma=scale, kernel=rbf;, score=0.725 total time=   0.0s\n",
      "[CV 1/5] END C=0.1, gamma=scale, kernel=sigmoid;, score=0.482 total time=   0.0s\n",
      "[CV 2/5] END C=0.1, gamma=scale, kernel=sigmoid;, score=0.563 total time=   0.0s\n",
      "[CV 3/5] END C=0.1, gamma=scale, kernel=sigmoid;, score=0.569 total time=   0.0s\n",
      "[CV 4/5] END C=0.1, gamma=scale, kernel=sigmoid;, score=0.569 total time=   0.0s\n",
      "[CV 5/5] END C=0.1, gamma=scale, kernel=sigmoid;, score=0.485 total time=   0.0s\n",
      "[CV 1/5] END C=0.01, gamma=scale, kernel=linear;, score=0.786 total time=   0.0s\n",
      "[CV 2/5] END C=0.01, gamma=scale, kernel=linear;, score=0.826 total time=   0.0s\n",
      "[CV 3/5] END C=0.01, gamma=scale, kernel=linear;, score=0.832 total time=   0.0s\n",
      "[CV 4/5] END C=0.01, gamma=scale, kernel=linear;, score=0.737 total time=   0.0s\n",
      "[CV 5/5] END C=0.01, gamma=scale, kernel=linear;, score=0.725 total time=   0.0s\n",
      "[CV 1/5] END ..C=0.01, gamma=scale, kernel=poly;, score=0.673 total time=   0.0s\n",
      "[CV 2/5] END ..C=0.01, gamma=scale, kernel=poly;, score=0.659 total time=   0.0s\n",
      "[CV 3/5] END ..C=0.01, gamma=scale, kernel=poly;, score=0.605 total time=   0.0s\n",
      "[CV 4/5] END ..C=0.01, gamma=scale, kernel=poly;, score=0.665 total time=   0.0s\n",
      "[CV 5/5] END ..C=0.01, gamma=scale, kernel=poly;, score=0.575 total time=   0.0s\n",
      "[CV 1/5] END ...C=0.01, gamma=scale, kernel=rbf;, score=0.595 total time=   0.0s\n",
      "[CV 2/5] END ...C=0.01, gamma=scale, kernel=rbf;, score=0.593 total time=   0.0s\n",
      "[CV 3/5] END ...C=0.01, gamma=scale, kernel=rbf;, score=0.593 total time=   0.0s\n",
      "[CV 4/5] END ...C=0.01, gamma=scale, kernel=rbf;, score=0.593 total time=   0.0s\n",
      "[CV 5/5] END ...C=0.01, gamma=scale, kernel=rbf;, score=0.593 total time=   0.0s\n",
      "[CV 1/5] END C=0.01, gamma=scale, kernel=sigmoid;, score=0.595 total time=   0.0s\n",
      "[CV 2/5] END C=0.01, gamma=scale, kernel=sigmoid;, score=0.593 total time=   0.0s\n",
      "[CV 3/5] END C=0.01, gamma=scale, kernel=sigmoid;, score=0.593 total time=   0.0s\n",
      "[CV 4/5] END C=0.01, gamma=scale, kernel=sigmoid;, score=0.593 total time=   0.0s\n",
      "[CV 5/5] END C=0.01, gamma=scale, kernel=sigmoid;, score=0.593 total time=   0.0s\n"
     ]
    },
    {
     "data": {
      "text/html": [
       "<style>#sk-container-id-5 {color: black;background-color: white;}#sk-container-id-5 pre{padding: 0;}#sk-container-id-5 div.sk-toggleable {background-color: white;}#sk-container-id-5 label.sk-toggleable__label {cursor: pointer;display: block;width: 100%;margin-bottom: 0;padding: 0.3em;box-sizing: border-box;text-align: center;}#sk-container-id-5 label.sk-toggleable__label-arrow:before {content: \"▸\";float: left;margin-right: 0.25em;color: #696969;}#sk-container-id-5 label.sk-toggleable__label-arrow:hover:before {color: black;}#sk-container-id-5 div.sk-estimator:hover label.sk-toggleable__label-arrow:before {color: black;}#sk-container-id-5 div.sk-toggleable__content {max-height: 0;max-width: 0;overflow: hidden;text-align: left;background-color: #f0f8ff;}#sk-container-id-5 div.sk-toggleable__content pre {margin: 0.2em;color: black;border-radius: 0.25em;background-color: #f0f8ff;}#sk-container-id-5 input.sk-toggleable__control:checked~div.sk-toggleable__content {max-height: 200px;max-width: 100%;overflow: auto;}#sk-container-id-5 input.sk-toggleable__control:checked~label.sk-toggleable__label-arrow:before {content: \"▾\";}#sk-container-id-5 div.sk-estimator input.sk-toggleable__control:checked~label.sk-toggleable__label {background-color: #d4ebff;}#sk-container-id-5 div.sk-label input.sk-toggleable__control:checked~label.sk-toggleable__label {background-color: #d4ebff;}#sk-container-id-5 input.sk-hidden--visually {border: 0;clip: rect(1px 1px 1px 1px);clip: rect(1px, 1px, 1px, 1px);height: 1px;margin: -1px;overflow: hidden;padding: 0;position: absolute;width: 1px;}#sk-container-id-5 div.sk-estimator {font-family: monospace;background-color: #f0f8ff;border: 1px dotted black;border-radius: 0.25em;box-sizing: border-box;margin-bottom: 0.5em;}#sk-container-id-5 div.sk-estimator:hover {background-color: #d4ebff;}#sk-container-id-5 div.sk-parallel-item::after {content: \"\";width: 100%;border-bottom: 1px solid gray;flex-grow: 1;}#sk-container-id-5 div.sk-label:hover label.sk-toggleable__label {background-color: #d4ebff;}#sk-container-id-5 div.sk-serial::before {content: \"\";position: absolute;border-left: 1px solid gray;box-sizing: border-box;top: 0;bottom: 0;left: 50%;z-index: 0;}#sk-container-id-5 div.sk-serial {display: flex;flex-direction: column;align-items: center;background-color: white;padding-right: 0.2em;padding-left: 0.2em;position: relative;}#sk-container-id-5 div.sk-item {position: relative;z-index: 1;}#sk-container-id-5 div.sk-parallel {display: flex;align-items: stretch;justify-content: center;background-color: white;position: relative;}#sk-container-id-5 div.sk-item::before, #sk-container-id-5 div.sk-parallel-item::before {content: \"\";position: absolute;border-left: 1px solid gray;box-sizing: border-box;top: 0;bottom: 0;left: 50%;z-index: -1;}#sk-container-id-5 div.sk-parallel-item {display: flex;flex-direction: column;z-index: 1;position: relative;background-color: white;}#sk-container-id-5 div.sk-parallel-item:first-child::after {align-self: flex-end;width: 50%;}#sk-container-id-5 div.sk-parallel-item:last-child::after {align-self: flex-start;width: 50%;}#sk-container-id-5 div.sk-parallel-item:only-child::after {width: 0;}#sk-container-id-5 div.sk-dashed-wrapped {border: 1px dashed gray;margin: 0 0.4em 0.5em 0.4em;box-sizing: border-box;padding-bottom: 0.4em;background-color: white;}#sk-container-id-5 div.sk-label label {font-family: monospace;font-weight: bold;display: inline-block;line-height: 1.2em;}#sk-container-id-5 div.sk-label-container {text-align: center;}#sk-container-id-5 div.sk-container {/* jupyter's `normalize.less` sets `[hidden] { display: none; }` but bootstrap.min.css set `[hidden] { display: none !important; }` so we also need the `!important` here to be able to override the default hidden behavior on the sphinx rendered scikit-learn.org. See: https://github.com/scikit-learn/scikit-learn/issues/21755 */display: inline-block !important;position: relative;}#sk-container-id-5 div.sk-text-repr-fallback {display: none;}</style><div id=\"sk-container-id-5\" class=\"sk-top-container\"><div class=\"sk-text-repr-fallback\"><pre>GridSearchCV(estimator=SVC(),\n",
       "             param_grid={&#x27;C&#x27;: [50, 10, 1.0, 0.1, 0.01], &#x27;gamma&#x27;: [&#x27;scale&#x27;],\n",
       "                         &#x27;kernel&#x27;: [&#x27;linear&#x27;, &#x27;poly&#x27;, &#x27;rbf&#x27;, &#x27;sigmoid&#x27;]},\n",
       "             verbose=3)</pre><b>In a Jupyter environment, please rerun this cell to show the HTML representation or trust the notebook. <br />On GitHub, the HTML representation is unable to render, please try loading this page with nbviewer.org.</b></div><div class=\"sk-container\" hidden><div class=\"sk-item sk-dashed-wrapped\"><div class=\"sk-label-container\"><div class=\"sk-label sk-toggleable\"><input class=\"sk-toggleable__control sk-hidden--visually\" id=\"sk-estimator-id-9\" type=\"checkbox\" ><label for=\"sk-estimator-id-9\" class=\"sk-toggleable__label sk-toggleable__label-arrow\">GridSearchCV</label><div class=\"sk-toggleable__content\"><pre>GridSearchCV(estimator=SVC(),\n",
       "             param_grid={&#x27;C&#x27;: [50, 10, 1.0, 0.1, 0.01], &#x27;gamma&#x27;: [&#x27;scale&#x27;],\n",
       "                         &#x27;kernel&#x27;: [&#x27;linear&#x27;, &#x27;poly&#x27;, &#x27;rbf&#x27;, &#x27;sigmoid&#x27;]},\n",
       "             verbose=3)</pre></div></div></div><div class=\"sk-parallel\"><div class=\"sk-parallel-item\"><div class=\"sk-item\"><div class=\"sk-label-container\"><div class=\"sk-label sk-toggleable\"><input class=\"sk-toggleable__control sk-hidden--visually\" id=\"sk-estimator-id-10\" type=\"checkbox\" ><label for=\"sk-estimator-id-10\" class=\"sk-toggleable__label sk-toggleable__label-arrow\">estimator: SVC</label><div class=\"sk-toggleable__content\"><pre>SVC()</pre></div></div></div><div class=\"sk-serial\"><div class=\"sk-item\"><div class=\"sk-estimator sk-toggleable\"><input class=\"sk-toggleable__control sk-hidden--visually\" id=\"sk-estimator-id-11\" type=\"checkbox\" ><label for=\"sk-estimator-id-11\" class=\"sk-toggleable__label sk-toggleable__label-arrow\">SVC</label><div class=\"sk-toggleable__content\"><pre>SVC()</pre></div></div></div></div></div></div></div></div></div></div>"
      ],
      "text/plain": [
       "GridSearchCV(estimator=SVC(),\n",
       "             param_grid={'C': [50, 10, 1.0, 0.1, 0.01], 'gamma': ['scale'],\n",
       "                         'kernel': ['linear', 'poly', 'rbf', 'sigmoid']},\n",
       "             verbose=3)"
      ]
     },
     "execution_count": 17,
     "metadata": {},
     "output_type": "execute_result"
    }
   ],
   "source": [
    "# fitting the model for grid search\n",
    "grid.fit(X_train, Y_train)"
   ]
  },
  {
   "cell_type": "code",
   "execution_count": 18,
   "id": "ab69df23",
   "metadata": {},
   "outputs": [
    {
     "data": {
      "text/plain": [
       "{'C': 50, 'gamma': 'scale', 'kernel': 'rbf'}"
      ]
     },
     "execution_count": 18,
     "metadata": {},
     "output_type": "execute_result"
    }
   ],
   "source": [
    "# the best parameters after tuning\n",
    "grid.best_params_"
   ]
  },
  {
   "cell_type": "code",
   "execution_count": 19,
   "id": "83980224",
   "metadata": {},
   "outputs": [
    {
     "data": {
      "text/html": [
       "<style>#sk-container-id-6 {color: black;background-color: white;}#sk-container-id-6 pre{padding: 0;}#sk-container-id-6 div.sk-toggleable {background-color: white;}#sk-container-id-6 label.sk-toggleable__label {cursor: pointer;display: block;width: 100%;margin-bottom: 0;padding: 0.3em;box-sizing: border-box;text-align: center;}#sk-container-id-6 label.sk-toggleable__label-arrow:before {content: \"▸\";float: left;margin-right: 0.25em;color: #696969;}#sk-container-id-6 label.sk-toggleable__label-arrow:hover:before {color: black;}#sk-container-id-6 div.sk-estimator:hover label.sk-toggleable__label-arrow:before {color: black;}#sk-container-id-6 div.sk-toggleable__content {max-height: 0;max-width: 0;overflow: hidden;text-align: left;background-color: #f0f8ff;}#sk-container-id-6 div.sk-toggleable__content pre {margin: 0.2em;color: black;border-radius: 0.25em;background-color: #f0f8ff;}#sk-container-id-6 input.sk-toggleable__control:checked~div.sk-toggleable__content {max-height: 200px;max-width: 100%;overflow: auto;}#sk-container-id-6 input.sk-toggleable__control:checked~label.sk-toggleable__label-arrow:before {content: \"▾\";}#sk-container-id-6 div.sk-estimator input.sk-toggleable__control:checked~label.sk-toggleable__label {background-color: #d4ebff;}#sk-container-id-6 div.sk-label input.sk-toggleable__control:checked~label.sk-toggleable__label {background-color: #d4ebff;}#sk-container-id-6 input.sk-hidden--visually {border: 0;clip: rect(1px 1px 1px 1px);clip: rect(1px, 1px, 1px, 1px);height: 1px;margin: -1px;overflow: hidden;padding: 0;position: absolute;width: 1px;}#sk-container-id-6 div.sk-estimator {font-family: monospace;background-color: #f0f8ff;border: 1px dotted black;border-radius: 0.25em;box-sizing: border-box;margin-bottom: 0.5em;}#sk-container-id-6 div.sk-estimator:hover {background-color: #d4ebff;}#sk-container-id-6 div.sk-parallel-item::after {content: \"\";width: 100%;border-bottom: 1px solid gray;flex-grow: 1;}#sk-container-id-6 div.sk-label:hover label.sk-toggleable__label {background-color: #d4ebff;}#sk-container-id-6 div.sk-serial::before {content: \"\";position: absolute;border-left: 1px solid gray;box-sizing: border-box;top: 0;bottom: 0;left: 50%;z-index: 0;}#sk-container-id-6 div.sk-serial {display: flex;flex-direction: column;align-items: center;background-color: white;padding-right: 0.2em;padding-left: 0.2em;position: relative;}#sk-container-id-6 div.sk-item {position: relative;z-index: 1;}#sk-container-id-6 div.sk-parallel {display: flex;align-items: stretch;justify-content: center;background-color: white;position: relative;}#sk-container-id-6 div.sk-item::before, #sk-container-id-6 div.sk-parallel-item::before {content: \"\";position: absolute;border-left: 1px solid gray;box-sizing: border-box;top: 0;bottom: 0;left: 50%;z-index: -1;}#sk-container-id-6 div.sk-parallel-item {display: flex;flex-direction: column;z-index: 1;position: relative;background-color: white;}#sk-container-id-6 div.sk-parallel-item:first-child::after {align-self: flex-end;width: 50%;}#sk-container-id-6 div.sk-parallel-item:last-child::after {align-self: flex-start;width: 50%;}#sk-container-id-6 div.sk-parallel-item:only-child::after {width: 0;}#sk-container-id-6 div.sk-dashed-wrapped {border: 1px dashed gray;margin: 0 0.4em 0.5em 0.4em;box-sizing: border-box;padding-bottom: 0.4em;background-color: white;}#sk-container-id-6 div.sk-label label {font-family: monospace;font-weight: bold;display: inline-block;line-height: 1.2em;}#sk-container-id-6 div.sk-label-container {text-align: center;}#sk-container-id-6 div.sk-container {/* jupyter's `normalize.less` sets `[hidden] { display: none; }` but bootstrap.min.css set `[hidden] { display: none !important; }` so we also need the `!important` here to be able to override the default hidden behavior on the sphinx rendered scikit-learn.org. See: https://github.com/scikit-learn/scikit-learn/issues/21755 */display: inline-block !important;position: relative;}#sk-container-id-6 div.sk-text-repr-fallback {display: none;}</style><div id=\"sk-container-id-6\" class=\"sk-top-container\"><div class=\"sk-text-repr-fallback\"><pre>SVC(C=50)</pre><b>In a Jupyter environment, please rerun this cell to show the HTML representation or trust the notebook. <br />On GitHub, the HTML representation is unable to render, please try loading this page with nbviewer.org.</b></div><div class=\"sk-container\" hidden><div class=\"sk-item\"><div class=\"sk-estimator sk-toggleable\"><input class=\"sk-toggleable__control sk-hidden--visually\" id=\"sk-estimator-id-12\" type=\"checkbox\" checked><label for=\"sk-estimator-id-12\" class=\"sk-toggleable__label sk-toggleable__label-arrow\">SVC</label><div class=\"sk-toggleable__content\"><pre>SVC(C=50)</pre></div></div></div></div></div>"
      ],
      "text/plain": [
       "SVC(C=50)"
      ]
     },
     "execution_count": 19,
     "metadata": {},
     "output_type": "execute_result"
    }
   ],
   "source": [
    "# how our model looks after hyper-parameter tuning\n",
    "grid.best_estimator_"
   ]
  },
  {
   "cell_type": "code",
   "execution_count": 20,
   "id": "f1554f75",
   "metadata": {},
   "outputs": [
    {
     "name": "stdout",
     "output_type": "stream",
     "text": [
      "accuracy_score\n",
      "0.83\n",
      "________________________________________________________\n",
      "confusion_matrix\n",
      "[[106  17]\n",
      " [ 18  69]]\n",
      "________________________________________________________\n",
      "classification_report\n",
      "              precision    recall  f1-score   support\n",
      "\n",
      "          no       0.85      0.86      0.86       123\n",
      "         yes       0.80      0.79      0.80        87\n",
      "\n",
      "    accuracy                           0.83       210\n",
      "   macro avg       0.83      0.83      0.83       210\n",
      "weighted avg       0.83      0.83      0.83       210\n",
      "\n"
     ]
    }
   ],
   "source": [
    "# print accuracy & classification report\n",
    "# accuracy improved to 0.83\n",
    "# high f1-score (precision, recall) (0.83)\n",
    "# confusion matrix: T1 error (FP) - 18, T2 error (FN) - 17\n",
    "grid_predictions = grid.predict(X_validation)\n",
    "print(\"accuracy_score\")\n",
    "print('%.2f' % accuracy_score(Y_validation, grid_predictions))\n",
    "print(\"________________________________________________________\")\n",
    "print(\"confusion_matrix\")\n",
    "print(confusion_matrix(Y_validation, grid_predictions))\n",
    "print(\"________________________________________________________\")\n",
    "print(\"classification_report\")\n",
    "print(classification_report(Y_validation, grid_predictions))"
   ]
  },
  {
   "cell_type": "code",
   "execution_count": 21,
   "id": "5ea689b4",
   "metadata": {},
   "outputs": [],
   "source": [
    "# improving Accuracy with Hyperparameter Tuning for the initially best model (LR)\n",
    "# defining parameter range for LR model \n",
    "param_grid = {'solver' : ['newton-cg', 'lbfgs', 'liblinear'], \n",
    "              'penalty' : ['l2'],\n",
    "              'C' : [100, 10, 1.0, 0.1, 0.01]} \n",
    "grid = GridSearchCV(LogisticRegression(), param_grid, n_jobs=-1, cv=kfold, error_score=0)"
   ]
  },
  {
   "cell_type": "code",
   "execution_count": 22,
   "id": "cc40d4ea",
   "metadata": {},
   "outputs": [
    {
     "data": {
      "text/html": [
       "<style>#sk-container-id-7 {color: black;background-color: white;}#sk-container-id-7 pre{padding: 0;}#sk-container-id-7 div.sk-toggleable {background-color: white;}#sk-container-id-7 label.sk-toggleable__label {cursor: pointer;display: block;width: 100%;margin-bottom: 0;padding: 0.3em;box-sizing: border-box;text-align: center;}#sk-container-id-7 label.sk-toggleable__label-arrow:before {content: \"▸\";float: left;margin-right: 0.25em;color: #696969;}#sk-container-id-7 label.sk-toggleable__label-arrow:hover:before {color: black;}#sk-container-id-7 div.sk-estimator:hover label.sk-toggleable__label-arrow:before {color: black;}#sk-container-id-7 div.sk-toggleable__content {max-height: 0;max-width: 0;overflow: hidden;text-align: left;background-color: #f0f8ff;}#sk-container-id-7 div.sk-toggleable__content pre {margin: 0.2em;color: black;border-radius: 0.25em;background-color: #f0f8ff;}#sk-container-id-7 input.sk-toggleable__control:checked~div.sk-toggleable__content {max-height: 200px;max-width: 100%;overflow: auto;}#sk-container-id-7 input.sk-toggleable__control:checked~label.sk-toggleable__label-arrow:before {content: \"▾\";}#sk-container-id-7 div.sk-estimator input.sk-toggleable__control:checked~label.sk-toggleable__label {background-color: #d4ebff;}#sk-container-id-7 div.sk-label input.sk-toggleable__control:checked~label.sk-toggleable__label {background-color: #d4ebff;}#sk-container-id-7 input.sk-hidden--visually {border: 0;clip: rect(1px 1px 1px 1px);clip: rect(1px, 1px, 1px, 1px);height: 1px;margin: -1px;overflow: hidden;padding: 0;position: absolute;width: 1px;}#sk-container-id-7 div.sk-estimator {font-family: monospace;background-color: #f0f8ff;border: 1px dotted black;border-radius: 0.25em;box-sizing: border-box;margin-bottom: 0.5em;}#sk-container-id-7 div.sk-estimator:hover {background-color: #d4ebff;}#sk-container-id-7 div.sk-parallel-item::after {content: \"\";width: 100%;border-bottom: 1px solid gray;flex-grow: 1;}#sk-container-id-7 div.sk-label:hover label.sk-toggleable__label {background-color: #d4ebff;}#sk-container-id-7 div.sk-serial::before {content: \"\";position: absolute;border-left: 1px solid gray;box-sizing: border-box;top: 0;bottom: 0;left: 50%;z-index: 0;}#sk-container-id-7 div.sk-serial {display: flex;flex-direction: column;align-items: center;background-color: white;padding-right: 0.2em;padding-left: 0.2em;position: relative;}#sk-container-id-7 div.sk-item {position: relative;z-index: 1;}#sk-container-id-7 div.sk-parallel {display: flex;align-items: stretch;justify-content: center;background-color: white;position: relative;}#sk-container-id-7 div.sk-item::before, #sk-container-id-7 div.sk-parallel-item::before {content: \"\";position: absolute;border-left: 1px solid gray;box-sizing: border-box;top: 0;bottom: 0;left: 50%;z-index: -1;}#sk-container-id-7 div.sk-parallel-item {display: flex;flex-direction: column;z-index: 1;position: relative;background-color: white;}#sk-container-id-7 div.sk-parallel-item:first-child::after {align-self: flex-end;width: 50%;}#sk-container-id-7 div.sk-parallel-item:last-child::after {align-self: flex-start;width: 50%;}#sk-container-id-7 div.sk-parallel-item:only-child::after {width: 0;}#sk-container-id-7 div.sk-dashed-wrapped {border: 1px dashed gray;margin: 0 0.4em 0.5em 0.4em;box-sizing: border-box;padding-bottom: 0.4em;background-color: white;}#sk-container-id-7 div.sk-label label {font-family: monospace;font-weight: bold;display: inline-block;line-height: 1.2em;}#sk-container-id-7 div.sk-label-container {text-align: center;}#sk-container-id-7 div.sk-container {/* jupyter's `normalize.less` sets `[hidden] { display: none; }` but bootstrap.min.css set `[hidden] { display: none !important; }` so we also need the `!important` here to be able to override the default hidden behavior on the sphinx rendered scikit-learn.org. See: https://github.com/scikit-learn/scikit-learn/issues/21755 */display: inline-block !important;position: relative;}#sk-container-id-7 div.sk-text-repr-fallback {display: none;}</style><div id=\"sk-container-id-7\" class=\"sk-top-container\"><div class=\"sk-text-repr-fallback\"><pre>GridSearchCV(cv=StratifiedKFold(n_splits=10, random_state=1, shuffle=True),\n",
       "             error_score=0, estimator=LogisticRegression(), n_jobs=-1,\n",
       "             param_grid={&#x27;C&#x27;: [100, 10, 1.0, 0.1, 0.01], &#x27;penalty&#x27;: [&#x27;l2&#x27;],\n",
       "                         &#x27;solver&#x27;: [&#x27;newton-cg&#x27;, &#x27;lbfgs&#x27;, &#x27;liblinear&#x27;]})</pre><b>In a Jupyter environment, please rerun this cell to show the HTML representation or trust the notebook. <br />On GitHub, the HTML representation is unable to render, please try loading this page with nbviewer.org.</b></div><div class=\"sk-container\" hidden><div class=\"sk-item sk-dashed-wrapped\"><div class=\"sk-label-container\"><div class=\"sk-label sk-toggleable\"><input class=\"sk-toggleable__control sk-hidden--visually\" id=\"sk-estimator-id-13\" type=\"checkbox\" ><label for=\"sk-estimator-id-13\" class=\"sk-toggleable__label sk-toggleable__label-arrow\">GridSearchCV</label><div class=\"sk-toggleable__content\"><pre>GridSearchCV(cv=StratifiedKFold(n_splits=10, random_state=1, shuffle=True),\n",
       "             error_score=0, estimator=LogisticRegression(), n_jobs=-1,\n",
       "             param_grid={&#x27;C&#x27;: [100, 10, 1.0, 0.1, 0.01], &#x27;penalty&#x27;: [&#x27;l2&#x27;],\n",
       "                         &#x27;solver&#x27;: [&#x27;newton-cg&#x27;, &#x27;lbfgs&#x27;, &#x27;liblinear&#x27;]})</pre></div></div></div><div class=\"sk-parallel\"><div class=\"sk-parallel-item\"><div class=\"sk-item\"><div class=\"sk-label-container\"><div class=\"sk-label sk-toggleable\"><input class=\"sk-toggleable__control sk-hidden--visually\" id=\"sk-estimator-id-14\" type=\"checkbox\" ><label for=\"sk-estimator-id-14\" class=\"sk-toggleable__label sk-toggleable__label-arrow\">estimator: LogisticRegression</label><div class=\"sk-toggleable__content\"><pre>LogisticRegression()</pre></div></div></div><div class=\"sk-serial\"><div class=\"sk-item\"><div class=\"sk-estimator sk-toggleable\"><input class=\"sk-toggleable__control sk-hidden--visually\" id=\"sk-estimator-id-15\" type=\"checkbox\" ><label for=\"sk-estimator-id-15\" class=\"sk-toggleable__label sk-toggleable__label-arrow\">LogisticRegression</label><div class=\"sk-toggleable__content\"><pre>LogisticRegression()</pre></div></div></div></div></div></div></div></div></div></div>"
      ],
      "text/plain": [
       "GridSearchCV(cv=StratifiedKFold(n_splits=10, random_state=1, shuffle=True),\n",
       "             error_score=0, estimator=LogisticRegression(), n_jobs=-1,\n",
       "             param_grid={'C': [100, 10, 1.0, 0.1, 0.01], 'penalty': ['l2'],\n",
       "                         'solver': ['newton-cg', 'lbfgs', 'liblinear']})"
      ]
     },
     "execution_count": 22,
     "metadata": {},
     "output_type": "execute_result"
    }
   ],
   "source": [
    "# fitting the model for grid search\n",
    "grid.fit(X_train, Y_train)"
   ]
  },
  {
   "cell_type": "code",
   "execution_count": 23,
   "id": "12d602b7",
   "metadata": {},
   "outputs": [
    {
     "name": "stdout",
     "output_type": "stream",
     "text": [
      "Best: 0.776305 using {'C': 0.1, 'penalty': 'l2', 'solver': 'newton-cg'}\n",
      "0.773867 (0.031274) with: {'C': 100, 'penalty': 'l2', 'solver': 'newton-cg'}\n",
      "0.773867 (0.031274) with: {'C': 100, 'penalty': 'l2', 'solver': 'lbfgs'}\n",
      "0.775072 (0.031375) with: {'C': 100, 'penalty': 'l2', 'solver': 'liblinear'}\n",
      "0.773867 (0.031274) with: {'C': 10, 'penalty': 'l2', 'solver': 'newton-cg'}\n",
      "0.773867 (0.031274) with: {'C': 10, 'penalty': 'l2', 'solver': 'lbfgs'}\n",
      "0.775072 (0.031375) with: {'C': 10, 'penalty': 'l2', 'solver': 'liblinear'}\n",
      "0.773867 (0.031274) with: {'C': 1.0, 'penalty': 'l2', 'solver': 'newton-cg'}\n",
      "0.773867 (0.031274) with: {'C': 1.0, 'penalty': 'l2', 'solver': 'lbfgs'}\n",
      "0.776248 (0.030256) with: {'C': 1.0, 'penalty': 'l2', 'solver': 'liblinear'}\n",
      "0.776305 (0.028291) with: {'C': 0.1, 'penalty': 'l2', 'solver': 'newton-cg'}\n",
      "0.776305 (0.028291) with: {'C': 0.1, 'penalty': 'l2', 'solver': 'lbfgs'}\n",
      "0.776262 (0.028221) with: {'C': 0.1, 'penalty': 'l2', 'solver': 'liblinear'}\n",
      "0.766781 (0.018223) with: {'C': 0.01, 'penalty': 'l2', 'solver': 'newton-cg'}\n",
      "0.766781 (0.018223) with: {'C': 0.01, 'penalty': 'l2', 'solver': 'lbfgs'}\n",
      "0.660298 (0.019931) with: {'C': 0.01, 'penalty': 'l2', 'solver': 'liblinear'}\n"
     ]
    }
   ],
   "source": [
    "# summarize results\n",
    "print(\"Best: %f using %s\" % (grid.best_score_, grid.best_params_))\n",
    "means = grid.cv_results_['mean_test_score']\n",
    "stds = grid.cv_results_['std_test_score']\n",
    "params = grid.cv_results_['params']\n",
    "for mean, stdev, param in zip(means, stds, params):\n",
    "    print(\"%f (%f) with: %r\" % (mean, stdev, param))"
   ]
  },
  {
   "cell_type": "code",
   "execution_count": 24,
   "id": "dc813a0e",
   "metadata": {},
   "outputs": [
    {
     "data": {
      "text/html": [
       "<style>#sk-container-id-8 {color: black;background-color: white;}#sk-container-id-8 pre{padding: 0;}#sk-container-id-8 div.sk-toggleable {background-color: white;}#sk-container-id-8 label.sk-toggleable__label {cursor: pointer;display: block;width: 100%;margin-bottom: 0;padding: 0.3em;box-sizing: border-box;text-align: center;}#sk-container-id-8 label.sk-toggleable__label-arrow:before {content: \"▸\";float: left;margin-right: 0.25em;color: #696969;}#sk-container-id-8 label.sk-toggleable__label-arrow:hover:before {color: black;}#sk-container-id-8 div.sk-estimator:hover label.sk-toggleable__label-arrow:before {color: black;}#sk-container-id-8 div.sk-toggleable__content {max-height: 0;max-width: 0;overflow: hidden;text-align: left;background-color: #f0f8ff;}#sk-container-id-8 div.sk-toggleable__content pre {margin: 0.2em;color: black;border-radius: 0.25em;background-color: #f0f8ff;}#sk-container-id-8 input.sk-toggleable__control:checked~div.sk-toggleable__content {max-height: 200px;max-width: 100%;overflow: auto;}#sk-container-id-8 input.sk-toggleable__control:checked~label.sk-toggleable__label-arrow:before {content: \"▾\";}#sk-container-id-8 div.sk-estimator input.sk-toggleable__control:checked~label.sk-toggleable__label {background-color: #d4ebff;}#sk-container-id-8 div.sk-label input.sk-toggleable__control:checked~label.sk-toggleable__label {background-color: #d4ebff;}#sk-container-id-8 input.sk-hidden--visually {border: 0;clip: rect(1px 1px 1px 1px);clip: rect(1px, 1px, 1px, 1px);height: 1px;margin: -1px;overflow: hidden;padding: 0;position: absolute;width: 1px;}#sk-container-id-8 div.sk-estimator {font-family: monospace;background-color: #f0f8ff;border: 1px dotted black;border-radius: 0.25em;box-sizing: border-box;margin-bottom: 0.5em;}#sk-container-id-8 div.sk-estimator:hover {background-color: #d4ebff;}#sk-container-id-8 div.sk-parallel-item::after {content: \"\";width: 100%;border-bottom: 1px solid gray;flex-grow: 1;}#sk-container-id-8 div.sk-label:hover label.sk-toggleable__label {background-color: #d4ebff;}#sk-container-id-8 div.sk-serial::before {content: \"\";position: absolute;border-left: 1px solid gray;box-sizing: border-box;top: 0;bottom: 0;left: 50%;z-index: 0;}#sk-container-id-8 div.sk-serial {display: flex;flex-direction: column;align-items: center;background-color: white;padding-right: 0.2em;padding-left: 0.2em;position: relative;}#sk-container-id-8 div.sk-item {position: relative;z-index: 1;}#sk-container-id-8 div.sk-parallel {display: flex;align-items: stretch;justify-content: center;background-color: white;position: relative;}#sk-container-id-8 div.sk-item::before, #sk-container-id-8 div.sk-parallel-item::before {content: \"\";position: absolute;border-left: 1px solid gray;box-sizing: border-box;top: 0;bottom: 0;left: 50%;z-index: -1;}#sk-container-id-8 div.sk-parallel-item {display: flex;flex-direction: column;z-index: 1;position: relative;background-color: white;}#sk-container-id-8 div.sk-parallel-item:first-child::after {align-self: flex-end;width: 50%;}#sk-container-id-8 div.sk-parallel-item:last-child::after {align-self: flex-start;width: 50%;}#sk-container-id-8 div.sk-parallel-item:only-child::after {width: 0;}#sk-container-id-8 div.sk-dashed-wrapped {border: 1px dashed gray;margin: 0 0.4em 0.5em 0.4em;box-sizing: border-box;padding-bottom: 0.4em;background-color: white;}#sk-container-id-8 div.sk-label label {font-family: monospace;font-weight: bold;display: inline-block;line-height: 1.2em;}#sk-container-id-8 div.sk-label-container {text-align: center;}#sk-container-id-8 div.sk-container {/* jupyter's `normalize.less` sets `[hidden] { display: none; }` but bootstrap.min.css set `[hidden] { display: none !important; }` so we also need the `!important` here to be able to override the default hidden behavior on the sphinx rendered scikit-learn.org. See: https://github.com/scikit-learn/scikit-learn/issues/21755 */display: inline-block !important;position: relative;}#sk-container-id-8 div.sk-text-repr-fallback {display: none;}</style><div id=\"sk-container-id-8\" class=\"sk-top-container\"><div class=\"sk-text-repr-fallback\"><pre>LogisticRegression(C=0.1, solver=&#x27;newton-cg&#x27;)</pre><b>In a Jupyter environment, please rerun this cell to show the HTML representation or trust the notebook. <br />On GitHub, the HTML representation is unable to render, please try loading this page with nbviewer.org.</b></div><div class=\"sk-container\" hidden><div class=\"sk-item\"><div class=\"sk-estimator sk-toggleable\"><input class=\"sk-toggleable__control sk-hidden--visually\" id=\"sk-estimator-id-16\" type=\"checkbox\" checked><label for=\"sk-estimator-id-16\" class=\"sk-toggleable__label sk-toggleable__label-arrow\">LogisticRegression</label><div class=\"sk-toggleable__content\"><pre>LogisticRegression(C=0.1, solver=&#x27;newton-cg&#x27;)</pre></div></div></div></div></div>"
      ],
      "text/plain": [
       "LogisticRegression(C=0.1, solver='newton-cg')"
      ]
     },
     "execution_count": 24,
     "metadata": {},
     "output_type": "execute_result"
    }
   ],
   "source": [
    "# how our model looks after hyper-parameter tuning\n",
    "grid.best_estimator_"
   ]
  },
  {
   "cell_type": "code",
   "execution_count": 25,
   "id": "d0c0b9d3",
   "metadata": {},
   "outputs": [
    {
     "name": "stdout",
     "output_type": "stream",
     "text": [
      "accuracy_score\n",
      "0.81\n",
      "________________________________________________________\n",
      "confusion_matrix\n",
      "[[100  23]\n",
      " [ 17  70]]\n",
      "________________________________________________________\n",
      "classification_report\n",
      "              precision    recall  f1-score   support\n",
      "\n",
      "          no       0.85      0.81      0.83       123\n",
      "         yes       0.75      0.80      0.78        87\n",
      "\n",
      "    accuracy                           0.81       210\n",
      "   macro avg       0.80      0.81      0.81       210\n",
      "weighted avg       0.81      0.81      0.81       210\n",
      "\n"
     ]
    }
   ],
   "source": [
    "# print accuracy & classification report\n",
    "# the improvement of the LR model vs initial one is negligible\n",
    "# accuracy slightly improved (since the model was initially fit with optimal parameters set (solver='liblinear', multi_class='ovr'))\n",
    "# high f1-score (precision, recall) (0.81)\n",
    "# confusion matrix: T1 error (FP) - 17, T2 error (FN) - 23\n",
    "grid_predictions = grid.predict(X_validation)\n",
    "print(\"accuracy_score\")\n",
    "print('%.2f' % accuracy_score(Y_validation, grid_predictions))\n",
    "print(\"________________________________________________________\")\n",
    "print(\"confusion_matrix\")\n",
    "print(confusion_matrix(Y_validation, grid_predictions))\n",
    "print(\"________________________________________________________\")\n",
    "print(\"classification_report\")\n",
    "print(classification_report(Y_validation, grid_predictions))"
   ]
  },
  {
   "cell_type": "code",
   "execution_count": 26,
   "id": "2a5d6220",
   "metadata": {},
   "outputs": [],
   "source": [
    "# Hyperparameter Tuning let us significantly improve the performance for SVC model\n",
    "# but the LR model performance improvement was less significant\n",
    "# the explanation is that the LR model was initially fit with optimal parameters set (solver='liblinear', multi_class='ovr')\n",
    "# analogically one can fit initially SVC with (gamma='auto') to improve the starting model\n",
    "# in Part7 I'll use Hyperparameter Tuning for the KNN model as well"
   ]
  }
 ],
 "metadata": {
  "kernelspec": {
   "display_name": "Python 3 (ipykernel)",
   "language": "python",
   "name": "python3"
  },
  "language_info": {
   "codemirror_mode": {
    "name": "ipython",
    "version": 3
   },
   "file_extension": ".py",
   "mimetype": "text/x-python",
   "name": "python",
   "nbconvert_exporter": "python",
   "pygments_lexer": "ipython3",
   "version": "3.10.9"
  }
 },
 "nbformat": 4,
 "nbformat_minor": 5
}
