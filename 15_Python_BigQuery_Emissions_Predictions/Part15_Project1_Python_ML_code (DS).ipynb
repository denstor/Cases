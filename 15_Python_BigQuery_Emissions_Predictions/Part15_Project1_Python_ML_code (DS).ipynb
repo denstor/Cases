{
 "cells": [
  {
   "cell_type": "code",
   "execution_count": 1,
   "id": "c464926e-1fec-40ea-9ad5-1c24aef4acd3",
   "metadata": {},
   "outputs": [],
   "source": [
    "# load libs\n",
    "# conda install xgboost\n",
    "import pandas as pd\n",
    "import numpy as np\n",
    "import matplotlib.pyplot as plt\n",
    "import seaborn as sns\n",
    "from sklearn.impute import SimpleImputer\n",
    "from sklearn.preprocessing import OrdinalEncoder \n",
    "import scipy.stats as stats\n",
    "from sklearn.neighbors import LocalOutlierFactor\n",
    "from sklearn.model_selection import train_test_split\n",
    "from sklearn.preprocessing import StandardScaler\n",
    "from sklearn.model_selection import KFold\n",
    "from sklearn.model_selection import cross_val_score, GridSearchCV\n",
    "from sklearn.model_selection import RandomizedSearchCV\n",
    "from sklearn.linear_model import LinearRegression\n",
    "from sklearn.tree import DecisionTreeRegressor\n",
    "from sklearn.neighbors import KNeighborsRegressor\n",
    "from sklearn.svm import SVR\n",
    "from sklearn.ensemble import RandomForestRegressor\n",
    "from sklearn.ensemble import GradientBoostingRegressor\n",
    "from statsmodels.stats.outliers_influence import variance_inflation_factor\n",
    "from sklearn.feature_selection import SelectKBest,f_regression\n",
    "from sklearn.metrics import mean_squared_error\n",
    "from scipy.stats import loguniform\n",
    "import xgboost as xgb"
   ]
  },
  {
   "cell_type": "code",
   "execution_count": 2,
   "id": "fca2922a-8fe1-4e45-8fc9-9e3c078165db",
   "metadata": {},
   "outputs": [
    {
     "data": {
      "text/html": [
       "<div>\n",
       "<style scoped>\n",
       "    .dataframe tbody tr th:only-of-type {\n",
       "        vertical-align: middle;\n",
       "    }\n",
       "\n",
       "    .dataframe tbody tr th {\n",
       "        vertical-align: top;\n",
       "    }\n",
       "\n",
       "    .dataframe thead th {\n",
       "        text-align: right;\n",
       "    }\n",
       "</style>\n",
       "<table border=\"1\" class=\"dataframe\">\n",
       "  <thead>\n",
       "    <tr style=\"text-align: right;\">\n",
       "      <th></th>\n",
       "      <th>OSEBuildingID</th>\n",
       "      <th>DataYear</th>\n",
       "      <th>BuildingType</th>\n",
       "      <th>PrimaryPropertyType</th>\n",
       "      <th>PropertyName</th>\n",
       "      <th>Address</th>\n",
       "      <th>City</th>\n",
       "      <th>State</th>\n",
       "      <th>ZipCode</th>\n",
       "      <th>TaxParcelIdentificationNumber</th>\n",
       "      <th>...</th>\n",
       "      <th>Electricity(kWh)</th>\n",
       "      <th>Electricity(kBtu)</th>\n",
       "      <th>NaturalGas(therms)</th>\n",
       "      <th>NaturalGas(kBtu)</th>\n",
       "      <th>DefaultData</th>\n",
       "      <th>Comments</th>\n",
       "      <th>ComplianceStatus</th>\n",
       "      <th>Outlier</th>\n",
       "      <th>TotalGHGEmissions</th>\n",
       "      <th>GHGEmissionsIntensity</th>\n",
       "    </tr>\n",
       "  </thead>\n",
       "  <tbody>\n",
       "    <tr>\n",
       "      <th>0</th>\n",
       "      <td>1</td>\n",
       "      <td>2016</td>\n",
       "      <td>NonResidential</td>\n",
       "      <td>Hotel</td>\n",
       "      <td>Mayflower park hotel</td>\n",
       "      <td>405 Olive way</td>\n",
       "      <td>Seattle</td>\n",
       "      <td>WA</td>\n",
       "      <td>98101.0</td>\n",
       "      <td>0659000030</td>\n",
       "      <td>...</td>\n",
       "      <td>1.156514e+06</td>\n",
       "      <td>3946027.0</td>\n",
       "      <td>12764.52930</td>\n",
       "      <td>1276453.0</td>\n",
       "      <td>False</td>\n",
       "      <td>NaN</td>\n",
       "      <td>Compliant</td>\n",
       "      <td>NaN</td>\n",
       "      <td>249.98</td>\n",
       "      <td>2.83</td>\n",
       "    </tr>\n",
       "    <tr>\n",
       "      <th>1</th>\n",
       "      <td>2</td>\n",
       "      <td>2016</td>\n",
       "      <td>NonResidential</td>\n",
       "      <td>Hotel</td>\n",
       "      <td>Paramount Hotel</td>\n",
       "      <td>724 Pine street</td>\n",
       "      <td>Seattle</td>\n",
       "      <td>WA</td>\n",
       "      <td>98101.0</td>\n",
       "      <td>0659000220</td>\n",
       "      <td>...</td>\n",
       "      <td>9.504252e+05</td>\n",
       "      <td>3242851.0</td>\n",
       "      <td>51450.81641</td>\n",
       "      <td>5145082.0</td>\n",
       "      <td>False</td>\n",
       "      <td>NaN</td>\n",
       "      <td>Compliant</td>\n",
       "      <td>NaN</td>\n",
       "      <td>295.86</td>\n",
       "      <td>2.86</td>\n",
       "    </tr>\n",
       "    <tr>\n",
       "      <th>2</th>\n",
       "      <td>3</td>\n",
       "      <td>2016</td>\n",
       "      <td>NonResidential</td>\n",
       "      <td>Hotel</td>\n",
       "      <td>5673-The Westin Seattle</td>\n",
       "      <td>1900 5th Avenue</td>\n",
       "      <td>Seattle</td>\n",
       "      <td>WA</td>\n",
       "      <td>98101.0</td>\n",
       "      <td>0659000475</td>\n",
       "      <td>...</td>\n",
       "      <td>1.451544e+07</td>\n",
       "      <td>49526664.0</td>\n",
       "      <td>14938.00000</td>\n",
       "      <td>1493800.0</td>\n",
       "      <td>False</td>\n",
       "      <td>NaN</td>\n",
       "      <td>Compliant</td>\n",
       "      <td>NaN</td>\n",
       "      <td>2089.28</td>\n",
       "      <td>2.19</td>\n",
       "    </tr>\n",
       "    <tr>\n",
       "      <th>3</th>\n",
       "      <td>5</td>\n",
       "      <td>2016</td>\n",
       "      <td>NonResidential</td>\n",
       "      <td>Hotel</td>\n",
       "      <td>HOTEL MAX</td>\n",
       "      <td>620 STEWART ST</td>\n",
       "      <td>Seattle</td>\n",
       "      <td>WA</td>\n",
       "      <td>98101.0</td>\n",
       "      <td>0659000640</td>\n",
       "      <td>...</td>\n",
       "      <td>8.115253e+05</td>\n",
       "      <td>2768924.0</td>\n",
       "      <td>18112.13086</td>\n",
       "      <td>1811213.0</td>\n",
       "      <td>False</td>\n",
       "      <td>NaN</td>\n",
       "      <td>Compliant</td>\n",
       "      <td>NaN</td>\n",
       "      <td>286.43</td>\n",
       "      <td>4.67</td>\n",
       "    </tr>\n",
       "    <tr>\n",
       "      <th>4</th>\n",
       "      <td>8</td>\n",
       "      <td>2016</td>\n",
       "      <td>NonResidential</td>\n",
       "      <td>Hotel</td>\n",
       "      <td>WARWICK SEATTLE HOTEL (ID8)</td>\n",
       "      <td>401 LENORA ST</td>\n",
       "      <td>Seattle</td>\n",
       "      <td>WA</td>\n",
       "      <td>98121.0</td>\n",
       "      <td>0659000970</td>\n",
       "      <td>...</td>\n",
       "      <td>1.573449e+06</td>\n",
       "      <td>5368607.0</td>\n",
       "      <td>88039.98438</td>\n",
       "      <td>8803998.0</td>\n",
       "      <td>False</td>\n",
       "      <td>NaN</td>\n",
       "      <td>Compliant</td>\n",
       "      <td>NaN</td>\n",
       "      <td>505.01</td>\n",
       "      <td>2.88</td>\n",
       "    </tr>\n",
       "  </tbody>\n",
       "</table>\n",
       "<p>5 rows × 46 columns</p>\n",
       "</div>"
      ],
      "text/plain": [
       "   OSEBuildingID  DataYear    BuildingType PrimaryPropertyType  \\\n",
       "0              1      2016  NonResidential               Hotel   \n",
       "1              2      2016  NonResidential               Hotel   \n",
       "2              3      2016  NonResidential               Hotel   \n",
       "3              5      2016  NonResidential               Hotel   \n",
       "4              8      2016  NonResidential               Hotel   \n",
       "\n",
       "                  PropertyName          Address     City State  ZipCode  \\\n",
       "0         Mayflower park hotel    405 Olive way  Seattle    WA  98101.0   \n",
       "1              Paramount Hotel  724 Pine street  Seattle    WA  98101.0   \n",
       "2      5673-The Westin Seattle  1900 5th Avenue  Seattle    WA  98101.0   \n",
       "3                    HOTEL MAX   620 STEWART ST  Seattle    WA  98101.0   \n",
       "4  WARWICK SEATTLE HOTEL (ID8)    401 LENORA ST  Seattle    WA  98121.0   \n",
       "\n",
       "  TaxParcelIdentificationNumber  ...  Electricity(kWh) Electricity(kBtu)  \\\n",
       "0                    0659000030  ...      1.156514e+06         3946027.0   \n",
       "1                    0659000220  ...      9.504252e+05         3242851.0   \n",
       "2                    0659000475  ...      1.451544e+07        49526664.0   \n",
       "3                    0659000640  ...      8.115253e+05         2768924.0   \n",
       "4                    0659000970  ...      1.573449e+06         5368607.0   \n",
       "\n",
       "   NaturalGas(therms)  NaturalGas(kBtu)  DefaultData  Comments  \\\n",
       "0         12764.52930         1276453.0        False       NaN   \n",
       "1         51450.81641         5145082.0        False       NaN   \n",
       "2         14938.00000         1493800.0        False       NaN   \n",
       "3         18112.13086         1811213.0        False       NaN   \n",
       "4         88039.98438         8803998.0        False       NaN   \n",
       "\n",
       "   ComplianceStatus  Outlier  TotalGHGEmissions  GHGEmissionsIntensity  \n",
       "0         Compliant      NaN             249.98                   2.83  \n",
       "1         Compliant      NaN             295.86                   2.86  \n",
       "2         Compliant      NaN            2089.28                   2.19  \n",
       "3         Compliant      NaN             286.43                   4.67  \n",
       "4         Compliant      NaN             505.01                   2.88  \n",
       "\n",
       "[5 rows x 46 columns]"
      ]
     },
     "execution_count": 2,
     "metadata": {},
     "output_type": "execute_result"
    }
   ],
   "source": [
    "# load data\n",
    "import os\n",
    "from pathlib import Path \n",
    "Emission_data = Path(os.path.abspath(os.path.curdir)) / '2016_Building_Energy_Benchmarking.csv'\n",
    "df = pd.read_csv(Emission_data)\n",
    "df.head()"
   ]
  },
  {
   "cell_type": "code",
   "execution_count": 3,
   "id": "d6b75c77-0691-4308-8e9e-934478ac333e",
   "metadata": {},
   "outputs": [
    {
     "name": "stdout",
     "output_type": "stream",
     "text": [
      "<class 'pandas.core.frame.DataFrame'>\n",
      "RangeIndex: 3376 entries, 0 to 3375\n",
      "Data columns (total 46 columns):\n",
      " #   Column                           Non-Null Count  Dtype  \n",
      "---  ------                           --------------  -----  \n",
      " 0   OSEBuildingID                    3376 non-null   int64  \n",
      " 1   DataYear                         3376 non-null   int64  \n",
      " 2   BuildingType                     3376 non-null   object \n",
      " 3   PrimaryPropertyType              3376 non-null   object \n",
      " 4   PropertyName                     3376 non-null   object \n",
      " 5   Address                          3376 non-null   object \n",
      " 6   City                             3376 non-null   object \n",
      " 7   State                            3376 non-null   object \n",
      " 8   ZipCode                          3360 non-null   float64\n",
      " 9   TaxParcelIdentificationNumber    3376 non-null   object \n",
      " 10  CouncilDistrictCode              3376 non-null   int64  \n",
      " 11  Neighborhood                     3376 non-null   object \n",
      " 12  Latitude                         3376 non-null   float64\n",
      " 13  Longitude                        3376 non-null   float64\n",
      " 14  YearBuilt                        3376 non-null   int64  \n",
      " 15  NumberofBuildings                3368 non-null   float64\n",
      " 16  NumberofFloors                   3376 non-null   int64  \n",
      " 17  PropertyGFATotal                 3376 non-null   int64  \n",
      " 18  PropertyGFAParking               3376 non-null   int64  \n",
      " 19  PropertyGFABuilding(s)           3376 non-null   int64  \n",
      " 20  ListOfAllPropertyUseTypes        3367 non-null   object \n",
      " 21  LargestPropertyUseType           3356 non-null   object \n",
      " 22  LargestPropertyUseTypeGFA        3356 non-null   float64\n",
      " 23  SecondLargestPropertyUseType     1679 non-null   object \n",
      " 24  SecondLargestPropertyUseTypeGFA  1679 non-null   float64\n",
      " 25  ThirdLargestPropertyUseType      596 non-null    object \n",
      " 26  ThirdLargestPropertyUseTypeGFA   596 non-null    float64\n",
      " 27  YearsENERGYSTARCertified         119 non-null    object \n",
      " 28  ENERGYSTARScore                  2533 non-null   float64\n",
      " 29  SiteEUI(kBtu/sf)                 3369 non-null   float64\n",
      " 30  SiteEUIWN(kBtu/sf)               3370 non-null   float64\n",
      " 31  SourceEUI(kBtu/sf)               3367 non-null   float64\n",
      " 32  SourceEUIWN(kBtu/sf)             3367 non-null   float64\n",
      " 33  SiteEnergyUse(kBtu)              3371 non-null   float64\n",
      " 34  SiteEnergyUseWN(kBtu)            3370 non-null   float64\n",
      " 35  SteamUse(kBtu)                   3367 non-null   float64\n",
      " 36  Electricity(kWh)                 3367 non-null   float64\n",
      " 37  Electricity(kBtu)                3367 non-null   float64\n",
      " 38  NaturalGas(therms)               3367 non-null   float64\n",
      " 39  NaturalGas(kBtu)                 3367 non-null   float64\n",
      " 40  DefaultData                      3376 non-null   bool   \n",
      " 41  Comments                         0 non-null      float64\n",
      " 42  ComplianceStatus                 3376 non-null   object \n",
      " 43  Outlier                          32 non-null     object \n",
      " 44  TotalGHGEmissions                3367 non-null   float64\n",
      " 45  GHGEmissionsIntensity            3367 non-null   float64\n",
      "dtypes: bool(1), float64(22), int64(8), object(15)\n",
      "memory usage: 1.2+ MB\n"
     ]
    }
   ],
   "source": [
    "# STAGE 1 - DATA CLEANING\n",
    "# info of the dataset, different datatypes\n",
    "df.info()"
   ]
  },
  {
   "cell_type": "code",
   "execution_count": 4,
   "id": "a98f10eb-df54-4805-89a3-26acb2e3a10d",
   "metadata": {},
   "outputs": [],
   "source": [
    "# changing coma in the false object columns and transforming them to numerical\n",
    "# Attention! the problem with comas appears while using Jupyter Cloud (fortunately no problem with Jupyter Desktop)\n",
    "false_obj_cols=['PropertyGFATotal', 'PropertyGFAParking', 'PropertyGFABuilding(s)', 'LargestPropertyUseTypeGFA', \n",
    "                'SecondLargestPropertyUseTypeGFA', 'ThirdLargestPropertyUseTypeGFA', 'SiteEnergyUse(kBtu)', \n",
    "                'SiteEnergyUseWN(kBtu)', 'SteamUse(kBtu)', 'Electricity(kWh)', 'Electricity(kBtu)', \n",
    "                'NaturalGas(therms)', 'NaturalGas(kBtu)', 'SourceEUI(kBtu/sf)', 'SourceEUIWN(kBtu/sf)']\n",
    "df[false_obj_cols]=df[false_obj_cols].astype(str).apply(lambda x: x.str.replace(',',''))\n",
    "df[false_obj_cols]=df[false_obj_cols].astype(float)"
   ]
  },
  {
   "cell_type": "code",
   "execution_count": 5,
   "id": "e0a71ab5-16ac-4c8e-b11a-034d8fd4b4bf",
   "metadata": {},
   "outputs": [
    {
     "name": "stdout",
     "output_type": "stream",
     "text": [
      "<class 'pandas.core.frame.DataFrame'>\n",
      "RangeIndex: 3376 entries, 0 to 3375\n",
      "Data columns (total 15 columns):\n",
      " #   Column                           Non-Null Count  Dtype  \n",
      "---  ------                           --------------  -----  \n",
      " 0   PropertyGFATotal                 3376 non-null   float64\n",
      " 1   PropertyGFAParking               3376 non-null   float64\n",
      " 2   PropertyGFABuilding(s)           3376 non-null   float64\n",
      " 3   LargestPropertyUseTypeGFA        3356 non-null   float64\n",
      " 4   SecondLargestPropertyUseTypeGFA  1679 non-null   float64\n",
      " 5   ThirdLargestPropertyUseTypeGFA   596 non-null    float64\n",
      " 6   SiteEnergyUse(kBtu)              3371 non-null   float64\n",
      " 7   SiteEnergyUseWN(kBtu)            3370 non-null   float64\n",
      " 8   SteamUse(kBtu)                   3367 non-null   float64\n",
      " 9   Electricity(kWh)                 3367 non-null   float64\n",
      " 10  Electricity(kBtu)                3367 non-null   float64\n",
      " 11  NaturalGas(therms)               3367 non-null   float64\n",
      " 12  NaturalGas(kBtu)                 3367 non-null   float64\n",
      " 13  SourceEUI(kBtu/sf)               3367 non-null   float64\n",
      " 14  SourceEUIWN(kBtu/sf)             3367 non-null   float64\n",
      "dtypes: float64(15)\n",
      "memory usage: 395.8 KB\n"
     ]
    }
   ],
   "source": [
    "# checking false_obj_cols datatypes\n",
    "df[false_obj_cols].info()"
   ]
  },
  {
   "cell_type": "code",
   "execution_count": 6,
   "id": "cf75a21a-0111-4112-9e50-6726119b6f94",
   "metadata": {},
   "outputs": [
    {
     "data": {
      "text/plain": [
       "OSEBuildingID                        0.00\n",
       "DataYear                             0.00\n",
       "BuildingType                         0.00\n",
       "PrimaryPropertyType                  0.00\n",
       "PropertyName                         0.00\n",
       "Address                              0.00\n",
       "City                                 0.00\n",
       "State                                0.00\n",
       "ZipCode                              0.47\n",
       "TaxParcelIdentificationNumber        0.00\n",
       "CouncilDistrictCode                  0.00\n",
       "Neighborhood                         0.00\n",
       "Latitude                             0.00\n",
       "Longitude                            0.00\n",
       "YearBuilt                            0.00\n",
       "NumberofBuildings                    0.24\n",
       "NumberofFloors                       0.00\n",
       "PropertyGFATotal                     0.00\n",
       "PropertyGFAParking                   0.00\n",
       "PropertyGFABuilding(s)               0.00\n",
       "ListOfAllPropertyUseTypes            0.27\n",
       "LargestPropertyUseType               0.59\n",
       "LargestPropertyUseTypeGFA            0.59\n",
       "SecondLargestPropertyUseType        50.27\n",
       "SecondLargestPropertyUseTypeGFA     50.27\n",
       "ThirdLargestPropertyUseType         82.35\n",
       "ThirdLargestPropertyUseTypeGFA      82.35\n",
       "YearsENERGYSTARCertified            96.48\n",
       "ENERGYSTARScore                     24.97\n",
       "SiteEUI(kBtu/sf)                     0.21\n",
       "SiteEUIWN(kBtu/sf)                   0.18\n",
       "SourceEUI(kBtu/sf)                   0.27\n",
       "SourceEUIWN(kBtu/sf)                 0.27\n",
       "SiteEnergyUse(kBtu)                  0.15\n",
       "SiteEnergyUseWN(kBtu)                0.18\n",
       "SteamUse(kBtu)                       0.27\n",
       "Electricity(kWh)                     0.27\n",
       "Electricity(kBtu)                    0.27\n",
       "NaturalGas(therms)                   0.27\n",
       "NaturalGas(kBtu)                     0.27\n",
       "DefaultData                          0.00\n",
       "Comments                           100.00\n",
       "ComplianceStatus                     0.00\n",
       "Outlier                             99.05\n",
       "TotalGHGEmissions                    0.27\n",
       "GHGEmissionsIntensity                0.27\n",
       "dtype: float64"
      ]
     },
     "execution_count": 6,
     "metadata": {},
     "output_type": "execute_result"
    }
   ],
   "source": [
    "# draft inspection of nans share, the dataset needs nans treatment\n",
    "round(df.isna().sum()/len(df)*100,2)"
   ]
  },
  {
   "cell_type": "code",
   "execution_count": 7,
   "id": "5c3d23ef",
   "metadata": {},
   "outputs": [
    {
     "data": {
      "text/html": [
       "<div>\n",
       "<style scoped>\n",
       "    .dataframe tbody tr th:only-of-type {\n",
       "        vertical-align: middle;\n",
       "    }\n",
       "\n",
       "    .dataframe tbody tr th {\n",
       "        vertical-align: top;\n",
       "    }\n",
       "\n",
       "    .dataframe thead th {\n",
       "        text-align: right;\n",
       "    }\n",
       "</style>\n",
       "<table border=\"1\" class=\"dataframe\">\n",
       "  <thead>\n",
       "    <tr style=\"text-align: right;\">\n",
       "      <th></th>\n",
       "      <th>TotalGHGEmissions</th>\n",
       "      <th>Electricity(kWh)</th>\n",
       "    </tr>\n",
       "  </thead>\n",
       "  <tbody>\n",
       "    <tr>\n",
       "      <th>count</th>\n",
       "      <td>3367.000000</td>\n",
       "      <td>3.367000e+03</td>\n",
       "    </tr>\n",
       "    <tr>\n",
       "      <th>mean</th>\n",
       "      <td>119.723971</td>\n",
       "      <td>1.086639e+06</td>\n",
       "    </tr>\n",
       "    <tr>\n",
       "      <th>std</th>\n",
       "      <td>538.832227</td>\n",
       "      <td>4.352478e+06</td>\n",
       "    </tr>\n",
       "    <tr>\n",
       "      <th>min</th>\n",
       "      <td>-0.800000</td>\n",
       "      <td>-3.382680e+04</td>\n",
       "    </tr>\n",
       "    <tr>\n",
       "      <th>25%</th>\n",
       "      <td>9.495000</td>\n",
       "      <td>1.874229e+05</td>\n",
       "    </tr>\n",
       "    <tr>\n",
       "      <th>50%</th>\n",
       "      <td>33.920000</td>\n",
       "      <td>3.451299e+05</td>\n",
       "    </tr>\n",
       "    <tr>\n",
       "      <th>75%</th>\n",
       "      <td>93.940000</td>\n",
       "      <td>8.293178e+05</td>\n",
       "    </tr>\n",
       "    <tr>\n",
       "      <th>max</th>\n",
       "      <td>16870.980000</td>\n",
       "      <td>1.925775e+08</td>\n",
       "    </tr>\n",
       "  </tbody>\n",
       "</table>\n",
       "</div>"
      ],
      "text/plain": [
       "       TotalGHGEmissions  Electricity(kWh)\n",
       "count        3367.000000      3.367000e+03\n",
       "mean          119.723971      1.086639e+06\n",
       "std           538.832227      4.352478e+06\n",
       "min            -0.800000     -3.382680e+04\n",
       "25%             9.495000      1.874229e+05\n",
       "50%            33.920000      3.451299e+05\n",
       "75%            93.940000      8.293178e+05\n",
       "max         16870.980000      1.925775e+08"
      ]
     },
     "execution_count": 7,
     "metadata": {},
     "output_type": "execute_result"
    }
   ],
   "source": [
    "# checking Y columns (TotalGHGEmissions, Electricity(kWh))\n",
    "# min values below 0 to be deleted to avoid confusion while modelling\n",
    "df[['TotalGHGEmissions', 'Electricity(kWh)']].describe()"
   ]
  },
  {
   "cell_type": "code",
   "execution_count": 8,
   "id": "d2480362",
   "metadata": {},
   "outputs": [
    {
     "data": {
      "text/html": [
       "<div>\n",
       "<style scoped>\n",
       "    .dataframe tbody tr th:only-of-type {\n",
       "        vertical-align: middle;\n",
       "    }\n",
       "\n",
       "    .dataframe tbody tr th {\n",
       "        vertical-align: top;\n",
       "    }\n",
       "\n",
       "    .dataframe thead th {\n",
       "        text-align: right;\n",
       "    }\n",
       "</style>\n",
       "<table border=\"1\" class=\"dataframe\">\n",
       "  <thead>\n",
       "    <tr style=\"text-align: right;\">\n",
       "      <th></th>\n",
       "      <th>TotalGHGEmissions</th>\n",
       "      <th>Electricity(kWh)</th>\n",
       "    </tr>\n",
       "  </thead>\n",
       "  <tbody>\n",
       "    <tr>\n",
       "      <th>count</th>\n",
       "      <td>3352.000000</td>\n",
       "      <td>3.352000e+03</td>\n",
       "    </tr>\n",
       "    <tr>\n",
       "      <th>mean</th>\n",
       "      <td>119.864114</td>\n",
       "      <td>1.091512e+06</td>\n",
       "    </tr>\n",
       "    <tr>\n",
       "      <th>std</th>\n",
       "      <td>539.919209</td>\n",
       "      <td>4.361598e+06</td>\n",
       "    </tr>\n",
       "    <tr>\n",
       "      <th>min</th>\n",
       "      <td>0.090000</td>\n",
       "      <td>1.000000e+00</td>\n",
       "    </tr>\n",
       "    <tr>\n",
       "      <th>25%</th>\n",
       "      <td>9.617500</td>\n",
       "      <td>1.887342e+05</td>\n",
       "    </tr>\n",
       "    <tr>\n",
       "      <th>50%</th>\n",
       "      <td>34.010000</td>\n",
       "      <td>3.468170e+05</td>\n",
       "    </tr>\n",
       "    <tr>\n",
       "      <th>75%</th>\n",
       "      <td>93.905000</td>\n",
       "      <td>8.318078e+05</td>\n",
       "    </tr>\n",
       "    <tr>\n",
       "      <th>max</th>\n",
       "      <td>16870.980000</td>\n",
       "      <td>1.925775e+08</td>\n",
       "    </tr>\n",
       "  </tbody>\n",
       "</table>\n",
       "</div>"
      ],
      "text/plain": [
       "       TotalGHGEmissions  Electricity(kWh)\n",
       "count        3352.000000      3.352000e+03\n",
       "mean          119.864114      1.091512e+06\n",
       "std           539.919209      4.361598e+06\n",
       "min             0.090000      1.000000e+00\n",
       "25%             9.617500      1.887342e+05\n",
       "50%            34.010000      3.468170e+05\n",
       "75%            93.905000      8.318078e+05\n",
       "max         16870.980000      1.925775e+08"
      ]
     },
     "execution_count": 8,
     "metadata": {},
     "output_type": "execute_result"
    }
   ],
   "source": [
    "# dropping below 0 values for Y columns (TotalGHGEmissions, Electricity(kWh))\n",
    "df=df.drop(df[(df['TotalGHGEmissions']<=0) | (df['Electricity(kWh)']<=0)].index)\n",
    "df[['TotalGHGEmissions', 'Electricity(kWh)']].describe()"
   ]
  },
  {
   "cell_type": "code",
   "execution_count": 9,
   "id": "2aa58f36-37aa-408e-9f45-c1ba6712e54e",
   "metadata": {},
   "outputs": [],
   "source": [
    "# deleting Id and non-informative columns for modelling\n",
    "# OSEBuildingID, DataYear, PropertyName, Address, City, State, ZipCode, TaxParcelIdentificationNumber, YearsENERGYSTARCertified, DefaultData, Comments\n",
    "non_inf_cols=['OSEBuildingID', 'DataYear', 'PropertyName', 'Address', 'City', 'State', 'Outlier',\n",
    "              'TaxParcelIdentificationNumber', 'YearsENERGYSTARCertified', 'DefaultData', 'Comments']\n",
    "df=df.drop(df[non_inf_cols],axis=1)"
   ]
  },
  {
   "cell_type": "code",
   "execution_count": 10,
   "id": "c0426b55-b9ac-48a4-bf85-63aedf054aed",
   "metadata": {},
   "outputs": [
    {
     "data": {
      "text/plain": [
       "(TotalGHGEmissions    141.837825\n",
       " dtype: float64,\n",
       "                  TotalGHGEmissions\n",
       " ENERGYSTARScore                   \n",
       " (0, 25]                 236.794226\n",
       " (25, 50]                168.029356\n",
       " (50, 75]                110.375285\n",
       " (75, 100]                73.357438)"
      ]
     },
     "execution_count": 10,
     "metadata": {},
     "output_type": "execute_result"
    }
   ],
   "source": [
    "# checking ENERGYSTARScore before nans imputation for median (nans are not a unique class)\n",
    "ENERGYSTARScore=pd.cut(df[\"ENERGYSTARScore\"],[0,25,50,75,100])\n",
    "df[df.ENERGYSTARScore.isna()][[\"TotalGHGEmissions\"]].mean(), df.pivot_table(\"TotalGHGEmissions\",ENERGYSTARScore)"
   ]
  },
  {
   "cell_type": "code",
   "execution_count": 11,
   "id": "e821cdb0-2cda-43b4-aa11-e19de4e4d53b",
   "metadata": {},
   "outputs": [],
   "source": [
    "# splitting data into numerical and categorical\n",
    "all_cols=list(df.columns)\n",
    "num_cols=list(df._get_numeric_data().columns)\n",
    "cat_cols=list(set(all_cols)-set(num_cols))\n",
    "# round(df[cat_cols].isna().sum()/len(df[cat_cols])*100,2)\n",
    "# round(df[num_cols].isna().sum()/len(df[num_cols])*100,2)"
   ]
  },
  {
   "cell_type": "code",
   "execution_count": 12,
   "id": "c328b54e-6db6-48a4-8d89-b2f2f80e15d7",
   "metadata": {},
   "outputs": [
    {
     "data": {
      "text/plain": [
       "Index(['LargestPropertyUseTypeGFA', 'SecondLargestPropertyUseTypeGFA',\n",
       "       'ThirdLargestPropertyUseTypeGFA', 'ENERGYSTARScore'],\n",
       "      dtype='object')"
      ]
     },
     "execution_count": 12,
     "metadata": {},
     "output_type": "execute_result"
    }
   ],
   "source": [
    "# checking numerical columns with many nans \n",
    "# no need for a separate treatment, to be changed by median later\n",
    "num_cols_many_nans=df[num_cols].columns[df[num_cols].isna().sum()/len(df)>0.005]\n",
    "num_cols_many_nans"
   ]
  },
  {
   "cell_type": "code",
   "execution_count": 13,
   "id": "d2061afb-b234-4d5e-9a9d-dfb4b41522e5",
   "metadata": {},
   "outputs": [
    {
     "data": {
      "text/plain": [
       "Index(['ThirdLargestPropertyUseType', 'SecondLargestPropertyUseType',\n",
       "       'LargestPropertyUseType'],\n",
       "      dtype='object')"
      ]
     },
     "execution_count": 13,
     "metadata": {},
     "output_type": "execute_result"
    }
   ],
   "source": [
    "# checking categorical columns with many nans \n",
    "# no need for a separate treatment, to be changed by the most frequent later\n",
    "cat_cols_many_nans=df[cat_cols].columns[df[cat_cols].isna().sum()/len(df)>0.005]\n",
    "cat_cols_many_nans"
   ]
  },
  {
   "cell_type": "code",
   "execution_count": 14,
   "id": "6e19ebc0-1d41-4f4e-a304-a1799e4859cc",
   "metadata": {},
   "outputs": [],
   "source": [
    "# replacing nans for the numerical columns with nans by the medians\n",
    "imputer_num = SimpleImputer(missing_values = np.nan,\n",
    "                        strategy ='median')\n",
    "df[num_cols]=imputer_num.fit_transform(df[num_cols])"
   ]
  },
  {
   "cell_type": "code",
   "execution_count": 15,
   "id": "fedcba56-a065-4146-abf1-c6d07ec8438d",
   "metadata": {},
   "outputs": [
    {
     "data": {
      "text/plain": [
       "ZipCode                            0\n",
       "CouncilDistrictCode                0\n",
       "Latitude                           0\n",
       "Longitude                          0\n",
       "YearBuilt                          0\n",
       "NumberofBuildings                  0\n",
       "NumberofFloors                     0\n",
       "PropertyGFATotal                   0\n",
       "PropertyGFAParking                 0\n",
       "PropertyGFABuilding(s)             0\n",
       "LargestPropertyUseTypeGFA          0\n",
       "SecondLargestPropertyUseTypeGFA    0\n",
       "ThirdLargestPropertyUseTypeGFA     0\n",
       "ENERGYSTARScore                    0\n",
       "SiteEUI(kBtu/sf)                   0\n",
       "SiteEUIWN(kBtu/sf)                 0\n",
       "SourceEUI(kBtu/sf)                 0\n",
       "SourceEUIWN(kBtu/sf)               0\n",
       "SiteEnergyUse(kBtu)                0\n",
       "SiteEnergyUseWN(kBtu)              0\n",
       "SteamUse(kBtu)                     0\n",
       "Electricity(kWh)                   0\n",
       "Electricity(kBtu)                  0\n",
       "NaturalGas(therms)                 0\n",
       "NaturalGas(kBtu)                   0\n",
       "TotalGHGEmissions                  0\n",
       "GHGEmissionsIntensity              0\n",
       "dtype: int64"
      ]
     },
     "execution_count": 15,
     "metadata": {},
     "output_type": "execute_result"
    }
   ],
   "source": [
    "# checking nans for the numerical columns\n",
    "df[num_cols].isna().sum()"
   ]
  },
  {
   "cell_type": "code",
   "execution_count": 16,
   "id": "c64bc4c7-4c27-41c6-a434-5495d94a26f3",
   "metadata": {},
   "outputs": [],
   "source": [
    "# replacing nans for the categorical columns with nans by the most frequent\n",
    "imputer_cat = SimpleImputer(missing_values = np.nan,\n",
    "                        strategy ='most_frequent')\n",
    "df[cat_cols]=imputer_cat.fit_transform(df[cat_cols])"
   ]
  },
  {
   "cell_type": "code",
   "execution_count": 17,
   "id": "fb431be9-6210-43cc-a8d1-fc6a24e70cca",
   "metadata": {},
   "outputs": [
    {
     "data": {
      "text/plain": [
       "ThirdLargestPropertyUseType     0\n",
       "PrimaryPropertyType             0\n",
       "BuildingType                    0\n",
       "Neighborhood                    0\n",
       "ListOfAllPropertyUseTypes       0\n",
       "SecondLargestPropertyUseType    0\n",
       "ComplianceStatus                0\n",
       "LargestPropertyUseType          0\n",
       "dtype: int64"
      ]
     },
     "execution_count": 17,
     "metadata": {},
     "output_type": "execute_result"
    }
   ],
   "source": [
    "# checking nans for the categorical columns\n",
    "df[cat_cols].isna().sum()"
   ]
  },
  {
   "cell_type": "code",
   "execution_count": 18,
   "id": "01846a8c-5840-43d0-9327-0c0867ee6cdf",
   "metadata": {},
   "outputs": [],
   "source": [
    "# dropping the columns with electricity and gas consumption data and GHGEmissionsIntensity\n",
    "electr_cols=['SiteEUI(kBtu/sf)','SiteEUIWN(kBtu/sf)','SourceEUI(kBtu/sf)','SourceEUIWN(kBtu/sf)','SiteEnergyUse(kBtu)','SiteEnergyUseWN(kBtu)','SteamUse(kBtu)','Electricity(kBtu)']\n",
    "# gas_cols=['NaturalGas(therms)','NaturalGas(kBtu)']\n",
    "gas_cols=['NaturalGas(kBtu)']\n",
    "df=df.drop(electr_cols,axis=1)\n",
    "df=df.drop(gas_cols,axis=1)\n",
    "df=df.drop('GHGEmissionsIntensity',axis=1)"
   ]
  },
  {
   "cell_type": "code",
   "execution_count": 19,
   "id": "2fb130ee-f097-4541-b5a6-2e097f6c71a4",
   "metadata": {},
   "outputs": [],
   "source": [
    "# new splitting data into numerical and categorical\n",
    "all_cols=list(df.columns)\n",
    "num_cols=list(df._get_numeric_data().columns)\n",
    "cat_cols=list(set(all_cols)-set(num_cols))"
   ]
  },
  {
   "cell_type": "code",
   "execution_count": 20,
   "id": "2ac3d773-a26a-45ec-bfd0-5258afda8b9a",
   "metadata": {},
   "outputs": [],
   "source": [
    "# implementing automatic Anova approach for treatment of the categorical columns\n",
    "# defining a function to get the p_value\n",
    "def p_test_cat(dataframe,col_x,col_y):\n",
    "    cols=list(dataframe[col_x].value_counts().index) \n",
    "    results=[]\n",
    "    for i in cols:\n",
    "        i=dataframe[dataframe[col_x]==i][[col_y]]\n",
    "        results.append(i)\n",
    "    statistics, p_value=stats.f_oneway(*results)\n",
    "    return p_value"
   ]
  },
  {
   "cell_type": "code",
   "execution_count": 21,
   "id": "5d9bf314-11d0-497e-867a-8706ce07b0c8",
   "metadata": {},
   "outputs": [
    {
     "data": {
      "text/plain": [
       "['Neighborhood', 'ComplianceStatus']"
      ]
     },
     "execution_count": 21,
     "metadata": {},
     "output_type": "execute_result"
    }
   ],
   "source": [
    "# selecting the columns to delete (with p_value > 0.05) for TotalGHGEmissions\n",
    "cols_to_drop=[]\n",
    "for i in cat_cols:\n",
    "    if p_test_cat(df,i,'TotalGHGEmissions')>0.05:\n",
    "        cols_to_drop.append(i)\n",
    "cols_to_drop"
   ]
  },
  {
   "cell_type": "code",
   "execution_count": 22,
   "id": "5be65815-d61a-4e8f-9c2a-c894b24f5a63",
   "metadata": {},
   "outputs": [
    {
     "data": {
      "text/plain": [
       "['ComplianceStatus']"
      ]
     },
     "execution_count": 22,
     "metadata": {},
     "output_type": "execute_result"
    }
   ],
   "source": [
    "# selecting the columns to delete (with p_value > 0.05) for 'Electricity(kWh)\n",
    "# the same columns except for Neighborhood \n",
    "cols_to_drop2=[]\n",
    "for i in cat_cols:\n",
    "    if p_test_cat(df,i,'Electricity(kWh)')>0.05:\n",
    "        cols_to_drop2.append(i)\n",
    "cols_to_drop2"
   ]
  },
  {
   "cell_type": "code",
   "execution_count": 23,
   "id": "4502b1a3-4a80-453d-a984-be83c0075f0d",
   "metadata": {},
   "outputs": [],
   "source": [
    "# dropping the categorical columns after p-test\n",
    "df=df.drop(cols_to_drop2,axis=1)"
   ]
  },
  {
   "cell_type": "code",
   "execution_count": 24,
   "id": "955e2e48-c570-4e08-a29d-46617fc093cd",
   "metadata": {},
   "outputs": [
    {
     "data": {
      "image/png": "[encoded data removed]",
      "text/plain": [
       "<Figure size 640x480 with 2 Axes>"
      ]
     },
     "metadata": {},
     "output_type": "display_data"
    }
   ],
   "source": [
    "# building the correlation matrix for the numerical data to estimate correlations\n",
    "corr=df[num_cols].corr()\n",
    "sns.heatmap(data = corr,annot=False)\n",
    "plt.show()"
   ]
  },
  {
   "cell_type": "code",
   "execution_count": 25,
   "id": "af2c4cd7-fcae-40f7-b301-14e6cf50b3c5",
   "metadata": {},
   "outputs": [
    {
     "data": {
      "text/plain": [
       "['ZipCode',\n",
       " 'CouncilDistrictCode',\n",
       " 'Latitude',\n",
       " 'Longitude',\n",
       " 'YearBuilt',\n",
       " 'NumberofBuildings',\n",
       " 'NumberofFloors',\n",
       " 'PropertyGFAParking',\n",
       " 'SecondLargestPropertyUseTypeGFA',\n",
       " 'ThirdLargestPropertyUseTypeGFA',\n",
       " 'ENERGYSTARScore']"
      ]
     },
     "execution_count": 25,
     "metadata": {},
     "output_type": "execute_result"
    }
   ],
   "source": [
    "# selecting numerical columns with weak correlation (threshold < 0.5) to be deleted for TotalGHGEmissions\n",
    "limit=0.5\n",
    "corr_remove=corr[(corr[\"TotalGHGEmissions\"]<limit)& (corr[\"TotalGHGEmissions\"]>-limit)]\n",
    "list_corr_remove=list(corr_remove.index)\n",
    "list_corr_remove"
   ]
  },
  {
   "cell_type": "code",
   "execution_count": 26,
   "id": "b28f211b-8af8-491a-aa3f-9a1192ae685e",
   "metadata": {},
   "outputs": [
    {
     "data": {
      "text/plain": [
       "['ZipCode',\n",
       " 'CouncilDistrictCode',\n",
       " 'Latitude',\n",
       " 'Longitude',\n",
       " 'YearBuilt',\n",
       " 'NumberofBuildings',\n",
       " 'NumberofFloors',\n",
       " 'PropertyGFAParking',\n",
       " 'SecondLargestPropertyUseTypeGFA',\n",
       " 'ThirdLargestPropertyUseTypeGFA',\n",
       " 'ENERGYSTARScore']"
      ]
     },
     "execution_count": 26,
     "metadata": {},
     "output_type": "execute_result"
    }
   ],
   "source": [
    "# selecting numerical columns with weak correlation (threshold < 0.5) to be deleted for Electricity(kWh)\n",
    "limit=0.5\n",
    "corr_remove2=corr[(corr[\"Electricity(kWh)\"]<limit)& (corr[\"Electricity(kWh)\"]>-limit)]\n",
    "list_corr_remove2=list(corr_remove.index)\n",
    "list_corr_remove2"
   ]
  },
  {
   "cell_type": "code",
   "execution_count": 27,
   "id": "76277cb0-5797-4514-adb5-80daff12826c",
   "metadata": {},
   "outputs": [
    {
     "data": {
      "text/plain": [
       "set()"
      ]
     },
     "execution_count": 27,
     "metadata": {},
     "output_type": "execute_result"
    }
   ],
   "source": [
    "# two lists of columns with weak correlation are the same\n",
    "set(list_corr_remove)-set(list_corr_remove2)"
   ]
  },
  {
   "cell_type": "code",
   "execution_count": 28,
   "id": "9c76f2d4-8afa-4f8d-83ab-cbf8c8657431",
   "metadata": {},
   "outputs": [],
   "source": [
    "# dropping the numerical columns with weak correlation\n",
    "df=df.drop(list_corr_remove,axis=1)"
   ]
  },
  {
   "cell_type": "code",
   "execution_count": 29,
   "id": "0498d978-6f99-45b6-badb-53d4459ec448",
   "metadata": {},
   "outputs": [
    {
     "name": "stdout",
     "output_type": "stream",
     "text": [
      "<class 'pandas.core.frame.DataFrame'>\n",
      "Int64Index: 3361 entries, 0 to 3375\n",
      "Data columns (total 13 columns):\n",
      " #   Column                        Non-Null Count  Dtype  \n",
      "---  ------                        --------------  -----  \n",
      " 0   BuildingType                  3361 non-null   object \n",
      " 1   PrimaryPropertyType           3361 non-null   object \n",
      " 2   Neighborhood                  3361 non-null   object \n",
      " 3   PropertyGFATotal              3361 non-null   float64\n",
      " 4   PropertyGFABuilding(s)        3361 non-null   float64\n",
      " 5   ListOfAllPropertyUseTypes     3361 non-null   object \n",
      " 6   LargestPropertyUseType        3361 non-null   object \n",
      " 7   LargestPropertyUseTypeGFA     3361 non-null   float64\n",
      " 8   SecondLargestPropertyUseType  3361 non-null   object \n",
      " 9   ThirdLargestPropertyUseType   3361 non-null   object \n",
      " 10  Electricity(kWh)              3361 non-null   float64\n",
      " 11  NaturalGas(therms)            3361 non-null   float64\n",
      " 12  TotalGHGEmissions             3361 non-null   float64\n",
      "dtypes: float64(6), object(7)\n",
      "memory usage: 367.6+ KB\n"
     ]
    }
   ],
   "source": [
    "# the resulting dataset after the previous stages of data cleaning\n",
    "df.info()"
   ]
  },
  {
   "cell_type": "code",
   "execution_count": 30,
   "id": "fa872749-5105-4bec-9adb-758335ca51a3",
   "metadata": {},
   "outputs": [],
   "source": [
    "# new splitting data into numerical and categorical after the previous stages of the cleaning\n",
    "all_cols=list(df.columns)\n",
    "num_cols=list(df._get_numeric_data().columns)\n",
    "cat_cols=list(set(all_cols)-set(num_cols))"
   ]
  },
  {
   "cell_type": "code",
   "execution_count": 31,
   "id": "b86e5b5d-ae51-4a5f-aa73-305af9cfc381",
   "metadata": {},
   "outputs": [],
   "source": [
    "# implementing OrdinalEncoder for the categorical data\n",
    "enc = OrdinalEncoder() \n",
    "df[cat_cols]= enc.fit_transform(df[cat_cols])"
   ]
  },
  {
   "cell_type": "code",
   "execution_count": 32,
   "id": "1bcd56c0-99f1-48a6-bb6b-e1c65443acae",
   "metadata": {},
   "outputs": [
    {
     "name": "stdout",
     "output_type": "stream",
     "text": [
      "<class 'pandas.core.frame.DataFrame'>\n",
      "Int64Index: 3361 entries, 0 to 3375\n",
      "Data columns (total 13 columns):\n",
      " #   Column                        Non-Null Count  Dtype  \n",
      "---  ------                        --------------  -----  \n",
      " 0   BuildingType                  3361 non-null   float64\n",
      " 1   PrimaryPropertyType           3361 non-null   float64\n",
      " 2   Neighborhood                  3361 non-null   float64\n",
      " 3   PropertyGFATotal              3361 non-null   float64\n",
      " 4   PropertyGFABuilding(s)        3361 non-null   float64\n",
      " 5   ListOfAllPropertyUseTypes     3361 non-null   float64\n",
      " 6   LargestPropertyUseType        3361 non-null   float64\n",
      " 7   LargestPropertyUseTypeGFA     3361 non-null   float64\n",
      " 8   SecondLargestPropertyUseType  3361 non-null   float64\n",
      " 9   ThirdLargestPropertyUseType   3361 non-null   float64\n",
      " 10  Electricity(kWh)              3361 non-null   float64\n",
      " 11  NaturalGas(therms)            3361 non-null   float64\n",
      " 12  TotalGHGEmissions             3361 non-null   float64\n",
      "dtypes: float64(13)\n",
      "memory usage: 367.6 KB\n"
     ]
    }
   ],
   "source": [
    "# all columns are clean and encoded\n",
    "df.info()"
   ]
  },
  {
   "cell_type": "code",
   "execution_count": 33,
   "id": "2b92310a-cb0f-41b6-99f7-51d9c4aa823d",
   "metadata": {},
   "outputs": [],
   "source": [
    "# STAGE 2 - MODELLING\n",
    "# before embarking on the modelling, it's recommended to make a perturbation of the dataset\n",
    "# but in our case, due to small size of the dataset, I skipped this step\n",
    "# dfr=pd.DataFrame(np.random.permutation(df.values),columns=df.columns)"
   ]
  },
  {
   "cell_type": "code",
   "execution_count": 34,
   "id": "7afe88f6-4de0-45ae-b50c-d57b9d7e39ab",
   "metadata": {},
   "outputs": [],
   "source": [
    "# defining X and y (TotalGHGEmissions), yel (Electricity(kWh))\n",
    "X=df.drop([\"TotalGHGEmissions\",\"Electricity(kWh)\"],axis=1)\n",
    "y=df[[\"TotalGHGEmissions\"]]\n",
    "yel=df[[\"Electricity(kWh)\"]]"
   ]
  },
  {
   "cell_type": "code",
   "execution_count": 35,
   "id": "cd6cba0d-787b-4441-9e26-5484bd9b8d18",
   "metadata": {},
   "outputs": [],
   "source": [
    "# Outliers removal\n",
    "lof = LocalOutlierFactor()\n",
    "yhat = lof.fit_predict(X)\n",
    "mask = yhat != -1\n",
    "X,y,yel=X.loc[mask,:],y.loc[mask,:],yel.loc[mask,:]"
   ]
  },
  {
   "cell_type": "code",
   "execution_count": 36,
   "id": "c7cee50c-b640-460a-bfe8-8b4c9ab9414f",
   "metadata": {},
   "outputs": [],
   "source": [
    "# splitting data into train and test \n",
    "X_train, X_test, y_train, y_test = train_test_split(X,y,test_size = 0.2, random_state = 1)"
   ]
  },
  {
   "cell_type": "code",
   "execution_count": 37,
   "id": "89d6a64a-f031-47fa-bc11-0c43b5459fd5",
   "metadata": {},
   "outputs": [],
   "source": [
    "# splitting yel similar to y_train, y_test\n",
    "_, _, yel_train, yel_test = train_test_split(X,yel,test_size = 0.2, random_state = 1)"
   ]
  },
  {
   "cell_type": "code",
   "execution_count": 38,
   "id": "37d50ead-5e1f-484d-903c-1d0a97516520",
   "metadata": {},
   "outputs": [
    {
     "data": {
      "text/plain": [
       "((2421, 1), (2421, 1), (606, 1), (606, 1))"
      ]
     },
     "execution_count": 38,
     "metadata": {},
     "output_type": "execute_result"
    }
   ],
   "source": [
    "# checking shapes \n",
    "y_train.shape,yel_train.shape,y_test.shape,yel_test.shape"
   ]
  },
  {
   "cell_type": "code",
   "execution_count": 39,
   "id": "7c590745-3557-42cb-b4df-ad11beb8c878",
   "metadata": {},
   "outputs": [],
   "source": [
    "# scaling data for x, train and test (keeping logics of fitting and transforming)\n",
    "scaler=StandardScaler()\n",
    "X_sc=scaler.fit_transform(X)\n",
    "X_tr=scaler.fit(X_train)\n",
    "X_train_sc=X_tr.transform(X_train)\n",
    "X_test_sc=X_tr.transform(X_test)"
   ]
  },
  {
   "cell_type": "code",
   "execution_count": 40,
   "id": "c0080878-7564-4819-a2da-90077a9c49e8",
   "metadata": {},
   "outputs": [
    {
     "name": "stdout",
     "output_type": "stream",
     "text": [
      "                         feature        VIF\n",
      "3               PropertyGFATotal  32.014753\n",
      "4         PropertyGFABuilding(s)  30.024982\n",
      "7      LargestPropertyUseTypeGFA  16.285734\n",
      "5      ListOfAllPropertyUseTypes   3.245122\n",
      "6         LargestPropertyUseType   2.813769\n",
      "1            PrimaryPropertyType   1.781032\n",
      "8   SecondLargestPropertyUseType   1.394227\n",
      "9    ThirdLargestPropertyUseType   1.267771\n",
      "10            NaturalGas(therms)   1.263154\n",
      "0                   BuildingType   1.200980\n",
      "2                   Neighborhood   1.033399\n"
     ]
    }
   ],
   "source": [
    "# additional stage to check multicollinearity among X columns\n",
    "# the first three X variables have high multicollinearity (>5), thus they are highly mutually dependent\n",
    "# keeping them won't deteriorate predictions, but may deteriorate features importance\n",
    "X_mult=X_sc\n",
    "vif_data = pd.DataFrame()\n",
    "vif_data[\"feature\"] = X.columns\n",
    "  \n",
    "# calculating VIF for each feature\n",
    "vif_data[\"VIF\"] = [variance_inflation_factor(X_sc, i)\n",
    "                          for i in range(len(X.columns))]\n",
    "  \n",
    "print(vif_data.sort_values(by='VIF',ascending=False))"
   ]
  },
  {
   "cell_type": "code",
   "execution_count": 41,
   "id": "8030fa26-deb3-48f6-8704-174dbf1866a0",
   "metadata": {},
   "outputs": [
    {
     "data": {
      "text/plain": [
       "(       TotalGHGEmissions\n",
       " count        3027.000000\n",
       " mean           90.973247\n",
       " std           258.733714\n",
       " min             0.090000\n",
       " 25%             9.650000\n",
       " 50%            34.520000\n",
       " 75%            90.630000\n",
       " max         10734.570000,\n",
       "        Electricity(kWh)\n",
       " count      3.027000e+03\n",
       " mean       9.479874e+05\n",
       " std        2.498523e+06\n",
       " min        1.000000e+00\n",
       " 25%        1.866692e+05\n",
       " 50%        3.422759e+05\n",
       " 75%        8.141756e+05\n",
       " max        8.046087e+07)"
      ]
     },
     "execution_count": 41,
     "metadata": {},
     "output_type": "execute_result"
    }
   ],
   "source": [
    "# we deal with the regression problem, hence we'll use Regressors for modelling\n",
    "y.describe(),yel.describe()"
   ]
  },
  {
   "cell_type": "code",
   "execution_count": 68,
   "id": "dfb9b78d-654a-46d0-8bc4-3d730f30295d",
   "metadata": {},
   "outputs": [
    {
     "name": "stdout",
     "output_type": "stream",
     "text": [
      "LR: 0.74 (109.45)\n",
      "KNN: 0.69 (120.23)\n",
      "SVM: 0.67 (121.57)\n",
      "SVM_opt: 0.83 (79.43)\n",
      "CART: 0.69 (115.21)\n",
      "RandForrest: 0.89 (62.30)\n",
      "GBR: 0.87 (67.85)\n",
      "XGB: 0.84 (81.23)\n"
     ]
    }
   ],
   "source": [
    "# set of different models to choose the best ones for further experiments (TotalGHGEmissions)\n",
    "# SVM_opt - already optimized HPs for SVR model, since I saw that a linear algorythm works best\n",
    "# due to small size of the dataset I utilize fit/predict method for train/test split instead of KFold\n",
    "models = []\n",
    "models.append(('LR', LinearRegression()))\n",
    "models.append(('KNN', KNeighborsRegressor()))\n",
    "models.append(('SVM', SVR()))\n",
    "models.append(('SVM_opt', SVR(kernel=\"linear\", gamma=\"auto\")))\n",
    "models.append(('CART', DecisionTreeRegressor()))\n",
    "models.append(('RandForrest', RandomForestRegressor()))\n",
    "models.append(('GBR', GradientBoostingRegressor()))\n",
    "models.append(('XGB', xgb.XGBRegressor()))\n",
    "\n",
    "for name, model in models:\n",
    "    model.fit(X_train_sc, np.ravel(y_train))\n",
    "    y_predictions = model.predict(X_test_sc)\n",
    "    r2 = np.corrcoef(np.ravel(y_test),np.ravel(y_predictions))[0,1]\n",
    "    rmse=np.sqrt(mean_squared_error(np.ravel(y_test),np.ravel(y_predictions)))\n",
    "    print('%s: %.2f (%.2f)' % (name, r2,rmse))"
   ]
  },
  {
   "cell_type": "code",
   "execution_count": 55,
   "id": "4e96fd22",
   "metadata": {},
   "outputs": [
    {
     "name": "stdout",
     "output_type": "stream",
     "text": [
      "Random grid:  {'n_estimators': [200, 250, 300, 350, 400], 'max_depth': [5, 6, 7, 8, 9, 10, 11, 12, 13, 15]} \n",
      "\n"
     ]
    }
   ],
   "source": [
    "# Hyperarameter (HP) Tuning to maximize performance of RF model (TotalGHGEmissions)    \n",
    "n_estimators = [int(x) for x in np.linspace(200, 400, num = 5)] # number of trees in the random forest\n",
    "max_depth = [int(x) for x in np.linspace(5, 15, num = 10)] # maximum number of levels allowed in each decision tree\n",
    "max_features=[round(float(x),1) for x in np.linspace(0.1, 1, num = 10)]\n",
    "# min_samples_leaf=[round(float(x),4) for x in np.linspace(0.0001, 0.002, num = 10)]\n",
    "\n",
    "random_grid = {'n_estimators': n_estimators,\n",
    "'max_depth': max_depth}\n",
    "# 'max_features':max_features}\n",
    "# 'min_samples_leaf':min_samples_leaf}\n",
    "\n",
    "print ('Random grid: ', random_grid, '\\n')"
   ]
  },
  {
   "cell_type": "code",
   "execution_count": 61,
   "id": "1524e56a",
   "metadata": {},
   "outputs": [
    {
     "name": "stdout",
     "output_type": "stream",
     "text": [
      "Fitting 5 folds for each of 10 candidates, totalling 50 fits\n",
      "Best parameters found:  {'n_estimators': 200, 'max_depth': 12}\n",
      "Lowest RMSE found:  235.5741537613917\n"
     ]
    }
   ],
   "source": [
    "# initializing the model and running RF (TotalGHGEmissions)\n",
    "rf_random = RandomizedSearchCV(RandomForestRegressor(), param_distributions = random_grid,\n",
    "            verbose=1, random_state=1, n_jobs = -1, scoring=\"neg_mean_squared_error\")\n",
    "rf_random.fit(X_train_sc, np.ravel(y_train))\n",
    "rf_best_params=rf_random.best_params_\n",
    "print(\"Best parameters found: \", rf_random.best_params_)\n",
    "print(\"Lowest RMSE found: \", np.sqrt(np.abs(rf_random.best_score_)))"
   ]
  },
  {
   "cell_type": "code",
   "execution_count": 62,
   "id": "e07b3e05",
   "metadata": {},
   "outputs": [
    {
     "name": "stdout",
     "output_type": "stream",
     "text": [
      "R2 = 0.89\n",
      "RMSE = 63.60\n"
     ]
    }
   ],
   "source": [
    "# HP tuning hasn't improved the result due to small size of the dataset (TotalGHGEmissions)\n",
    "rf_opt=RandomForestRegressor(**rf_best_params)\n",
    "rf_opt.fit(X_train_sc, np.ravel(y_train))\n",
    "y_predictions = rf_opt.predict(X_test_sc)\n",
    "r2 = np.corrcoef(np.ravel(y_test),np.ravel(y_predictions))[0,1]\n",
    "rmse=np.sqrt(mean_squared_error(np.ravel(y_test),np.ravel(y_predictions)))\n",
    "print('R2 = %.2f' % (r2))\n",
    "print('RMSE = %.2f' % (rmse))"
   ]
  },
  {
   "cell_type": "code",
   "execution_count": 46,
   "id": "d83389bb-1bb2-46b5-824f-093656fd7ee4",
   "metadata": {},
   "outputs": [
    {
     "data": {
      "text/html": [
       "<div>\n",
       "<style scoped>\n",
       "    .dataframe tbody tr th:only-of-type {\n",
       "        vertical-align: middle;\n",
       "    }\n",
       "\n",
       "    .dataframe tbody tr th {\n",
       "        vertical-align: top;\n",
       "    }\n",
       "\n",
       "    .dataframe thead th {\n",
       "        text-align: right;\n",
       "    }\n",
       "</style>\n",
       "<table border=\"1\" class=\"dataframe\">\n",
       "  <thead>\n",
       "    <tr style=\"text-align: right;\">\n",
       "      <th></th>\n",
       "      <th>feature_importance</th>\n",
       "    </tr>\n",
       "  </thead>\n",
       "  <tbody>\n",
       "    <tr>\n",
       "      <th>LargestPropertyUseTypeGFA</th>\n",
       "      <td>1323.25</td>\n",
       "    </tr>\n",
       "    <tr>\n",
       "      <th>PropertyGFABuilding(s)</th>\n",
       "      <td>1044.99</td>\n",
       "    </tr>\n",
       "    <tr>\n",
       "      <th>PropertyGFATotal</th>\n",
       "      <td>941.43</td>\n",
       "    </tr>\n",
       "    <tr>\n",
       "      <th>NaturalGas(therms)</th>\n",
       "      <td>823.27</td>\n",
       "    </tr>\n",
       "    <tr>\n",
       "      <th>BuildingType</th>\n",
       "      <td>21.98</td>\n",
       "    </tr>\n",
       "    <tr>\n",
       "      <th>PrimaryPropertyType</th>\n",
       "      <td>18.94</td>\n",
       "    </tr>\n",
       "    <tr>\n",
       "      <th>Neighborhood</th>\n",
       "      <td>17.92</td>\n",
       "    </tr>\n",
       "    <tr>\n",
       "      <th>ListOfAllPropertyUseTypes</th>\n",
       "      <td>6.69</td>\n",
       "    </tr>\n",
       "    <tr>\n",
       "      <th>ThirdLargestPropertyUseType</th>\n",
       "      <td>6.04</td>\n",
       "    </tr>\n",
       "    <tr>\n",
       "      <th>LargestPropertyUseType</th>\n",
       "      <td>0.47</td>\n",
       "    </tr>\n",
       "    <tr>\n",
       "      <th>SecondLargestPropertyUseType</th>\n",
       "      <td>0.18</td>\n",
       "    </tr>\n",
       "  </tbody>\n",
       "</table>\n",
       "</div>"
      ],
      "text/plain": [
       "                              feature_importance\n",
       "LargestPropertyUseTypeGFA                1323.25\n",
       "PropertyGFABuilding(s)                   1044.99\n",
       "PropertyGFATotal                          941.43\n",
       "NaturalGas(therms)                        823.27\n",
       "BuildingType                               21.98\n",
       "PrimaryPropertyType                        18.94\n",
       "Neighborhood                               17.92\n",
       "ListOfAllPropertyUseTypes                   6.69\n",
       "ThirdLargestPropertyUseType                 6.04\n",
       "LargestPropertyUseType                      0.47\n",
       "SecondLargestPropertyUseType                0.18"
      ]
     },
     "execution_count": 46,
     "metadata": {},
     "output_type": "execute_result"
    }
   ],
   "source": [
    "# this time I'll utilize SelectKBest to define a set of features that contribute the most to the model (TotalGHGEmissions)\n",
    "# TOP 4 features: LargestPropertyUseTypeGFA, PropertyGFABuilding(s), PropertyGFATotal, NaturalGas(therms)\n",
    "ft = SelectKBest(f_regression, k='all').fit(X_sc, np.ravel(y))\n",
    "scores=np.round(ft.scores_,2)\n",
    "summary_df=pd.DataFrame(data=scores,columns=['feature_importance'])\n",
    "summary_df.index=X.columns\n",
    "summary_df.sort_values(by='feature_importance',ascending=False)"
   ]
  },
  {
   "cell_type": "code",
   "execution_count": 47,
   "id": "538a218b-1cf0-4f12-8d8e-13e2cf734432",
   "metadata": {},
   "outputs": [
    {
     "name": "stdout",
     "output_type": "stream",
     "text": [
      "LR: 0.81 (1166294.57)\n",
      "KNN: 0.82 (1107801.37)\n",
      "SVM: 0.43 (2001866.07)\n",
      "SVM_opt: 0.80 (1998763.16)\n",
      "CART: 0.81 (1148341.34)\n",
      "RandForrest: 0.86 (981892.66)\n",
      "GBR: 0.79 (1296408.04)\n",
      "XGB: 0.86 (1012122.08)\n"
     ]
    }
   ],
   "source": [
    "# set of different models to choose the best ones for further experiments (Electricity(kWh)\n",
    "# due to small size of the dataset I utilize fit/predict method for train/test split instead of KFold\n",
    "for name, model in models:\n",
    "    model.fit(X_train_sc, np.ravel(yel_train))\n",
    "    y_predictions = model.predict(X_test_sc)\n",
    "    r2 = np.corrcoef(np.ravel(yel_test),np.ravel(y_predictions))[0,1]\n",
    "    rmse=np.sqrt(mean_squared_error(np.ravel(yel_test),np.ravel(y_predictions)))\n",
    "    print('%s: %.2f (%.2f)' % (name, r2,rmse))"
   ]
  },
  {
   "cell_type": "code",
   "execution_count": 48,
   "id": "3fffa970",
   "metadata": {},
   "outputs": [
    {
     "name": "stdout",
     "output_type": "stream",
     "text": [
      "Fitting 2 folds for each of 10 candidates, totalling 20 fits\n",
      "{'n_estimators': 250, 'max_depth': 7, 'colsample_bytree': 0.9}\n",
      "Lowest RMSE found:  2007835.8771869345\n"
     ]
    }
   ],
   "source": [
    "# finally I'll utilize Hyperarameter Tuning in order to set the optimal set of parameters to maximize performance \n",
    "# of the best model - XGB (Electricity(kWh)\n",
    "n_estimators = [int(x) for x in np.linspace(100, 300, num = 5)] # number of trees in the random forest\n",
    "max_depth = [int(x) for x in np.linspace(1, 12, num = 10)] # maximum number of levels allowed in each decision tree\n",
    "colsample_bytree=[round(float(x),1) for x in np.linspace(0.5, 1, num = 8)]\n",
    "\n",
    "xgb_param_grid = {\n",
    "    'colsample_bytree':colsample_bytree,\n",
    "    'n_estimators':n_estimators,\n",
    "    'max_depth':max_depth}\n",
    "xgb_random = RandomizedSearchCV(xgb.XGBRegressor(), param_distributions = xgb_param_grid,\n",
    "            verbose=1, random_state=1, n_jobs = -1, cv=2, scoring=\"neg_mean_squared_error\")\n",
    "xgb_random.fit(X_train_sc,np.ravel(yel_train))\n",
    "xgb_best_params=xgb_random.best_params_\n",
    "print(xgb_best_params)\n",
    "print(\"Lowest RMSE found: \", np.sqrt(np.abs(xgb_random.best_score_)))"
   ]
  },
  {
   "cell_type": "code",
   "execution_count": 49,
   "id": "7d6d0502",
   "metadata": {},
   "outputs": [
    {
     "name": "stdout",
     "output_type": "stream",
     "text": [
      "R2 = 0.88\n",
      "RMSE = 950769.28\n"
     ]
    }
   ],
   "source": [
    "# HP tuning improved R2 of the XGB model from 0.86 up to 0.88 (Electricity(kWh)\n",
    "# Attention! the comparison is not correct due to small size of the dataset (I left it just as an example)\n",
    "xgb_opt=xgb.XGBRegressor(**xgb_best_params)\n",
    "xgb_opt.fit(X_train_sc, np.ravel(yel_train))\n",
    "y_predictions = xgb_opt.predict(X_test_sc)\n",
    "r2 = np.corrcoef(np.ravel(yel_test),np.ravel(y_predictions))[0,1]\n",
    "rmse=np.sqrt(mean_squared_error(np.ravel(yel_test),np.ravel(y_predictions)))\n",
    "print('R2 = %.2f' % (r2))\n",
    "print('RMSE = %.2f' % (rmse))"
   ]
  },
  {
   "cell_type": "code",
   "execution_count": 50,
   "id": "b9cc5327-891f-46ce-ba6a-8ffd24043daa",
   "metadata": {},
   "outputs": [
    {
     "data": {
      "text/html": [
       "<div>\n",
       "<style scoped>\n",
       "    .dataframe tbody tr th:only-of-type {\n",
       "        vertical-align: middle;\n",
       "    }\n",
       "\n",
       "    .dataframe tbody tr th {\n",
       "        vertical-align: top;\n",
       "    }\n",
       "\n",
       "    .dataframe thead th {\n",
       "        text-align: right;\n",
       "    }\n",
       "</style>\n",
       "<table border=\"1\" class=\"dataframe\">\n",
       "  <thead>\n",
       "    <tr style=\"text-align: right;\">\n",
       "      <th></th>\n",
       "      <th>feature_importance</th>\n",
       "    </tr>\n",
       "  </thead>\n",
       "  <tbody>\n",
       "    <tr>\n",
       "      <th>PropertyGFATotal</th>\n",
       "      <td>2220.70</td>\n",
       "    </tr>\n",
       "    <tr>\n",
       "      <th>PropertyGFABuilding(s)</th>\n",
       "      <td>2164.34</td>\n",
       "    </tr>\n",
       "    <tr>\n",
       "      <th>LargestPropertyUseTypeGFA</th>\n",
       "      <td>2091.47</td>\n",
       "    </tr>\n",
       "    <tr>\n",
       "      <th>NaturalGas(therms)</th>\n",
       "      <td>195.70</td>\n",
       "    </tr>\n",
       "    <tr>\n",
       "      <th>ThirdLargestPropertyUseType</th>\n",
       "      <td>77.00</td>\n",
       "    </tr>\n",
       "    <tr>\n",
       "      <th>BuildingType</th>\n",
       "      <td>36.62</td>\n",
       "    </tr>\n",
       "    <tr>\n",
       "      <th>Neighborhood</th>\n",
       "      <td>26.74</td>\n",
       "    </tr>\n",
       "    <tr>\n",
       "      <th>PrimaryPropertyType</th>\n",
       "      <td>13.97</td>\n",
       "    </tr>\n",
       "    <tr>\n",
       "      <th>SecondLargestPropertyUseType</th>\n",
       "      <td>13.25</td>\n",
       "    </tr>\n",
       "    <tr>\n",
       "      <th>ListOfAllPropertyUseTypes</th>\n",
       "      <td>12.00</td>\n",
       "    </tr>\n",
       "    <tr>\n",
       "      <th>LargestPropertyUseType</th>\n",
       "      <td>0.00</td>\n",
       "    </tr>\n",
       "  </tbody>\n",
       "</table>\n",
       "</div>"
      ],
      "text/plain": [
       "                              feature_importance\n",
       "PropertyGFATotal                         2220.70\n",
       "PropertyGFABuilding(s)                   2164.34\n",
       "LargestPropertyUseTypeGFA                2091.47\n",
       "NaturalGas(therms)                        195.70\n",
       "ThirdLargestPropertyUseType                77.00\n",
       "BuildingType                               36.62\n",
       "Neighborhood                               26.74\n",
       "PrimaryPropertyType                        13.97\n",
       "SecondLargestPropertyUseType               13.25\n",
       "ListOfAllPropertyUseTypes                  12.00\n",
       "LargestPropertyUseType                      0.00"
      ]
     },
     "execution_count": 50,
     "metadata": {},
     "output_type": "execute_result"
    }
   ],
   "source": [
    "# this time I'll utilize SelectKBest to define a set of features that contribute the most to the model (Electricity(kWh)\n",
    "# TOP 3 features: PropertyGFATotal, PropertyGFABuilding(s), LargestPropertyUseTypeGFA\n",
    "ft = SelectKBest(f_regression, k='all').fit(X_sc, np.ravel(yel))\n",
    "scores=np.round(ft.scores_,2)\n",
    "summary_df=pd.DataFrame(data=scores,columns=['feature_importance'])\n",
    "summary_df.index=X.columns\n",
    "summary_df.sort_values(by='feature_importance',ascending=False)"
   ]
  }
 ],
 "metadata": {
  "kernelspec": {
   "display_name": "Python 3 (ipykernel)",
   "language": "python",
   "name": "python3"
  },
  "language_info": {
   "codemirror_mode": {
    "name": "ipython",
    "version": 3
   },
   "file_extension": ".py",
   "mimetype": "text/x-python",
   "name": "python",
   "nbconvert_exporter": "python",
   "pygments_lexer": "ipython3",
   "version": "3.10.9"
  }
 },
 "nbformat": 4,
 "nbformat_minor": 5
}
