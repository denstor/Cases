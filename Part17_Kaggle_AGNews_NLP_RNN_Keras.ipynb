{
 "cells": [
  {
   "cell_type": "code",
   "execution_count": 1,
   "id": "1a8007dc",
   "metadata": {},
   "outputs": [],
   "source": [
    "import tensorflow as tf\n",
    "from tensorflow import keras\n",
    "import tensorflow_datasets as tfds\n",
    "import numpy as np\n",
    "import pandas as pd\n",
    "from keras.callbacks import EarlyStopping\n",
    "from matplotlib import pyplot"
   ]
  },
  {
   "cell_type": "code",
   "execution_count": 2,
   "id": "107aee75",
   "metadata": {},
   "outputs": [],
   "source": [
    "# We are going to be training pretty large models. In order not to face errors, we need\n",
    "# to set tensorflow option to grow GPU memory allocation when required.\n",
    "\n",
    "physical_devices = tf.config.list_physical_devices('GPU') \n",
    "if len(physical_devices)>0:\n",
    "    tf.config.experimental.set_memory_growth(physical_devices[0], True)"
   ]
  },
  {
   "cell_type": "code",
   "execution_count": 3,
   "id": "ba1d6e8b",
   "metadata": {},
   "outputs": [],
   "source": [
    "# Loading datasets\n",
    "\n",
    "df_train=pd.read_csv('train_news.csv')\n",
    "df_test=pd.read_csv('test_news.csv')"
   ]
  },
  {
   "cell_type": "code",
   "execution_count": 4,
   "id": "56d05337",
   "metadata": {},
   "outputs": [],
   "source": [
    "# Labeling data (changing labels 1..4 for 0..3 for a Dense layer to be within the requested range)\n",
    "\n",
    "df_train[['Class Index']]=df_train[['Class Index']].replace(to_replace=[1,2,3,4],value=[0,1,2,3])\n",
    "df_test[['Class Index']]=df_test[['Class Index']].replace(to_replace=[1,2,3,4],value=[0,1,2,3])\n",
    "# df_train[['Class Index']]=df_train[['Class Index']].replace(to_replace=[0,1,2,3],value=['World', 'Sports', 'Business', 'Sci/Tech'])\n",
    "# df_test[['Class Index']]=df_test[['Class Index']].replace(to_replace=[0,1,2,3],value=['World', 'Sports', 'Business', 'Sci/Tech'])"
   ]
  },
  {
   "cell_type": "code",
   "execution_count": 5,
   "id": "4c1bcebb",
   "metadata": {},
   "outputs": [
    {
     "name": "stdout",
     "output_type": "stream",
     "text": [
      "Length of train dataset = 120000\n",
      "Length of test dataset = 7600\n"
     ]
    }
   ],
   "source": [
    "# Checking length\n",
    "\n",
    "print(f\"Length of train dataset = {len(df_train)}\")\n",
    "print(f\"Length of test dataset = {len(df_test)}\")"
   ]
  },
  {
   "cell_type": "code",
   "execution_count": 6,
   "id": "3c057cc9",
   "metadata": {},
   "outputs": [
    {
     "data": {
      "text/html": [
       "<div>\n",
       "<style scoped>\n",
       "    .dataframe tbody tr th:only-of-type {\n",
       "        vertical-align: middle;\n",
       "    }\n",
       "\n",
       "    .dataframe tbody tr th {\n",
       "        vertical-align: top;\n",
       "    }\n",
       "\n",
       "    .dataframe thead th {\n",
       "        text-align: right;\n",
       "    }\n",
       "</style>\n",
       "<table border=\"1\" class=\"dataframe\">\n",
       "  <thead>\n",
       "    <tr style=\"text-align: right;\">\n",
       "      <th></th>\n",
       "      <th>Class Index</th>\n",
       "      <th>Title</th>\n",
       "      <th>Description</th>\n",
       "    </tr>\n",
       "  </thead>\n",
       "  <tbody>\n",
       "    <tr>\n",
       "      <th>0</th>\n",
       "      <td>2</td>\n",
       "      <td>Wall St. Bears Claw Back Into the Black (Reuters)</td>\n",
       "      <td>Reuters - Short-sellers, Wall Street's dwindli...</td>\n",
       "    </tr>\n",
       "    <tr>\n",
       "      <th>1</th>\n",
       "      <td>2</td>\n",
       "      <td>Carlyle Looks Toward Commercial Aerospace (Reu...</td>\n",
       "      <td>Reuters - Private investment firm Carlyle Grou...</td>\n",
       "    </tr>\n",
       "    <tr>\n",
       "      <th>2</th>\n",
       "      <td>2</td>\n",
       "      <td>Oil and Economy Cloud Stocks' Outlook (Reuters)</td>\n",
       "      <td>Reuters - Soaring crude prices plus worries\\ab...</td>\n",
       "    </tr>\n",
       "    <tr>\n",
       "      <th>3</th>\n",
       "      <td>2</td>\n",
       "      <td>Iraq Halts Oil Exports from Main Southern Pipe...</td>\n",
       "      <td>Reuters - Authorities have halted oil export\\f...</td>\n",
       "    </tr>\n",
       "    <tr>\n",
       "      <th>4</th>\n",
       "      <td>2</td>\n",
       "      <td>Oil prices soar to all-time record, posing new...</td>\n",
       "      <td>AFP - Tearaway world oil prices, toppling reco...</td>\n",
       "    </tr>\n",
       "  </tbody>\n",
       "</table>\n",
       "</div>"
      ],
      "text/plain": [
       "   Class Index                                              Title  \\\n",
       "0            2  Wall St. Bears Claw Back Into the Black (Reuters)   \n",
       "1            2  Carlyle Looks Toward Commercial Aerospace (Reu...   \n",
       "2            2    Oil and Economy Cloud Stocks' Outlook (Reuters)   \n",
       "3            2  Iraq Halts Oil Exports from Main Southern Pipe...   \n",
       "4            2  Oil prices soar to all-time record, posing new...   \n",
       "\n",
       "                                         Description  \n",
       "0  Reuters - Short-sellers, Wall Street's dwindli...  \n",
       "1  Reuters - Private investment firm Carlyle Grou...  \n",
       "2  Reuters - Soaring crude prices plus worries\\ab...  \n",
       "3  Reuters - Authorities have halted oil export\\f...  \n",
       "4  AFP - Tearaway world oil prices, toppling reco...  "
      ]
     },
     "execution_count": 6,
     "metadata": {},
     "output_type": "execute_result"
    }
   ],
   "source": [
    "# Printing train head\n",
    "\n",
    "df_train.head()"
   ]
  },
  {
   "cell_type": "code",
   "execution_count": 7,
   "id": "67220788",
   "metadata": {},
   "outputs": [
    {
     "data": {
      "text/html": [
       "<div>\n",
       "<style scoped>\n",
       "    .dataframe tbody tr th:only-of-type {\n",
       "        vertical-align: middle;\n",
       "    }\n",
       "\n",
       "    .dataframe tbody tr th {\n",
       "        vertical-align: top;\n",
       "    }\n",
       "\n",
       "    .dataframe thead th {\n",
       "        text-align: right;\n",
       "    }\n",
       "</style>\n",
       "<table border=\"1\" class=\"dataframe\">\n",
       "  <thead>\n",
       "    <tr style=\"text-align: right;\">\n",
       "      <th></th>\n",
       "      <th>Class Index</th>\n",
       "      <th>Title</th>\n",
       "      <th>Description</th>\n",
       "    </tr>\n",
       "  </thead>\n",
       "  <tbody>\n",
       "    <tr>\n",
       "      <th>0</th>\n",
       "      <td>2</td>\n",
       "      <td>Fears for T N pension after talks</td>\n",
       "      <td>Unions representing workers at Turner   Newall...</td>\n",
       "    </tr>\n",
       "    <tr>\n",
       "      <th>1</th>\n",
       "      <td>3</td>\n",
       "      <td>The Race is On: Second Private Team Sets Launc...</td>\n",
       "      <td>SPACE.com - TORONTO, Canada -- A second\\team o...</td>\n",
       "    </tr>\n",
       "    <tr>\n",
       "      <th>2</th>\n",
       "      <td>3</td>\n",
       "      <td>Ky. Company Wins Grant to Study Peptides (AP)</td>\n",
       "      <td>AP - A company founded by a chemistry research...</td>\n",
       "    </tr>\n",
       "    <tr>\n",
       "      <th>3</th>\n",
       "      <td>3</td>\n",
       "      <td>Prediction Unit Helps Forecast Wildfires (AP)</td>\n",
       "      <td>AP - It's barely dawn when Mike Fitzpatrick st...</td>\n",
       "    </tr>\n",
       "    <tr>\n",
       "      <th>4</th>\n",
       "      <td>3</td>\n",
       "      <td>Calif. Aims to Limit Farm-Related Smog (AP)</td>\n",
       "      <td>AP - Southern California's smog-fighting agenc...</td>\n",
       "    </tr>\n",
       "  </tbody>\n",
       "</table>\n",
       "</div>"
      ],
      "text/plain": [
       "   Class Index                                              Title  \\\n",
       "0            2                  Fears for T N pension after talks   \n",
       "1            3  The Race is On: Second Private Team Sets Launc...   \n",
       "2            3      Ky. Company Wins Grant to Study Peptides (AP)   \n",
       "3            3      Prediction Unit Helps Forecast Wildfires (AP)   \n",
       "4            3        Calif. Aims to Limit Farm-Related Smog (AP)   \n",
       "\n",
       "                                         Description  \n",
       "0  Unions representing workers at Turner   Newall...  \n",
       "1  SPACE.com - TORONTO, Canada -- A second\\team o...  \n",
       "2  AP - A company founded by a chemistry research...  \n",
       "3  AP - It's barely dawn when Mike Fitzpatrick st...  \n",
       "4  AP - Southern California's smog-fighting agenc...  "
      ]
     },
     "execution_count": 7,
     "metadata": {},
     "output_type": "execute_result"
    }
   ],
   "source": [
    "df_test.head()"
   ]
  },
  {
   "cell_type": "code",
   "execution_count": 8,
   "id": "33b1f6fb",
   "metadata": {},
   "outputs": [
    {
     "name": "stdout",
     "output_type": "stream",
     "text": [
      "<class 'pandas.core.frame.DataFrame'>\n",
      "RangeIndex: 120000 entries, 0 to 119999\n",
      "Data columns (total 3 columns):\n",
      " #   Column       Non-Null Count   Dtype \n",
      "---  ------       --------------   ----- \n",
      " 0   Class Index  120000 non-null  int64 \n",
      " 1   Title        120000 non-null  object\n",
      " 2   Description  120000 non-null  object\n",
      "dtypes: int64(1), object(2)\n",
      "memory usage: 2.7+ MB\n",
      "<class 'pandas.core.frame.DataFrame'>\n",
      "RangeIndex: 7600 entries, 0 to 7599\n",
      "Data columns (total 3 columns):\n",
      " #   Column       Non-Null Count  Dtype \n",
      "---  ------       --------------  ----- \n",
      " 0   Class Index  7600 non-null   int64 \n",
      " 1   Title        7600 non-null   object\n",
      " 2   Description  7600 non-null   object\n",
      "dtypes: int64(1), object(2)\n",
      "memory usage: 178.2+ KB\n"
     ]
    },
    {
     "data": {
      "text/plain": [
       "(None, None)"
      ]
     },
     "execution_count": 8,
     "metadata": {},
     "output_type": "execute_result"
    }
   ],
   "source": [
    "df_train.info(), df_test.info()"
   ]
  },
  {
   "cell_type": "code",
   "execution_count": 9,
   "id": "7c570729",
   "metadata": {},
   "outputs": [
    {
     "data": {
      "text/plain": [
       "(2    30000\n",
       " 3    30000\n",
       " 1    30000\n",
       " 0    30000\n",
       " Name: Class Index, dtype: int64,\n",
       " 2    1900\n",
       " 3    1900\n",
       " 1    1900\n",
       " 0    1900\n",
       " Name: Class Index, dtype: int64)"
      ]
     },
     "execution_count": 9,
     "metadata": {},
     "output_type": "execute_result"
    }
   ],
   "source": [
    "df_train['Class Index'].value_counts(), df_test['Class Index'].value_counts()"
   ]
  },
  {
   "cell_type": "code",
   "execution_count": 10,
   "id": "557d03f1",
   "metadata": {},
   "outputs": [],
   "source": [
    "# Creating a combined column of Titles and Descriptions\n",
    "\n",
    "df_train['Combined']=df_train['Title']+' '+df_train['Description']\n",
    "df_test['Combined']=df_test['Title']+' '+df_test['Description']"
   ]
  },
  {
   "cell_type": "code",
   "execution_count": 11,
   "id": "202b6e3e",
   "metadata": {},
   "outputs": [],
   "source": [
    "# Now we need to convert text into numbers that can be represented as tensors. \n",
    "# If we want word-level representation, we need to do two things:\n",
    "# Use a tokenizer to split text into tokens.\n",
    "# Build a vocabulary of those tokens.\n",
    "# Limiting vocabulary size.\n",
    "# Automatically calculating BoW Vectors \n",
    "\n",
    "vocab_size = 50000\n",
    "vectorizer = keras.layers.experimental.preprocessing.TextVectorization(max_tokens=vocab_size,output_mode='count')\n",
    "vectorizer.adapt(df_train['Combined'])"
   ]
  },
  {
   "cell_type": "code",
   "execution_count": 12,
   "id": "4fc26303",
   "metadata": {},
   "outputs": [
    {
     "name": "stdout",
     "output_type": "stream",
     "text": [
      "['[UNK]', 'the', 'to', 'a', 'of', 'in', 'and', 'on', 'for', '39s']\n",
      "Length of vocabulary: 50000\n"
     ]
    }
   ],
   "source": [
    "# Now we can access the actual vocabulary\n",
    "\n",
    "vocab = vectorizer.get_vocabulary()\n",
    "vocab_size = len(vocab)\n",
    "print(vocab[:10])\n",
    "print(f\"Length of vocabulary: {vocab_size}\")"
   ]
  },
  {
   "cell_type": "code",
   "execution_count": 13,
   "id": "be4e4423",
   "metadata": {},
   "outputs": [
    {
     "data": {
      "text/plain": [
       "<tf.Tensor: shape=(50000,), dtype=float32, numpy=array([0., 0., 0., ..., 0., 0., 0.], dtype=float32)>"
      ]
     },
     "execution_count": 13,
     "metadata": {},
     "output_type": "execute_result"
    }
   ],
   "source": [
    "# Using the vectorizer, we can easily encode any text into a set of numbers\n",
    "\n",
    "vectorizer(\"Let's check how it works\")"
   ]
  },
  {
   "cell_type": "code",
   "execution_count": 28,
   "id": "c7fae0f0",
   "metadata": {},
   "outputs": [],
   "source": [
    "# Checking a model with Term frequency - inverse document frequency (TF-IDF) Vectorizer\n",
    "model = keras.models.Sequential([\n",
    "    keras.layers.experimental.preprocessing.TextVectorization(max_tokens=vocab_size,output_mode='tf-idf'),\n",
    "    keras.layers.Dense(4,input_shape=(vocab_size,), activation='softmax')\n",
    "])"
   ]
  },
  {
   "cell_type": "code",
   "execution_count": 29,
   "id": "33ae0472",
   "metadata": {},
   "outputs": [
    {
     "name": "stdout",
     "output_type": "stream",
     "text": [
      "Training vectorizer\n",
      "Epoch 2: early stopping\n"
     ]
    }
   ],
   "source": [
    "print(\"Training vectorizer\")\n",
    "\n",
    "model.layers[0].adapt(df_train['Combined'])\n",
    "model.compile(loss='sparse_categorical_crossentropy',optimizer='adam',metrics=['acc'])\n",
    "history = model.fit(df_train['Combined'].values,df_train['Class Index'].values,\n",
    "        validation_data=[df_test['Combined'].values,df_test['Class Index'].values],\n",
    "        epochs=10, verbose=0, batch_size=64,\n",
    "        callbacks=[EarlyStopping(monitor='val_loss', mode='min', verbose=0)])"
   ]
  },
  {
   "cell_type": "code",
   "execution_count": 35,
   "id": "dd6833f1",
   "metadata": {},
   "outputs": [
    {
     "name": "stdout",
     "output_type": "stream",
     "text": [
      "Train: 0.974, Test: 0.913\n"
     ]
    }
   ],
   "source": [
    "# evaluate the model\n",
    "\n",
    "_, train_acc = model.evaluate(df_train['Combined'].values,df_train['Class Index'].values, verbose=0)\n",
    "_, test_acc = model.evaluate(df_test['Combined'].values,df_test['Class Index'].values, verbose=0)\n",
    "print('Train: %.3f, Test: %.3f' % (train_acc, test_acc))"
   ]
  },
  {
   "cell_type": "code",
   "execution_count": 30,
   "id": "42352b02",
   "metadata": {},
   "outputs": [
    {
     "data": {
      "image/png": "[encoded data removed]",
      "text/plain": [
       "<Figure size 640x480 with 1 Axes>"
      ]
     },
     "metadata": {},
     "output_type": "display_data"
    }
   ],
   "source": [
    "# plot training history\n",
    "\n",
    "pyplot.plot(history.history['loss'], label='train')\n",
    "pyplot.plot(history.history['val_loss'], label='test')\n",
    "pyplot.legend()\n",
    "pyplot.show()"
   ]
  },
  {
   "cell_type": "code",
   "execution_count": 36,
   "id": "69917e58",
   "metadata": {},
   "outputs": [],
   "source": [
    "# Model prediction for test data\n",
    "# predictions=model.predict(df_test['Combined'])\n",
    "# predictions"
   ]
  },
  {
   "cell_type": "code",
   "execution_count": 37,
   "id": "e94047ca",
   "metadata": {},
   "outputs": [],
   "source": [
    "# Once more checking accuracy for test data (already done for validation data while fitting the model)\n",
    "# Though the model is very simple, I've managed to get quite a high accuracy\n",
    "# predictions_max=predictions.argmax(axis=1)\n",
    "# np.average(df_test['Class Index']==predictions_max)"
   ]
  },
  {
   "cell_type": "code",
   "execution_count": null,
   "id": "b152e05f",
   "metadata": {},
   "outputs": [],
   "source": [
    "stop!"
   ]
  },
  {
   "cell_type": "code",
   "execution_count": null,
   "id": "fd0435a7",
   "metadata": {},
   "outputs": [],
   "source": [
    "# Switching from bag-of-words to an embedding bag model as a way to reduce the dimensionality of a word vector\n",
    "\n",
    "# vectorizer = keras.layers.experimental.preprocessing.TextVectorization(max_tokens=vocab_size,input_shape=(1,))\n",
    "# model = keras.models.Sequential([\n",
    "#     vectorizer,    \n",
    "#     keras.layers.Embedding(vocab_size,100),\n",
    "#     keras.layers.Lambda(lambda x: tf.reduce_mean(x,axis=1)),\n",
    "#     keras.layers.Dense(4, activation='softmax')\n",
    "# ])\n",
    "# model.summary()"
   ]
  },
  {
   "cell_type": "code",
   "execution_count": null,
   "id": "dfc6f4c7",
   "metadata": {},
   "outputs": [],
   "source": [
    "# vectorizer.adapt(df_train['Combined'])\n",
    "\n",
    "# model.compile(loss='sparse_categorical_crossentropy',metrics=['acc'])\n",
    "# model.fit(df_train['Combined'].values,df_train['Class Index'].values,\n",
    "#          validation_data=[df_test['Combined'].values,df_test['Class Index'].values])"
   ]
  },
  {
   "cell_type": "code",
   "execution_count": null,
   "id": "b29fed2a",
   "metadata": {},
   "outputs": [],
   "source": [
    "stop!"
   ]
  },
  {
   "cell_type": "code",
   "execution_count": 38,
   "id": "c867dc17",
   "metadata": {},
   "outputs": [
    {
     "name": "stdout",
     "output_type": "stream",
     "text": [
      "Model: \"sequential_3\"\n",
      "_________________________________________________________________\n",
      " Layer (type)                Output Shape              Param #   \n",
      "=================================================================\n",
      " text_vectorization_4 (Text  (None, None)              0         \n",
      " Vectorization)                                                  \n",
      "                                                                 \n",
      " embedding (Embedding)       (None, None, 128)         6400000   \n",
      "                                                                 \n",
      " bidirectional (Bidirection  (None, None, 128)         98816     \n",
      " al)                                                             \n",
      "                                                                 \n",
      " bidirectional_1 (Bidirecti  (None, 128)               98816     \n",
      " onal)                                                           \n",
      "                                                                 \n",
      " dense_3 (Dense)             (None, 4)                 516       \n",
      "                                                                 \n",
      "=================================================================\n",
      "Total params: 6598148 (25.17 MB)\n",
      "Trainable params: 6598148 (25.17 MB)\n",
      "Non-trainable params: 0 (0.00 Byte)\n",
      "_________________________________________________________________\n"
     ]
    }
   ],
   "source": [
    "# Using embeddings, LSTM, bidirectional and multilayer RNNs \n",
    "# to check if it can improve Accuracy\n",
    "\n",
    "vectorizer = keras.layers.experimental.preprocessing.TextVectorization(max_tokens=vocab_size,input_shape=(1,))\n",
    "model = keras.models.Sequential([\n",
    "    vectorizer,\n",
    "    keras.layers.Embedding(vocab_size, 128, mask_zero=True),\n",
    "    keras.layers.Bidirectional(keras.layers.LSTM(64,return_sequences=True)),\n",
    "    keras.layers.Bidirectional(keras.layers.LSTM(64)),    \n",
    "    keras.layers.Dense(4,activation='softmax')\n",
    "])\n",
    "model.summary()"
   ]
  },
  {
   "cell_type": "code",
   "execution_count": 40,
   "id": "0bc2ff48",
   "metadata": {},
   "outputs": [
    {
     "name": "stdout",
     "output_type": "stream",
     "text": [
      "Epoch 1/10\n",
      "1875/1875 [==============================] - 622s 324ms/step - loss: 0.2757 - acc: 0.9074 - val_loss: 0.2465 - val_acc: 0.9153\n",
      "Epoch 2/10\n",
      "1875/1875 [==============================] - 666s 355ms/step - loss: 0.1650 - acc: 0.9437 - val_loss: 0.2615 - val_acc: 0.9136\n",
      "Epoch 2: early stopping\n"
     ]
    }
   ],
   "source": [
    "# Running the model with batch_size and EarlyStopping monitor\n",
    "\n",
    "print(\"Training vectorizer\")\n",
    "vectorizer.adapt(df_train['Combined'])\n",
    "model.compile(loss='sparse_categorical_crossentropy',metrics=['acc'], optimizer='adam')\n",
    "history1=model.fit(df_train['Combined'].values,df_train['Class Index'].values, batch_size=64,\n",
    "        epochs=10, verbose=1,\n",
    "        callbacks=[EarlyStopping(monitor='val_loss', mode='min', verbose=1)],\n",
    "        validation_data=[df_test['Combined'].values,df_test['Class Index'].values])"
   ]
  },
  {
   "cell_type": "code",
   "execution_count": 41,
   "id": "a99d54ed",
   "metadata": {},
   "outputs": [
    {
     "name": "stdout",
     "output_type": "stream",
     "text": [
      "Train: 0.964, Test: 0.914\n"
     ]
    }
   ],
   "source": [
    "# evaluate the model - so far, Accuracy improvement for Test dataset is negligible\n",
    "\n",
    "_, train_acc = model.evaluate(df_train['Combined'].values,df_train['Class Index'].values, verbose=1)\n",
    "_, test_acc = model.evaluate(df_test['Combined'].values,df_test['Class Index'].values, verbose=1)\n",
    "print('Train: %.3f, Test: %.3f' % (train_acc, test_acc))"
   ]
  },
  {
   "cell_type": "code",
   "execution_count": 42,
   "id": "cee9f924",
   "metadata": {},
   "outputs": [
    {
     "data": {
      "image/png": "[encoded data removed]",
      "text/plain": [
       "<Figure size 640x480 with 1 Axes>"
      ]
     },
     "metadata": {},
     "output_type": "display_data"
    }
   ],
   "source": [
    "# plot training history\n",
    "\n",
    "pyplot.plot(history1.history['loss'], label='train')\n",
    "pyplot.plot(history1.history['val_loss'], label='test')\n",
    "pyplot.legend()\n",
    "pyplot.show()"
   ]
  },
  {
   "cell_type": "code",
   "execution_count": null,
   "id": "b6e46d6b",
   "metadata": {},
   "outputs": [],
   "source": [
    "# evaluate the model\n",
    "# _, train_acc = model.evaluate(trainX, trainy, verbose=0)\n",
    "# _, test_acc = model.evaluate(testX, testy, verbose=0)\n",
    "# print('Train: %.3f, Test: %.3f' % (train_acc, test_acc))\n",
    "# # plot training history\n",
    "# pyplot.plot(history.history['loss'], label='train')\n",
    "# pyplot.plot(history.history['val_loss'], label='test')\n",
    "# pyplot.legend()\n",
    "# pyplot.show()"
   ]
  },
  {
   "cell_type": "code",
   "execution_count": null,
   "id": "78fa0625",
   "metadata": {},
   "outputs": [],
   "source": [
    "# https://github.com/microsoft/AI-For-Beginners/blob/main/lessons/5-NLP/16-RNN/RNNTF.ipynb"
   ]
  },
  {
   "cell_type": "code",
   "execution_count": null,
   "id": "4094432c",
   "metadata": {},
   "outputs": [],
   "source": []
  }
 ],
 "metadata": {
  "kernelspec": {
   "display_name": "Python 3 (ipykernel)",
   "language": "python",
   "name": "python3"
  },
  "language_info": {
   "codemirror_mode": {
    "name": "ipython",
    "version": 3
   },
   "file_extension": ".py",
   "mimetype": "text/x-python",
   "name": "python",
   "nbconvert_exporter": "python",
   "pygments_lexer": "ipython3",
   "version": "3.10.9"
  }
 },
 "nbformat": 4,
 "nbformat_minor": 5
}
