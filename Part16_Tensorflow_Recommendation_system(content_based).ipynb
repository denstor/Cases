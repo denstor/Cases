{
 "cells": [
  {
   "cell_type": "code",
   "execution_count": 32,
   "id": "b7ae7b52",
   "metadata": {},
   "outputs": [
    {
     "name": "stdout",
     "output_type": "stream",
     "text": [
      "Requirement already satisfied: tensorflow in c:\\users\\denis\\anaconda3\\lib\\site-packages (2.13.0)\n",
      "Requirement already satisfied: tensorflow-intel==2.13.0 in c:\\users\\denis\\anaconda3\\lib\\site-packages (from tensorflow) (2.13.0)\n",
      "Requirement already satisfied: absl-py>=1.0.0 in c:\\users\\denis\\anaconda3\\lib\\site-packages (from tensorflow-intel==2.13.0->tensorflow) (1.4.0)\n",
      "Requirement already satisfied: gast<=0.4.0,>=0.2.1 in c:\\users\\denis\\anaconda3\\lib\\site-packages (from tensorflow-intel==2.13.0->tensorflow) (0.4.0)\n",
      "Requirement already satisfied: setuptools in c:\\users\\denis\\anaconda3\\lib\\site-packages (from tensorflow-intel==2.13.0->tensorflow) (65.6.3)\n",
      "Requirement already satisfied: typing-extensions<4.6.0,>=3.6.6 in c:\\users\\denis\\anaconda3\\lib\\site-packages (from tensorflow-intel==2.13.0->tensorflow) (4.5.0)\n",
      "Requirement already satisfied: protobuf!=4.21.0,!=4.21.1,!=4.21.2,!=4.21.3,!=4.21.4,!=4.21.5,<5.0.0dev,>=3.20.3 in c:\\users\\denis\\anaconda3\\lib\\site-packages (from tensorflow-intel==2.13.0->tensorflow) (4.23.4)\n",
      "Requirement already satisfied: opt-einsum>=2.3.2 in c:\\users\\denis\\anaconda3\\lib\\site-packages (from tensorflow-intel==2.13.0->tensorflow) (3.3.0)\n",
      "Requirement already satisfied: grpcio<2.0,>=1.24.3 in c:\\users\\denis\\anaconda3\\lib\\site-packages (from tensorflow-intel==2.13.0->tensorflow) (1.56.2)\n",
      "Requirement already satisfied: tensorflow-io-gcs-filesystem>=0.23.1 in c:\\users\\denis\\anaconda3\\lib\\site-packages (from tensorflow-intel==2.13.0->tensorflow) (0.31.0)\n",
      "Requirement already satisfied: keras<2.14,>=2.13.1 in c:\\users\\denis\\anaconda3\\lib\\site-packages (from tensorflow-intel==2.13.0->tensorflow) (2.13.1)\n",
      "Requirement already satisfied: six>=1.12.0 in c:\\users\\denis\\anaconda3\\lib\\site-packages (from tensorflow-intel==2.13.0->tensorflow) (1.16.0)\n",
      "Requirement already satisfied: wrapt>=1.11.0 in c:\\users\\denis\\anaconda3\\lib\\site-packages (from tensorflow-intel==2.13.0->tensorflow) (1.14.1)\n",
      "Requirement already satisfied: termcolor>=1.1.0 in c:\\users\\denis\\anaconda3\\lib\\site-packages (from tensorflow-intel==2.13.0->tensorflow) (2.3.0)\n",
      "Requirement already satisfied: astunparse>=1.6.0 in c:\\users\\denis\\anaconda3\\lib\\site-packages (from tensorflow-intel==2.13.0->tensorflow) (1.6.3)\n",
      "Requirement already satisfied: numpy<=1.24.3,>=1.22 in c:\\users\\denis\\anaconda3\\lib\\site-packages (from tensorflow-intel==2.13.0->tensorflow) (1.24.3)\n",
      "Requirement already satisfied: packaging in c:\\users\\denis\\anaconda3\\lib\\site-packages (from tensorflow-intel==2.13.0->tensorflow) (23.0)\n",
      "Requirement already satisfied: tensorboard<2.14,>=2.13 in c:\\users\\denis\\anaconda3\\lib\\site-packages (from tensorflow-intel==2.13.0->tensorflow) (2.13.0)\n",
      "Requirement already satisfied: google-pasta>=0.1.1 in c:\\users\\denis\\anaconda3\\lib\\site-packages (from tensorflow-intel==2.13.0->tensorflow) (0.2.0)\n",
      "Requirement already satisfied: flatbuffers>=23.1.21 in c:\\users\\denis\\anaconda3\\lib\\site-packages (from tensorflow-intel==2.13.0->tensorflow) (23.5.26)\n",
      "Requirement already satisfied: tensorflow-estimator<2.14,>=2.13.0 in c:\\users\\denis\\anaconda3\\lib\\site-packages (from tensorflow-intel==2.13.0->tensorflow) (2.13.0)\n",
      "Requirement already satisfied: libclang>=13.0.0 in c:\\users\\denis\\anaconda3\\lib\\site-packages (from tensorflow-intel==2.13.0->tensorflow) (16.0.6)\n",
      "Requirement already satisfied: h5py>=2.9.0 in c:\\users\\denis\\anaconda3\\lib\\site-packages (from tensorflow-intel==2.13.0->tensorflow) (3.9.0)\n",
      "Requirement already satisfied: wheel<1.0,>=0.23.0 in c:\\users\\denis\\anaconda3\\lib\\site-packages (from astunparse>=1.6.0->tensorflow-intel==2.13.0->tensorflow) (0.38.4)\n",
      "Requirement already satisfied: markdown>=2.6.8 in c:\\users\\denis\\anaconda3\\lib\\site-packages (from tensorboard<2.14,>=2.13->tensorflow-intel==2.13.0->tensorflow) (3.4.4)\n",
      "Requirement already satisfied: google-auth-oauthlib<1.1,>=0.5 in c:\\users\\denis\\anaconda3\\lib\\site-packages (from tensorboard<2.14,>=2.13->tensorflow-intel==2.13.0->tensorflow) (1.0.0)\n",
      "Requirement already satisfied: requests<3,>=2.21.0 in c:\\users\\denis\\anaconda3\\lib\\site-packages (from tensorboard<2.14,>=2.13->tensorflow-intel==2.13.0->tensorflow) (2.29.0)\n",
      "Requirement already satisfied: werkzeug>=1.0.1 in c:\\users\\denis\\anaconda3\\lib\\site-packages (from tensorboard<2.14,>=2.13->tensorflow-intel==2.13.0->tensorflow) (2.3.7)\n",
      "Requirement already satisfied: tensorboard-data-server<0.8.0,>=0.7.0 in c:\\users\\denis\\anaconda3\\lib\\site-packages (from tensorboard<2.14,>=2.13->tensorflow-intel==2.13.0->tensorflow) (0.7.1)\n",
      "Requirement already satisfied: google-auth<3,>=1.6.3 in c:\\users\\denis\\anaconda3\\lib\\site-packages (from tensorboard<2.14,>=2.13->tensorflow-intel==2.13.0->tensorflow) (2.22.0)\n",
      "Requirement already satisfied: pyasn1-modules>=0.2.1 in c:\\users\\denis\\anaconda3\\lib\\site-packages (from google-auth<3,>=1.6.3->tensorboard<2.14,>=2.13->tensorflow-intel==2.13.0->tensorflow) (0.2.8)\n",
      "Requirement already satisfied: urllib3<2.0 in c:\\users\\denis\\anaconda3\\lib\\site-packages (from google-auth<3,>=1.6.3->tensorboard<2.14,>=2.13->tensorflow-intel==2.13.0->tensorflow) (1.26.15)\n",
      "Requirement already satisfied: rsa<5,>=3.1.4 in c:\\users\\denis\\anaconda3\\lib\\site-packages (from google-auth<3,>=1.6.3->tensorboard<2.14,>=2.13->tensorflow-intel==2.13.0->tensorflow) (4.7.2)\n",
      "Requirement already satisfied: cachetools<6.0,>=2.0.0 in c:\\users\\denis\\anaconda3\\lib\\site-packages (from google-auth<3,>=1.6.3->tensorboard<2.14,>=2.13->tensorflow-intel==2.13.0->tensorflow) (4.2.2)\n",
      "Requirement already satisfied: requests-oauthlib>=0.7.0 in c:\\users\\denis\\anaconda3\\lib\\site-packages (from google-auth-oauthlib<1.1,>=0.5->tensorboard<2.14,>=2.13->tensorflow-intel==2.13.0->tensorflow) (1.3.1)\n",
      "Requirement already satisfied: certifi>=2017.4.17 in c:\\users\\denis\\anaconda3\\lib\\site-packages (from requests<3,>=2.21.0->tensorboard<2.14,>=2.13->tensorflow-intel==2.13.0->tensorflow) (2023.7.22)\n",
      "Requirement already satisfied: charset-normalizer<4,>=2 in c:\\users\\denis\\anaconda3\\lib\\site-packages (from requests<3,>=2.21.0->tensorboard<2.14,>=2.13->tensorflow-intel==2.13.0->tensorflow) (2.0.4)\n",
      "Requirement already satisfied: idna<4,>=2.5 in c:\\users\\denis\\anaconda3\\lib\\site-packages (from requests<3,>=2.21.0->tensorboard<2.14,>=2.13->tensorflow-intel==2.13.0->tensorflow) (3.4)\n",
      "Requirement already satisfied: MarkupSafe>=2.1.1 in c:\\users\\denis\\anaconda3\\lib\\site-packages (from werkzeug>=1.0.1->tensorboard<2.14,>=2.13->tensorflow-intel==2.13.0->tensorflow) (2.1.1)\n",
      "Requirement already satisfied: pyasn1<0.5.0,>=0.4.6 in c:\\users\\denis\\anaconda3\\lib\\site-packages (from pyasn1-modules>=0.2.1->google-auth<3,>=1.6.3->tensorboard<2.14,>=2.13->tensorflow-intel==2.13.0->tensorflow) (0.4.8)\n",
      "Requirement already satisfied: oauthlib>=3.0.0 in c:\\users\\denis\\anaconda3\\lib\\site-packages (from requests-oauthlib>=0.7.0->google-auth-oauthlib<1.1,>=0.5->tensorboard<2.14,>=2.13->tensorflow-intel==2.13.0->tensorflow) (3.2.2)\n"
     ]
    }
   ],
   "source": [
    "# install Tensorflow\n",
    "!pip3 install tensorflow"
   ]
  },
  {
   "cell_type": "code",
   "execution_count": 33,
   "id": "185cd212",
   "metadata": {},
   "outputs": [
    {
     "data": {
      "text/plain": [
       "{'status': 'ok', 'restart': True}"
      ]
     },
     "execution_count": 33,
     "metadata": {},
     "output_type": "execute_result"
    }
   ],
   "source": [
    "# automatically restart kernel\n",
    "import IPython\n",
    "app = IPython.Application.instance()\n",
    "app.kernel.do_shutdown(True)"
   ]
  },
  {
   "cell_type": "code",
   "execution_count": 1,
   "id": "7621766f",
   "metadata": {},
   "outputs": [
    {
     "name": "stdout",
     "output_type": "stream",
     "text": [
      "2.13.0\n"
     ]
    }
   ],
   "source": [
    "# load libs\n",
    "import numpy as np\n",
    "import tensorflow as tf\n",
    "\n",
    "print(tf.__version__)"
   ]
  },
  {
   "cell_type": "code",
   "execution_count": 2,
   "id": "d8f36774",
   "metadata": {},
   "outputs": [],
   "source": [
    "# initialize database for further modeling\n",
    "users = ['User1', 'User2', 'User3', 'User4']\n",
    "movies = ['Movie1', 'Movie2', 'Movie3', 'Movie4', 'Movie5', 'Movie6']\n",
    "features = ['Genre1', 'Genre2', 'Genre3', 'Genre4', 'Genre5']"
   ]
  },
  {
   "cell_type": "code",
   "execution_count": 3,
   "id": "a00dc66e",
   "metadata": {},
   "outputs": [],
   "source": [
    "# the users_movies matrix: each row represents a user's rating (scale - [1,10] ,0 - not seen) for the different movies\n",
    "users_movies = tf.constant([\n",
    "                [3,  7,  9,  0, 0, 0],\n",
    "                [0,  0, 9,  0, 7, 4],\n",
    "                [0,  7,  0,  0, 4, 8],\n",
    "                [9, 8,  0,  4, 0, 0]], dtype=tf.float32)"
   ]
  },
  {
   "cell_type": "code",
   "execution_count": 4,
   "id": "9afcad4b",
   "metadata": {},
   "outputs": [],
   "source": [
    "# features of the movies one-hot encoded: columns - features (['Genre1', 'Genre2', 'Genre3', 'Genre4', 'Genre5']), \n",
    "# rows - movies\n",
    "movies_feats = tf.constant([\n",
    "                [1, 0, 0, 0, 1],\n",
    "                [1, 0, 1, 1, 0],\n",
    "                [1, 1, 0, 0, 1],\n",
    "                [0, 0, 1, 1, 0],\n",
    "                [0, 0, 0, 0, 1],\n",
    "                [1, 1, 0, 0, 0],\n",
    "                ], dtype=tf.float32)"
   ]
  },
  {
   "cell_type": "code",
   "execution_count": 5,
   "id": "66c52831",
   "metadata": {},
   "outputs": [
    {
     "data": {
      "text/plain": [
       "<tf.Tensor: shape=(4, 5), dtype=float32, numpy=\n",
       "array([[19.,  9.,  7.,  7., 12.],\n",
       "       [13., 13.,  0.,  0., 16.],\n",
       "       [15.,  8.,  7.,  7.,  4.],\n",
       "       [17.,  0., 12., 12.,  9.]], dtype=float32)>"
      ]
     },
     "execution_count": 5,
     "metadata": {},
     "output_type": "execute_result"
    }
   ],
   "source": [
    "# computing the user_feature (genres) matrix,\n",
    "# a matrix containing each user's embedding in the five-dimensional feature space\n",
    "# the matrix multiplication of the users_movies tensor with the movies_feats tensor\n",
    "users_feats = tf.matmul(users_movies, movies_feats)\n",
    "users_feats"
   ]
  },
  {
   "cell_type": "code",
   "execution_count": 6,
   "id": "d2eeef9d",
   "metadata": {},
   "outputs": [
    {
     "data": {
      "text/plain": [
       "<tf.Tensor: shape=(4, 5), dtype=float32, numpy=\n",
       "array([[0.35185185, 0.16666667, 0.12962963, 0.12962963, 0.22222222],\n",
       "       [0.30952382, 0.30952382, 0.        , 0.        , 0.3809524 ],\n",
       "       [0.36585367, 0.19512194, 0.17073171, 0.17073171, 0.09756097],\n",
       "       [0.34      , 0.        , 0.24      , 0.24      , 0.18      ]],\n",
       "      dtype=float32)>"
      ]
     },
     "execution_count": 6,
     "metadata": {},
     "output_type": "execute_result"
    }
   ],
   "source": [
    "# normalizing each user feature vector to sum to 1\n",
    "users_feats = users_feats / tf.reduce_sum(users_feats, axis=1, keepdims=True)\n",
    "users_feats"
   ]
  },
  {
   "cell_type": "code",
   "execution_count": 7,
   "id": "e31f48d3",
   "metadata": {},
   "outputs": [
    {
     "data": {
      "text/plain": [
       "<tf.Tensor: shape=(4, 5), dtype=int32, numpy=\n",
       "array([[0, 4, 1, 2, 3],\n",
       "       [4, 0, 1, 2, 3],\n",
       "       [0, 1, 2, 3, 4],\n",
       "       [0, 2, 3, 4, 1]])>"
      ]
     },
     "execution_count": 7,
     "metadata": {},
     "output_type": "execute_result"
    }
   ],
   "source": [
    "# ranking feature relevance for each user\n",
    "top_users_features = tf.nn.top_k(users_feats, len(features))[1]\n",
    "top_users_features"
   ]
  },
  {
   "cell_type": "code",
   "execution_count": 8,
   "id": "8a465a1e",
   "metadata": {},
   "outputs": [
    {
     "name": "stdout",
     "output_type": "stream",
     "text": [
      "User1: ['Genre1', 'Genre5', 'Genre2', 'Genre3', 'Genre4']\n",
      "User2: ['Genre5', 'Genre1', 'Genre2', 'Genre3', 'Genre4']\n",
      "User3: ['Genre1', 'Genre2', 'Genre3', 'Genre4', 'Genre5']\n",
      "User4: ['Genre1', 'Genre3', 'Genre4', 'Genre5', 'Genre2']\n"
     ]
    }
   ],
   "source": [
    "# printing genres preference by user\n",
    "for i in range(len(users)):\n",
    "    feature_names = [features[int(index)] for index in top_users_features[i]]\n",
    "    print('{}: {}'.format(users[i], feature_names))"
   ]
  },
  {
   "cell_type": "code",
   "execution_count": 9,
   "id": "ab53fa55",
   "metadata": {},
   "outputs": [
    {
     "data": {
      "text/plain": [
       "<tf.Tensor: shape=(4, 6), dtype=float32, numpy=\n",
       "array([[0.5740741 , 0.6111111 , 0.7407407 , 0.25925925, 0.22222222,\n",
       "        0.5185185 ],\n",
       "       [0.6904762 , 0.30952382, 1.        , 0.        , 0.3809524 ,\n",
       "        0.61904764],\n",
       "       [0.46341464, 0.7073171 , 0.65853655, 0.34146342, 0.09756097,\n",
       "        0.5609756 ],\n",
       "       [0.52      , 0.82      , 0.52      , 0.48      , 0.18      ,\n",
       "        0.34      ]], dtype=float32)>"
      ]
     },
     "execution_count": 9,
     "metadata": {},
     "output_type": "execute_result"
    }
   ],
   "source": [
    "# determining movie recommendations (the dot product as the similarity measure)\n",
    "# the matrix multiplication of the users_feats tensor with the transposed movies_feats tensor\n",
    "users_ratings = tf.matmul(users_feats, tf.transpose(movies_feats))\n",
    "users_ratings"
   ]
  },
  {
   "cell_type": "code",
   "execution_count": 10,
   "id": "88a4af36",
   "metadata": {},
   "outputs": [
    {
     "data": {
      "text/plain": [
       "<tf.Tensor: shape=(4, 6), dtype=float32, numpy=\n",
       "array([[0.        , 0.        , 0.        , 0.25925925, 0.22222222,\n",
       "        0.5185185 ],\n",
       "       [0.6904762 , 0.30952382, 0.        , 0.        , 0.        ,\n",
       "        0.        ],\n",
       "       [0.46341464, 0.        , 0.65853655, 0.34146342, 0.        ,\n",
       "        0.        ],\n",
       "       [0.        , 0.        , 0.52      , 0.        , 0.18      ,\n",
       "        0.34      ]], dtype=float32)>"
      ]
     },
     "execution_count": 10,
     "metadata": {},
     "output_type": "execute_result"
    }
   ],
   "source": [
    "# applying a mask to the all_users_ratings matrix to focus only on the ratings for new movies \n",
    "# (excluding those already seen before)\n",
    "users_unseen_movies = tf.equal(users_movies, tf.zeros_like(users_movies))\n",
    "ignore_matrix = tf.zeros_like(tf.cast(users_movies, tf.float32))\n",
    "\n",
    "users_ratings_new = tf.where(\n",
    "    users_unseen_movies,\n",
    "    users_ratings,\n",
    "    ignore_matrix)\n",
    "\n",
    "users_ratings_new"
   ]
  },
  {
   "cell_type": "code",
   "execution_count": 12,
   "id": "df16452a",
   "metadata": {},
   "outputs": [
    {
     "data": {
      "text/plain": [
       "<tf.Tensor: shape=(4, 3), dtype=int32, numpy=\n",
       "array([[5, 3, 4],\n",
       "       [0, 1, 2],\n",
       "       [2, 0, 3],\n",
       "       [2, 5, 4]])>"
      ]
     },
     "execution_count": 12,
     "metadata": {},
     "output_type": "execute_result"
    }
   ],
   "source": [
    "# printing top 3 rated movies for each user\n",
    "top_movies = tf.nn.top_k(users_ratings_new, 3)[1]\n",
    "top_movies"
   ]
  },
  {
   "cell_type": "code",
   "execution_count": 16,
   "id": "48f5b929",
   "metadata": {},
   "outputs": [
    {
     "name": "stdout",
     "output_type": "stream",
     "text": [
      "User1: ['Movie6', 'Movie4', 'Movie5']\n",
      "User2: ['Movie1', 'Movie2', 'Movie3']\n",
      "User3: ['Movie3', 'Movie1', 'Movie4']\n",
      "User4: ['Movie3', 'Movie6', 'Movie5']\n"
     ]
    }
   ],
   "source": [
    "# printing recommended movies for each user\n",
    "for i in range(len(users)):\n",
    "    movie_names = [movies[index] for index in top_movies[i]]\n",
    "    print('{}: {}'.format(users[i], movie_names))"
   ]
  }
 ],
 "metadata": {
  "kernelspec": {
   "display_name": "Python 3 (ipykernel)",
   "language": "python",
   "name": "python3"
  },
  "language_info": {
   "codemirror_mode": {
    "name": "ipython",
    "version": 3
   },
   "file_extension": ".py",
   "mimetype": "text/x-python",
   "name": "python",
   "nbconvert_exporter": "python",
   "pygments_lexer": "ipython3",
   "version": "3.10.9"
  }
 },
 "nbformat": 4,
 "nbformat_minor": 5
}
