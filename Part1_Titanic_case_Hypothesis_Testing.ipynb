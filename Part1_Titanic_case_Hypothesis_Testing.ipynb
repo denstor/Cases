{
 "cells": [
  {
   "cell_type": "code",
   "execution_count": 41,
   "id": "be2f3206",
   "metadata": {},
   "outputs": [],
   "source": [
    "# Load libraries\n",
    "import pandas as pd\n",
    "import numpy as np\n",
    "import matplotlib.pyplot as plt\n",
    "\n",
    "# dataset downloading, selecting and reordering columns for further analysis\n",
    "df=pd.read_excel(\"cata.xlsx\")\n",
    "df=df.drop(['name','sibsp', 'parch', 'ticket', 'fare', \n",
    "                      'cabin', 'embarked', 'boat', 'body', 'home.dest'],axis=1)\n",
    "df=df[['survived','pclass', 'sex', 'age']]\n",
    "\n",
    "# checking the dataset for nan and deleting empty rows\n",
    "df.isna().sum()\n",
    "df=df.dropna(axis=0)\n",
    "\n",
    "# formatting the \"survived\" column into categorical\n",
    "df = df.astype({'sex':'category', 'survived':'int','pclass':'int','age':'float'})"
   ]
  },
  {
   "cell_type": "code",
   "execution_count": 42,
   "id": "61348e47",
   "metadata": {},
   "outputs": [
    {
     "data": {
      "text/html": [
       "<div>\n",
       "<style scoped>\n",
       "    .dataframe tbody tr th:only-of-type {\n",
       "        vertical-align: middle;\n",
       "    }\n",
       "\n",
       "    .dataframe tbody tr th {\n",
       "        vertical-align: top;\n",
       "    }\n",
       "\n",
       "    .dataframe thead th {\n",
       "        text-align: right;\n",
       "    }\n",
       "</style>\n",
       "<table border=\"1\" class=\"dataframe\">\n",
       "  <thead>\n",
       "    <tr style=\"text-align: right;\">\n",
       "      <th></th>\n",
       "      <th>pclass</th>\n",
       "      <th>1</th>\n",
       "      <th>2</th>\n",
       "      <th>3</th>\n",
       "    </tr>\n",
       "    <tr>\n",
       "      <th>sex</th>\n",
       "      <th>age</th>\n",
       "      <th></th>\n",
       "      <th></th>\n",
       "      <th></th>\n",
       "    </tr>\n",
       "  </thead>\n",
       "  <tbody>\n",
       "    <tr>\n",
       "      <th rowspan=\"4\" valign=\"top\">female</th>\n",
       "      <th>(0, 18]</th>\n",
       "      <td>0.923077</td>\n",
       "      <td>0.952381</td>\n",
       "      <td>0.534483</td>\n",
       "    </tr>\n",
       "    <tr>\n",
       "      <th>(18, 30]</th>\n",
       "      <td>0.972222</td>\n",
       "      <td>0.869565</td>\n",
       "      <td>0.459016</td>\n",
       "    </tr>\n",
       "    <tr>\n",
       "      <th>(30, 40]</th>\n",
       "      <td>0.970588</td>\n",
       "      <td>0.950000</td>\n",
       "      <td>0.428571</td>\n",
       "    </tr>\n",
       "    <tr>\n",
       "      <th>(40, 80]</th>\n",
       "      <td>0.960000</td>\n",
       "      <td>0.812500</td>\n",
       "      <td>0.333333</td>\n",
       "    </tr>\n",
       "    <tr>\n",
       "      <th rowspan=\"4\" valign=\"top\">male</th>\n",
       "      <th>(0, 18]</th>\n",
       "      <td>0.750000</td>\n",
       "      <td>0.523810</td>\n",
       "      <td>0.208333</td>\n",
       "    </tr>\n",
       "    <tr>\n",
       "      <th>(18, 30]</th>\n",
       "      <td>0.375000</td>\n",
       "      <td>0.102941</td>\n",
       "      <td>0.179191</td>\n",
       "    </tr>\n",
       "    <tr>\n",
       "      <th>(30, 40]</th>\n",
       "      <td>0.437500</td>\n",
       "      <td>0.085714</td>\n",
       "      <td>0.161765</td>\n",
       "    </tr>\n",
       "    <tr>\n",
       "      <th>(40, 80]</th>\n",
       "      <td>0.265823</td>\n",
       "      <td>0.058824</td>\n",
       "      <td>0.055556</td>\n",
       "    </tr>\n",
       "  </tbody>\n",
       "</table>\n",
       "</div>"
      ],
      "text/plain": [
       "pclass                  1         2         3\n",
       "sex    age                                   \n",
       "female (0, 18]   0.923077  0.952381  0.534483\n",
       "       (18, 30]  0.972222  0.869565  0.459016\n",
       "       (30, 40]  0.970588  0.950000  0.428571\n",
       "       (40, 80]  0.960000  0.812500  0.333333\n",
       "male   (0, 18]   0.750000  0.523810  0.208333\n",
       "       (18, 30]  0.375000  0.102941  0.179191\n",
       "       (30, 40]  0.437500  0.085714  0.161765\n",
       "       (40, 80]  0.265823  0.058824  0.055556"
      ]
     },
     "execution_count": 42,
     "metadata": {},
     "output_type": "execute_result"
    }
   ],
   "source": [
    "# the more women and children survived\n",
    "age=pd.cut(df[\"age\"],[0,18,30,40,80])\n",
    "df.pivot_table(\"survived\",[\"sex\",age],\"pclass\")"
   ]
  },
  {
   "cell_type": "code",
   "execution_count": 43,
   "id": "567086cc",
   "metadata": {},
   "outputs": [
    {
     "data": {
      "text/html": [
       "<div>\n",
       "<style scoped>\n",
       "    .dataframe tbody tr th:only-of-type {\n",
       "        vertical-align: middle;\n",
       "    }\n",
       "\n",
       "    .dataframe tbody tr th {\n",
       "        vertical-align: top;\n",
       "    }\n",
       "\n",
       "    .dataframe thead th {\n",
       "        text-align: right;\n",
       "    }\n",
       "</style>\n",
       "<table border=\"1\" class=\"dataframe\">\n",
       "  <thead>\n",
       "    <tr style=\"text-align: right;\">\n",
       "      <th>pclass</th>\n",
       "      <th>1</th>\n",
       "      <th>2</th>\n",
       "      <th>3</th>\n",
       "      <th>All</th>\n",
       "    </tr>\n",
       "    <tr>\n",
       "      <th>sex</th>\n",
       "      <th></th>\n",
       "      <th></th>\n",
       "      <th></th>\n",
       "      <th></th>\n",
       "    </tr>\n",
       "  </thead>\n",
       "  <tbody>\n",
       "    <tr>\n",
       "      <th>female</th>\n",
       "      <td>0.962406</td>\n",
       "      <td>0.893204</td>\n",
       "      <td>0.473684</td>\n",
       "      <td>0.752577</td>\n",
       "    </tr>\n",
       "    <tr>\n",
       "      <th>male</th>\n",
       "      <td>0.350993</td>\n",
       "      <td>0.145570</td>\n",
       "      <td>0.169054</td>\n",
       "      <td>0.205167</td>\n",
       "    </tr>\n",
       "    <tr>\n",
       "      <th>All</th>\n",
       "      <td>0.637324</td>\n",
       "      <td>0.440613</td>\n",
       "      <td>0.261477</td>\n",
       "      <td>0.408222</td>\n",
       "    </tr>\n",
       "  </tbody>\n",
       "</table>\n",
       "</div>"
      ],
      "text/plain": [
       "pclass         1         2         3       All\n",
       "sex                                           \n",
       "female  0.962406  0.893204  0.473684  0.752577\n",
       "male    0.350993  0.145570  0.169054  0.205167\n",
       "All     0.637324  0.440613  0.261477  0.408222"
      ]
     },
     "execution_count": 43,
     "metadata": {},
     "output_type": "execute_result"
    }
   ],
   "source": [
    "# the data shows clear evidence of higher chances of survival for the passengers of class1 (pclass)\n",
    "# although the two groups of survivors: Female&Class1 and Female&Class2 have negligible difference (96% vs 89%)\n",
    "# the question I'm going to investigate further is whether this difference is statistically significant\n",
    "df.pivot_table(\"survived\",index=\"sex\",columns=\"pclass\",margins=True)"
   ]
  },
  {
   "cell_type": "code",
   "execution_count": 44,
   "id": "0bb52b7e",
   "metadata": {},
   "outputs": [],
   "source": [
    "# H1 hypothesis - there is a difference in chances to survive between cl1 & cl2\n",
    "# H0 - there is no difference between these two groups\n",
    "# to prove H0 I'm going use permutation samples of the empirical dataset\n",
    "\n",
    "# the function to generate many sets of simulated data assuming H0 is true\n",
    "def draw_perm_reps(data1,data2,func,size=1):\n",
    "    perm_replicates=np.empty(size)\n",
    "    for i in range(size):\n",
    "        perm_sample1,perm_sample2=permutation_sample(data1,data2)\n",
    "        perm_replicates[i]=func(perm_sample1,perm_sample2)\n",
    "    return perm_replicates"
   ]
  },
  {
   "cell_type": "code",
   "execution_count": 45,
   "id": "d03f2829",
   "metadata": {},
   "outputs": [],
   "source": [
    "# the function to calculcate difference of means\n",
    "def diff_of_means(data1,data2):\n",
    "    diff=np.mean(data1)-np.mean(data2)\n",
    "    return diff"
   ]
  },
  {
   "cell_type": "code",
   "execution_count": 46,
   "id": "5cdda0d4",
   "metadata": {},
   "outputs": [],
   "source": [
    "# the function to implement permutation of the sample\n",
    "def permutation_sample(data1,data2):\n",
    "    data=np.concatenate((data1,data2))\n",
    "    permuted_data=np.random.permutation(data)\n",
    "    perm_sample1=permuted_data[:len(data1)]\n",
    "    perm_sample2=permuted_data[len(data1):]\n",
    "    return perm_sample1,perm_sample2"
   ]
  },
  {
   "cell_type": "code",
   "execution_count": 47,
   "id": "00e5031f",
   "metadata": {},
   "outputs": [],
   "source": [
    "# the code below splits out the two target groups\n",
    "cl1=df[\"survived\"][(df[\"sex\"]==\"female\") & (df[\"pclass\"]==1)]\n",
    "cl1=cl1.values\n",
    "cl2=df[\"survived\"][(df[\"sex\"]==\"female\") & (df[\"pclass\"]==2)]\n",
    "cl2=cl2.values"
   ]
  },
  {
   "cell_type": "code",
   "execution_count": 48,
   "id": "889dc840",
   "metadata": {},
   "outputs": [
    {
     "name": "stdout",
     "output_type": "stream",
     "text": [
      "empirical_diff_means -  0.07\n"
     ]
    }
   ],
   "source": [
    "# calculating empirical difference of means between two datasets (0.07) \n",
    "np.random.seed(123)\n",
    "empirical_diff_means=diff_of_means(cl1,cl2)\n",
    "print(\"empirical_diff_means - \",np.round(empirical_diff_means,2))"
   ]
  },
  {
   "cell_type": "code",
   "execution_count": 49,
   "id": "af5cb727",
   "metadata": {},
   "outputs": [],
   "source": [
    "# calculating difference of means for 1000 permutated datasets\n",
    "perm_replicates=draw_perm_reps(cl1,cl2,diff_of_means,1000)"
   ]
  },
  {
   "cell_type": "code",
   "execution_count": 50,
   "id": "11f729c3",
   "metadata": {},
   "outputs": [
    {
     "name": "stdout",
     "output_type": "stream",
     "text": [
      "p-value:  0.03\n"
     ]
    }
   ],
   "source": [
    "# p-value is the fraction of the simulated data sets for which \n",
    "# the test statistic (difference of means) is at least as extreme as for the empirical dataset\n",
    "p=np.sum(perm_replicates>=empirical_diff_means)/len(perm_replicates)\n",
    "print(\"p-value: \",np.round(p,2))"
   ]
  },
  {
   "cell_type": "code",
   "execution_count": 51,
   "id": "2cbe848e",
   "metadata": {},
   "outputs": [],
   "source": [
    "# p=0.04 - 3% of simulated data has higher than empirical difference of means (7%)\n",
    "# the results of the statitics let us decline H0 \n",
    "# and therefore prove H1 - the difference between cl1 and cl2 is statistically significant"
   ]
  },
  {
   "cell_type": "code",
   "execution_count": 52,
   "id": "dc977ea7",
   "metadata": {},
   "outputs": [
    {
     "data": {
      "image/png": "[encoded data removed]",
      "text/plain": [
       "<Figure size 640x480 with 1 Axes>"
      ]
     },
     "metadata": {},
     "output_type": "display_data"
    }
   ],
   "source": [
    "#the chart showing distribution of the permutated means with probability\n",
    "weights=np.ones_like(perm_replicates/len(perm_replicates))\n",
    "plt.hist(perm_replicates,weights=weights)\n",
    "plt.xlabel(\"distribution of differences of the permutated means\")\n",
    "plt.ylabel(\"probability\")\n",
    "plt.show()"
   ]
  },
  {
   "cell_type": "code",
   "execution_count": 53,
   "id": "4a35a24d",
   "metadata": {},
   "outputs": [],
   "source": [
    "# although the two groups of survivors: Female&Class1 and Female&Class2 have negligible difference (96% vs 89%)\n",
    "# the experiment proved that the difference is statistically significant\n",
    "# which means that Female&Class1 group has higher chances to survive vs Female&Class2 "
   ]
  }
 ],
 "metadata": {
  "kernelspec": {
   "display_name": "Python 3 (ipykernel)",
   "language": "python",
   "name": "python3"
  },
  "language_info": {
   "codemirror_mode": {
    "name": "ipython",
    "version": 3
   },
   "file_extension": ".py",
   "mimetype": "text/x-python",
   "name": "python",
   "nbconvert_exporter": "python",
   "pygments_lexer": "ipython3",
   "version": "3.10.9"
  }
 },
 "nbformat": 4,
 "nbformat_minor": 5
}
