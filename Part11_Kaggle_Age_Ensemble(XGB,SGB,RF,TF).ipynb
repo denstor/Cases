{
 "cells": [
  {
   "cell_type": "code",
   "execution_count": 124,
   "id": "24eb020e",
   "metadata": {},
   "outputs": [],
   "source": [
    "# Load libs (plus additional for next rounds)\n",
    "import warnings\n",
    "warnings.filterwarnings('ignore')\n",
    "from sklearn.impute import SimpleImputer\n",
    "\n",
    "import pandas as pd\n",
    "import seaborn as sns\n",
    "import matplotlib.pyplot as plt\n",
    "import numpy as np\n",
    "pd.set_option('display.max_rows', None)\n",
    "pd.set_option('display.max_columns', None)\n",
    "from sklearn.ensemble import RandomForestRegressor\n",
    "from sklearn.tree import DecisionTreeRegressor\n",
    "from sklearn import metrics\n",
    "from sklearn.model_selection import cross_val_score\n",
    "from sklearn.model_selection import StratifiedKFold\n",
    "from sklearn.feature_selection import SelectKBest\n",
    "from sklearn.neighbors import LocalOutlierFactor\n",
    "from sklearn.model_selection import train_test_split\n",
    "from sklearn.model_selection import RandomizedSearchCV\n",
    "import xgboost as xgb\n",
    "from hyperopt import STATUS_OK, Trials, fmin, hp, tpe\n",
    "from xgboost import cv\n",
    "import scipy.stats as stats\n",
    "from sklearn.preprocessing import StandardScaler\n",
    "from sklearn.linear_model import LogisticRegression\n",
    "from sklearn.tree import DecisionTreeClassifier\n",
    "from sklearn.neighbors import KNeighborsClassifier\n",
    "from sklearn.discriminant_analysis import LinearDiscriminantAnalysis\n",
    "from sklearn.naive_bayes import GaussianNB\n",
    "from sklearn.svm import SVC\n",
    "from sklearn.model_selection import KFold\n",
    "from sklearn.preprocessing import StandardScaler\n",
    "from sklearn.ensemble import RandomForestClassifier\n",
    "from sklearn.model_selection import GridSearchCV\n",
    "from sklearn.ensemble import GradientBoostingClassifier\n",
    "from sklearn.ensemble import RandomForestClassifier\n",
    "from sklearn.metrics import classification_report\n",
    "from sklearn.metrics import confusion_matrix\n",
    "from sklearn.metrics import accuracy_score\n",
    "from sklearn.metrics import log_loss"
   ]
  },
  {
   "cell_type": "code",
   "execution_count": 85,
   "id": "cbf02def",
   "metadata": {},
   "outputs": [
    {
     "name": "stdout",
     "output_type": "stream",
     "text": [
      "<class 'pandas.core.frame.DataFrame'>\n",
      "RangeIndex: 617 entries, 0 to 616\n",
      "Data columns (total 58 columns):\n",
      " #   Column  Non-Null Count  Dtype  \n",
      "---  ------  --------------  -----  \n",
      " 0   Id      617 non-null    object \n",
      " 1   AB      617 non-null    float64\n",
      " 2   AF      617 non-null    float64\n",
      " 3   AH      617 non-null    float64\n",
      " 4   AM      617 non-null    float64\n",
      " 5   AR      617 non-null    float64\n",
      " 6   AX      617 non-null    float64\n",
      " 7   AY      617 non-null    float64\n",
      " 8   AZ      617 non-null    float64\n",
      " 9   BC      617 non-null    float64\n",
      " 10  BD      617 non-null    float64\n",
      " 11  BN      617 non-null    float64\n",
      " 12  BP      617 non-null    float64\n",
      " 13  BQ      557 non-null    float64\n",
      " 14  BR      617 non-null    float64\n",
      " 15  BZ      617 non-null    float64\n",
      " 16  CB      615 non-null    float64\n",
      " 17  CC      614 non-null    float64\n",
      " 18  CD      617 non-null    float64\n",
      " 19  CF      617 non-null    float64\n",
      " 20  CH      617 non-null    float64\n",
      " 21  CL      617 non-null    float64\n",
      " 22  CR      617 non-null    float64\n",
      " 23  CS      617 non-null    float64\n",
      " 24  CU      617 non-null    float64\n",
      " 25  CW      617 non-null    float64\n",
      " 26  DA      617 non-null    float64\n",
      " 27  DE      617 non-null    float64\n",
      " 28  DF      617 non-null    float64\n",
      " 29  DH      617 non-null    float64\n",
      " 30  DI      617 non-null    float64\n",
      " 31  DL      617 non-null    float64\n",
      " 32  DN      617 non-null    float64\n",
      " 33  DU      616 non-null    float64\n",
      " 34  DV      617 non-null    float64\n",
      " 35  DY      617 non-null    float64\n",
      " 36  EB      617 non-null    float64\n",
      " 37  EE      617 non-null    float64\n",
      " 38  EG      617 non-null    float64\n",
      " 39  EH      617 non-null    float64\n",
      " 40  EJ      617 non-null    object \n",
      " 41  EL      557 non-null    float64\n",
      " 42  EP      617 non-null    float64\n",
      " 43  EU      617 non-null    float64\n",
      " 44  FC      616 non-null    float64\n",
      " 45  FD      617 non-null    float64\n",
      " 46  FE      617 non-null    float64\n",
      " 47  FI      617 non-null    float64\n",
      " 48  FL      616 non-null    float64\n",
      " 49  FR      617 non-null    float64\n",
      " 50  FS      615 non-null    float64\n",
      " 51  GB      617 non-null    float64\n",
      " 52  GE      617 non-null    float64\n",
      " 53  GF      617 non-null    float64\n",
      " 54  GH      617 non-null    float64\n",
      " 55  GI      617 non-null    float64\n",
      " 56  GL      616 non-null    float64\n",
      " 57  Class   617 non-null    int64  \n",
      "dtypes: float64(55), int64(1), object(2)\n",
      "memory usage: 279.7+ KB\n"
     ]
    }
   ],
   "source": [
    "# loading the train dataset and checking the info\n",
    "df=pd.read_csv('train_age.csv')\n",
    "df.info()"
   ]
  },
  {
   "cell_type": "code",
   "execution_count": 86,
   "id": "ea252cc9",
   "metadata": {},
   "outputs": [
    {
     "data": {
      "text/plain": [
       "Index(['Id', 'AB', 'AF', 'AH', 'AM', 'AR', 'AX', 'AY', 'AZ', 'BC', 'BD ', 'BN',\n",
       "       'BP', 'BQ', 'BR', 'BZ', 'CB', 'CC', 'CD ', 'CF', 'CH', 'CL', 'CR', 'CS',\n",
       "       'CU', 'CW ', 'DA', 'DE', 'DF', 'DH', 'DI', 'DL', 'DN', 'DU', 'DV', 'DY',\n",
       "       'EB', 'EE', 'EG', 'EH', 'EJ', 'EL', 'EP', 'EU', 'FC', 'FD ', 'FE', 'FI',\n",
       "       'FL', 'FR', 'FS', 'GB', 'GE', 'GF', 'GH', 'GI', 'GL'],\n",
       "      dtype='object')"
      ]
     },
     "execution_count": 86,
     "metadata": {},
     "output_type": "execute_result"
    }
   ],
   "source": [
    "# retrieving cols order to check later with the test data\n",
    "cols_df=df.columns[df.columns!='Class']\n",
    "cols_df"
   ]
  },
  {
   "cell_type": "code",
   "execution_count": 87,
   "id": "624571d1",
   "metadata": {
    "scrolled": true
   },
   "outputs": [
    {
     "name": "stdout",
     "output_type": "stream",
     "text": [
      "<class 'pandas.core.frame.DataFrame'>\n",
      "RangeIndex: 617 entries, 0 to 616\n",
      "Data columns (total 58 columns):\n",
      " #   Column  Non-Null Count  Dtype  \n",
      "---  ------  --------------  -----  \n",
      " 0   Id      617 non-null    object \n",
      " 1   AB      617 non-null    float64\n",
      " 2   AF      617 non-null    float64\n",
      " 3   AH      617 non-null    float64\n",
      " 4   AM      617 non-null    float64\n",
      " 5   AR      617 non-null    float64\n",
      " 6   AX      617 non-null    float64\n",
      " 7   AY      617 non-null    float64\n",
      " 8   AZ      617 non-null    float64\n",
      " 9   BC      617 non-null    float64\n",
      " 10  BD      617 non-null    float64\n",
      " 11  BN      617 non-null    float64\n",
      " 12  BP      617 non-null    float64\n",
      " 13  BQ      557 non-null    float64\n",
      " 14  BR      617 non-null    float64\n",
      " 15  BZ      617 non-null    float64\n",
      " 16  CB      615 non-null    float64\n",
      " 17  CC      614 non-null    float64\n",
      " 18  CD      617 non-null    float64\n",
      " 19  CF      617 non-null    float64\n",
      " 20  CH      617 non-null    float64\n",
      " 21  CL      617 non-null    float64\n",
      " 22  CR      617 non-null    float64\n",
      " 23  CS      617 non-null    float64\n",
      " 24  CU      617 non-null    float64\n",
      " 25  CW      617 non-null    float64\n",
      " 26  DA      617 non-null    float64\n",
      " 27  DE      617 non-null    float64\n",
      " 28  DF      617 non-null    float64\n",
      " 29  DH      617 non-null    float64\n",
      " 30  DI      617 non-null    float64\n",
      " 31  DL      617 non-null    float64\n",
      " 32  DN      617 non-null    float64\n",
      " 33  DU      616 non-null    float64\n",
      " 34  DV      617 non-null    float64\n",
      " 35  DY      617 non-null    float64\n",
      " 36  EB      617 non-null    float64\n",
      " 37  EE      617 non-null    float64\n",
      " 38  EG      617 non-null    float64\n",
      " 39  EH      617 non-null    float64\n",
      " 40  EJ      617 non-null    int64  \n",
      " 41  EL      557 non-null    float64\n",
      " 42  EP      617 non-null    float64\n",
      " 43  EU      617 non-null    float64\n",
      " 44  FC      616 non-null    float64\n",
      " 45  FD      617 non-null    float64\n",
      " 46  FE      617 non-null    float64\n",
      " 47  FI      617 non-null    float64\n",
      " 48  FL      616 non-null    float64\n",
      " 49  FR      617 non-null    float64\n",
      " 50  FS      615 non-null    float64\n",
      " 51  GB      617 non-null    float64\n",
      " 52  GE      617 non-null    float64\n",
      " 53  GF      617 non-null    float64\n",
      " 54  GH      617 non-null    float64\n",
      " 55  GI      617 non-null    float64\n",
      " 56  GL      616 non-null    float64\n",
      " 57  Class   617 non-null    int64  \n",
      "dtypes: float64(55), int64(2), object(1)\n",
      "memory usage: 279.7+ KB\n"
     ]
    }
   ],
   "source": [
    "# coding categorical column\n",
    "df.EJ.replace(to_replace=['A','B'],value=[0,1], inplace=True)\n",
    "df.info()"
   ]
  },
  {
   "cell_type": "code",
   "execution_count": 88,
   "id": "b85e2b78",
   "metadata": {},
   "outputs": [
    {
     "data": {
      "text/plain": [
       "Id       0.00\n",
       "AB       0.00\n",
       "AF       0.00\n",
       "AH       0.00\n",
       "AM       0.00\n",
       "AR       0.00\n",
       "AX       0.00\n",
       "AY       0.00\n",
       "AZ       0.00\n",
       "BC       0.00\n",
       "BD       0.00\n",
       "BN       0.00\n",
       "BP       0.00\n",
       "BQ       9.72\n",
       "BR       0.00\n",
       "BZ       0.00\n",
       "CB       0.32\n",
       "CC       0.49\n",
       "CD       0.00\n",
       "CF       0.00\n",
       "CH       0.00\n",
       "CL       0.00\n",
       "CR       0.00\n",
       "CS       0.00\n",
       "CU       0.00\n",
       "CW       0.00\n",
       "DA       0.00\n",
       "DE       0.00\n",
       "DF       0.00\n",
       "DH       0.00\n",
       "DI       0.00\n",
       "DL       0.00\n",
       "DN       0.00\n",
       "DU       0.16\n",
       "DV       0.00\n",
       "DY       0.00\n",
       "EB       0.00\n",
       "EE       0.00\n",
       "EG       0.00\n",
       "EH       0.00\n",
       "EJ       0.00\n",
       "EL       9.72\n",
       "EP       0.00\n",
       "EU       0.00\n",
       "FC       0.16\n",
       "FD       0.00\n",
       "FE       0.00\n",
       "FI       0.00\n",
       "FL       0.16\n",
       "FR       0.00\n",
       "FS       0.32\n",
       "GB       0.00\n",
       "GE       0.00\n",
       "GF       0.00\n",
       "GH       0.00\n",
       "GI       0.00\n",
       "GL       0.16\n",
       "Class    0.00\n",
       "dtype: float64"
      ]
     },
     "execution_count": 88,
     "metadata": {},
     "output_type": "execute_result"
    }
   ],
   "source": [
    "round(df.isna().sum()/len(df)*100,2)"
   ]
  },
  {
   "cell_type": "code",
   "execution_count": 89,
   "id": "8e245edb",
   "metadata": {},
   "outputs": [
    {
     "data": {
      "text/plain": [
       "Id       0.0\n",
       "AB       0.0\n",
       "AF       0.0\n",
       "AH       0.0\n",
       "AM       0.0\n",
       "AR       0.0\n",
       "AX       0.0\n",
       "AY       0.0\n",
       "AZ       0.0\n",
       "BC       0.0\n",
       "BD       0.0\n",
       "BN       0.0\n",
       "BP       0.0\n",
       "BQ       0.0\n",
       "BR       0.0\n",
       "BZ       0.0\n",
       "CB       0.0\n",
       "CC       0.0\n",
       "CD       0.0\n",
       "CF       0.0\n",
       "CH       0.0\n",
       "CL       0.0\n",
       "CR       0.0\n",
       "CS       0.0\n",
       "CU       0.0\n",
       "CW       0.0\n",
       "DA       0.0\n",
       "DE       0.0\n",
       "DF       0.0\n",
       "DH       0.0\n",
       "DI       0.0\n",
       "DL       0.0\n",
       "DN       0.0\n",
       "DU       0.0\n",
       "DV       0.0\n",
       "DY       0.0\n",
       "EB       0.0\n",
       "EE       0.0\n",
       "EG       0.0\n",
       "EH       0.0\n",
       "EJ       0.0\n",
       "EL       0.0\n",
       "EP       0.0\n",
       "EU       0.0\n",
       "FC       0.0\n",
       "FD       0.0\n",
       "FE       0.0\n",
       "FI       0.0\n",
       "FL       0.0\n",
       "FR       0.0\n",
       "FS       0.0\n",
       "GB       0.0\n",
       "GE       0.0\n",
       "GF       0.0\n",
       "GH       0.0\n",
       "GI       0.0\n",
       "GL       0.0\n",
       "Class    0.0\n",
       "dtype: float64"
      ]
     },
     "execution_count": 89,
     "metadata": {},
     "output_type": "execute_result"
    }
   ],
   "source": [
    "# replacing nans for the columns with nans by the medians\n",
    "imputer = SimpleImputer(missing_values = np.nan,\n",
    "                        strategy ='median')\n",
    "imputer = imputer.fit(df.loc[:,~df.columns.isin(['Id','Class'])])\n",
    "df.loc[:,~df.columns.isin(['Id','Class'])] = imputer.transform(df.loc[:,~df.columns.isin(['Id','Class'])])\n",
    "round(df.isna().sum()/len(df)*100,2)"
   ]
  },
  {
   "cell_type": "code",
   "execution_count": 90,
   "id": "b67a4e4a",
   "metadata": {},
   "outputs": [
    {
     "name": "stdout",
     "output_type": "stream",
     "text": [
      "<class 'pandas.core.frame.DataFrame'>\n",
      "RangeIndex: 617 entries, 0 to 616\n",
      "Data columns (total 58 columns):\n",
      " #   Column  Non-Null Count  Dtype  \n",
      "---  ------  --------------  -----  \n",
      " 0   Id      617 non-null    object \n",
      " 1   AB      617 non-null    float64\n",
      " 2   AF      617 non-null    float64\n",
      " 3   AH      617 non-null    float64\n",
      " 4   AM      617 non-null    float64\n",
      " 5   AR      617 non-null    float64\n",
      " 6   AX      617 non-null    float64\n",
      " 7   AY      617 non-null    float64\n",
      " 8   AZ      617 non-null    float64\n",
      " 9   BC      617 non-null    float64\n",
      " 10  BD      617 non-null    float64\n",
      " 11  BN      617 non-null    float64\n",
      " 12  BP      617 non-null    float64\n",
      " 13  BQ      617 non-null    float64\n",
      " 14  BR      617 non-null    float64\n",
      " 15  BZ      617 non-null    float64\n",
      " 16  CB      617 non-null    float64\n",
      " 17  CC      617 non-null    float64\n",
      " 18  CD      617 non-null    float64\n",
      " 19  CF      617 non-null    float64\n",
      " 20  CH      617 non-null    float64\n",
      " 21  CL      617 non-null    float64\n",
      " 22  CR      617 non-null    float64\n",
      " 23  CS      617 non-null    float64\n",
      " 24  CU      617 non-null    float64\n",
      " 25  CW      617 non-null    float64\n",
      " 26  DA      617 non-null    float64\n",
      " 27  DE      617 non-null    float64\n",
      " 28  DF      617 non-null    float64\n",
      " 29  DH      617 non-null    float64\n",
      " 30  DI      617 non-null    float64\n",
      " 31  DL      617 non-null    float64\n",
      " 32  DN      617 non-null    float64\n",
      " 33  DU      617 non-null    float64\n",
      " 34  DV      617 non-null    float64\n",
      " 35  DY      617 non-null    float64\n",
      " 36  EB      617 non-null    float64\n",
      " 37  EE      617 non-null    float64\n",
      " 38  EG      617 non-null    float64\n",
      " 39  EH      617 non-null    float64\n",
      " 40  EJ      617 non-null    float64\n",
      " 41  EL      617 non-null    float64\n",
      " 42  EP      617 non-null    float64\n",
      " 43  EU      617 non-null    float64\n",
      " 44  FC      617 non-null    float64\n",
      " 45  FD      617 non-null    float64\n",
      " 46  FE      617 non-null    float64\n",
      " 47  FI      617 non-null    float64\n",
      " 48  FL      617 non-null    float64\n",
      " 49  FR      617 non-null    float64\n",
      " 50  FS      617 non-null    float64\n",
      " 51  GB      617 non-null    float64\n",
      " 52  GE      617 non-null    float64\n",
      " 53  GF      617 non-null    float64\n",
      " 54  GH      617 non-null    float64\n",
      " 55  GI      617 non-null    float64\n",
      " 56  GL      617 non-null    float64\n",
      " 57  Class   617 non-null    int64  \n",
      "dtypes: float64(56), int64(1), object(1)\n",
      "memory usage: 279.7+ KB\n"
     ]
    }
   ],
   "source": [
    "# checking the datatypes and nans\n",
    "df.info()"
   ]
  },
  {
   "cell_type": "code",
   "execution_count": 91,
   "id": "33bc35e2",
   "metadata": {},
   "outputs": [
    {
     "data": {
      "text/plain": [
       "0    509\n",
       "1    108\n",
       "Name: Class, dtype: int64"
      ]
     },
     "execution_count": 91,
     "metadata": {},
     "output_type": "execute_result"
    }
   ],
   "source": [
    "# we deal with a classification problem\n",
    "df.Class.value_counts()"
   ]
  },
  {
   "cell_type": "code",
   "execution_count": 92,
   "id": "a301acc5",
   "metadata": {},
   "outputs": [],
   "source": [
    "# implementing automatic Anova approach for treatment of the categorical columns\n",
    "# defining a function to get the p_value\n",
    "import scipy.stats as stats\n",
    "def p_test_cat(dataframe,col_x,col_y):\n",
    "    cols=list(dataframe[col_x].value_counts().index) \n",
    "    results=[]\n",
    "    for i in cols:\n",
    "        i=dataframe[dataframe[col_x]==i][[col_y]]\n",
    "        results.append(i)\n",
    "    statistics, p_value=stats.f_oneway(*results)\n",
    "    return p_value"
   ]
  },
  {
   "cell_type": "code",
   "execution_count": 93,
   "id": "cc50c3f1",
   "metadata": {},
   "outputs": [
    {
     "data": {
      "text/plain": [
       "Index(['Id', 'AB', 'AF', 'AH', 'AM', 'AR', 'AX', 'AY', 'AZ', 'BC', 'BD ', 'BN',\n",
       "       'BP', 'BQ', 'BR', 'BZ', 'CB', 'CC', 'CD ', 'CF', 'CH', 'CL', 'CR', 'CS',\n",
       "       'CU', 'CW ', 'DA', 'DE', 'DF', 'DH', 'DI', 'DL', 'DN', 'DU', 'DV', 'DY',\n",
       "       'EB', 'EE', 'EG', 'EH', 'EJ', 'EL', 'EP', 'EU', 'FC', 'FD ', 'FE', 'FI',\n",
       "       'FL', 'FR', 'FS', 'GB', 'GE', 'GF', 'GH', 'GI', 'GL'],\n",
       "      dtype='object')"
      ]
     },
     "execution_count": 93,
     "metadata": {},
     "output_type": "execute_result"
    }
   ],
   "source": [
    "# selecting the columns for further test\n",
    "cols_to_test=df.columns[~df.columns.isin(['ID','Class'])]\n",
    "cols_to_test"
   ]
  },
  {
   "cell_type": "code",
   "execution_count": 94,
   "id": "fe540d6a",
   "metadata": {},
   "outputs": [
    {
     "data": {
      "text/plain": [
       "['AH',\n",
       " 'AM',\n",
       " 'AY',\n",
       " 'AZ',\n",
       " 'BN',\n",
       " 'BR',\n",
       " 'CB',\n",
       " 'CC',\n",
       " 'CD ',\n",
       " 'CH',\n",
       " 'CR',\n",
       " 'CS',\n",
       " 'CU',\n",
       " 'CW ',\n",
       " 'DH',\n",
       " 'DL',\n",
       " 'EE',\n",
       " 'EG',\n",
       " 'EL',\n",
       " 'EP',\n",
       " 'FC',\n",
       " 'FR',\n",
       " 'FS',\n",
       " 'GB',\n",
       " 'GE',\n",
       " 'GF',\n",
       " 'GH',\n",
       " 'GI']"
      ]
     },
     "execution_count": 94,
     "metadata": {},
     "output_type": "execute_result"
    }
   ],
   "source": [
    "# selecting the columns to delete (with p_value > 0.05)\n",
    "cols_to_drop=[]\n",
    "for i in cols_to_test:\n",
    "    if p_test_cat(df,i,'Class')>0.05:\n",
    "        cols_to_drop.append(i)\n",
    "cols_to_drop"
   ]
  },
  {
   "cell_type": "code",
   "execution_count": 95,
   "id": "dbb34aa7",
   "metadata": {},
   "outputs": [
    {
     "name": "stdout",
     "output_type": "stream",
     "text": [
      "<class 'pandas.core.frame.DataFrame'>\n",
      "RangeIndex: 617 entries, 0 to 616\n",
      "Data columns (total 30 columns):\n",
      " #   Column  Non-Null Count  Dtype  \n",
      "---  ------  --------------  -----  \n",
      " 0   Id      617 non-null    object \n",
      " 1   AB      617 non-null    float64\n",
      " 2   AF      617 non-null    float64\n",
      " 3   AR      617 non-null    float64\n",
      " 4   AX      617 non-null    float64\n",
      " 5   BC      617 non-null    float64\n",
      " 6   BD      617 non-null    float64\n",
      " 7   BP      617 non-null    float64\n",
      " 8   BQ      617 non-null    float64\n",
      " 9   BZ      617 non-null    float64\n",
      " 10  CF      617 non-null    float64\n",
      " 11  CL      617 non-null    float64\n",
      " 12  DA      617 non-null    float64\n",
      " 13  DE      617 non-null    float64\n",
      " 14  DF      617 non-null    float64\n",
      " 15  DI      617 non-null    float64\n",
      " 16  DN      617 non-null    float64\n",
      " 17  DU      617 non-null    float64\n",
      " 18  DV      617 non-null    float64\n",
      " 19  DY      617 non-null    float64\n",
      " 20  EB      617 non-null    float64\n",
      " 21  EH      617 non-null    float64\n",
      " 22  EJ      617 non-null    float64\n",
      " 23  EU      617 non-null    float64\n",
      " 24  FD      617 non-null    float64\n",
      " 25  FE      617 non-null    float64\n",
      " 26  FI      617 non-null    float64\n",
      " 27  FL      617 non-null    float64\n",
      " 28  GL      617 non-null    float64\n",
      " 29  Class   617 non-null    int64  \n",
      "dtypes: float64(28), int64(1), object(1)\n",
      "memory usage: 144.7+ KB\n"
     ]
    }
   ],
   "source": [
    "# dropping the columns after p-test\n",
    "df=df.drop(cols_to_drop,axis=1)\n",
    "df.info()"
   ]
  },
  {
   "cell_type": "code",
   "execution_count": 96,
   "id": "90835af2",
   "metadata": {},
   "outputs": [],
   "source": [
    "# before embarking on the modelling, I implement perturbation of the dataset\n",
    "dfr=pd.DataFrame(np.random.permutation(df.values),columns=df.columns)"
   ]
  },
  {
   "cell_type": "code",
   "execution_count": 97,
   "id": "c1f2595a",
   "metadata": {},
   "outputs": [],
   "source": [
    "# rearranging the dataframe\n",
    "id=dfr.Id\n",
    "dfr=dfr.drop('Id',axis=1)"
   ]
  },
  {
   "cell_type": "code",
   "execution_count": 98,
   "id": "ef2e0c76",
   "metadata": {},
   "outputs": [],
   "source": [
    "# defining X and y\n",
    "X=dfr.drop(\"Class\",axis=1)\n",
    "Y=dfr[[\"Class\"]]"
   ]
  },
  {
   "cell_type": "code",
   "execution_count": 99,
   "id": "a5188923",
   "metadata": {},
   "outputs": [],
   "source": [
    "# Outliers removal\n",
    "lof = LocalOutlierFactor()\n",
    "yhat = lof.fit_predict(X)\n",
    "mask = yhat != -1\n",
    "x,y=X.loc[mask,:],Y.loc[mask,:]"
   ]
  },
  {
   "cell_type": "code",
   "execution_count": 109,
   "id": "42141e16",
   "metadata": {},
   "outputs": [],
   "source": [
    "# splitting data into train and test \n",
    "X_train, X_test, y_train, y_test = train_test_split(x,y,test_size = 0.2, random_state = 1)"
   ]
  },
  {
   "cell_type": "code",
   "execution_count": 101,
   "id": "b0d68b25",
   "metadata": {},
   "outputs": [],
   "source": [
    "# scaling data for x, train and test (keeping logics of fitting and transforming)\n",
    "scaler=StandardScaler()\n",
    "x_all=scaler.fit(x)\n",
    "xx=x_all.transform(x)\n",
    "X_tr=scaler.fit(X_train)\n",
    "X_train_sc=X_tr.transform(X_train)\n",
    "X_test_sc=X_tr.transform(X_test)"
   ]
  },
  {
   "cell_type": "code",
   "execution_count": 102,
   "id": "70895b63",
   "metadata": {},
   "outputs": [
    {
     "name": "stdout",
     "output_type": "stream",
     "text": [
      "<class 'pandas.core.frame.DataFrame'>\n",
      "Int64Index: 582 entries, 0 to 616\n",
      "Data columns (total 1 columns):\n",
      " #   Column  Non-Null Count  Dtype\n",
      "---  ------  --------------  -----\n",
      " 0   Class   582 non-null    bool \n",
      "dtypes: bool(1)\n",
      "memory usage: 5.1 KB\n"
     ]
    }
   ],
   "source": [
    "# changing datatype of y\n",
    "y['Class']=y['Class'].astype(bool)\n",
    "y.info()"
   ]
  },
  {
   "cell_type": "code",
   "execution_count": 103,
   "id": "6fcd3f4a",
   "metadata": {},
   "outputs": [
    {
     "data": {
      "text/plain": [
       "Class\n",
       "False    491\n",
       "True      91\n",
       "dtype: int64"
      ]
     },
     "execution_count": 103,
     "metadata": {},
     "output_type": "execute_result"
    }
   ],
   "source": [
    "# checking the results for y\n",
    "y.value_counts()"
   ]
  },
  {
   "cell_type": "code",
   "execution_count": 104,
   "id": "8c731a7d",
   "metadata": {
    "scrolled": true
   },
   "outputs": [
    {
     "name": "stdout",
     "output_type": "stream",
     "text": [
      "LR: 0.89 (0.02)\n",
      "LDA: 0.89 (0.01)\n",
      "KNN: 0.88 (0.01)\n",
      "NB: 0.86 (0.02)\n",
      "SVM: 0.88 (0.01)\n",
      "CART: 0.85 (0.02)\n",
      "RandFC: 0.91 (0.02)\n",
      "GBC: 0.91 (0.01)\n",
      "XGB: 0.91 (0.02)\n"
     ]
    }
   ],
   "source": [
    "# since we work with the classification problem, the classifiers were selected for modelling\n",
    "# set of different models to choose the best ones for further experiments\n",
    "# for the final set I'll choose GBC and XGB\n",
    "models = []\n",
    "models.append(('LR', LogisticRegression(solver='liblinear', multi_class='ovr')))\n",
    "models.append(('LDA', LinearDiscriminantAnalysis()))\n",
    "models.append(('KNN', KNeighborsClassifier()))\n",
    "models.append(('NB', GaussianNB()))\n",
    "models.append(('SVM', SVC()))\n",
    "models.append(('CART', DecisionTreeClassifier()))\n",
    "models.append(('RandFC', RandomForestClassifier()))\n",
    "models.append(('GBC', GradientBoostingClassifier()))\n",
    "models.append(('XGB', xgb.XGBClassifier()))\n",
    "\n",
    "results = []\n",
    "names = []\n",
    "for name, model in models:\n",
    "    kfold = StratifiedKFold(n_splits=5, random_state=1, shuffle=True)\n",
    "    cv_results = cross_val_score(model, xx, np.ravel(y), cv=kfold, scoring='accuracy')\n",
    "    results.append(cv_results)\n",
    "    names.append(name)\n",
    "    print('%s: %.2f (%.2f)' % (name, cv_results.mean(), cv_results.std()))\n"
   ]
  },
  {
   "cell_type": "code",
   "execution_count": 105,
   "id": "cebdd1dd",
   "metadata": {},
   "outputs": [
    {
     "name": "stdout",
     "output_type": "stream",
     "text": [
      "RFC_param_grid:  {'n_estimators': [5, 20, 50, 100, 150, 200, 300], 'max_depth': [10, 20, 30, 40, 50, 60, 70, 80, 90, 100, 110, 120], 'max_leaf_nodes': [2, 5, 10, 20, 50, 100], 'max_features': ['sqrt', 'log2', None]} \n",
      "\n"
     ]
    }
   ],
   "source": [
    "# further I'll do HP tuning for the three best models (RFC, GBC, XGB)\n",
    "# RandomForest HPs tuning\n",
    "from scipy.stats import loguniform\n",
    "n_estimators = [5,20,50,100,150,200,300] # number of trees in the random forest\n",
    "max_depth = [int(x) for x in np.linspace(10, 120, num = 12)] # maximum number of levels allowed in each decision tree\n",
    "max_leaf_nodes=[2, 5, 10, 20, 50, 100]\n",
    "max_features=['sqrt', 'log2', None]\n",
    "\n",
    "rfc_param_grid = {'n_estimators': n_estimators,\n",
    "'max_depth': max_depth,\n",
    "'max_leaf_nodes':max_leaf_nodes,\n",
    "'max_features':max_features}\n",
    "\n",
    "print ('RFC_param_grid: ', rfc_param_grid, '\\n')"
   ]
  },
  {
   "cell_type": "code",
   "execution_count": 106,
   "id": "835c837c",
   "metadata": {},
   "outputs": [
    {
     "name": "stdout",
     "output_type": "stream",
     "text": [
      "Fitting 3 folds for each of 100 candidates, totalling 300 fits\n",
      "Best parameters found:  {'n_estimators': 200, 'max_leaf_nodes': 50, 'max_features': 'sqrt', 'max_depth': 30}\n",
      "Best score:  0.24189845746287772\n"
     ]
    }
   ],
   "source": [
    "# initializing the model and running RF\n",
    "rfc=RandomForestClassifier()\n",
    "# rfc_random = GridSearchCV(estimator = rfc,param_grid = rfc_param_grid,\n",
    "#                cv = 3, verbose=2, n_jobs = -1, scoring=\"neg_log_loss\")\n",
    "rfc_random = RandomizedSearchCV(estimator = rfc,param_distributions = rfc_param_grid,\n",
    "               n_iter = 100, cv = 3, verbose=2, random_state=1, n_jobs = -1, scoring=\"neg_log_loss\")\n",
    "rfc_random.fit(x,np.ravel(y))\n",
    "print(\"Best parameters found: \", rfc_random.best_params_)\n",
    "print(\"Best score: \", -rfc_random.best_score_)"
   ]
  },
  {
   "cell_type": "code",
   "execution_count": 111,
   "id": "0275215c",
   "metadata": {},
   "outputs": [
    {
     "data": {
      "text/html": [
       "<style>#sk-container-id-8 {color: black;background-color: white;}#sk-container-id-8 pre{padding: 0;}#sk-container-id-8 div.sk-toggleable {background-color: white;}#sk-container-id-8 label.sk-toggleable__label {cursor: pointer;display: block;width: 100%;margin-bottom: 0;padding: 0.3em;box-sizing: border-box;text-align: center;}#sk-container-id-8 label.sk-toggleable__label-arrow:before {content: \"▸\";float: left;margin-right: 0.25em;color: #696969;}#sk-container-id-8 label.sk-toggleable__label-arrow:hover:before {color: black;}#sk-container-id-8 div.sk-estimator:hover label.sk-toggleable__label-arrow:before {color: black;}#sk-container-id-8 div.sk-toggleable__content {max-height: 0;max-width: 0;overflow: hidden;text-align: left;background-color: #f0f8ff;}#sk-container-id-8 div.sk-toggleable__content pre {margin: 0.2em;color: black;border-radius: 0.25em;background-color: #f0f8ff;}#sk-container-id-8 input.sk-toggleable__control:checked~div.sk-toggleable__content {max-height: 200px;max-width: 100%;overflow: auto;}#sk-container-id-8 input.sk-toggleable__control:checked~label.sk-toggleable__label-arrow:before {content: \"▾\";}#sk-container-id-8 div.sk-estimator input.sk-toggleable__control:checked~label.sk-toggleable__label {background-color: #d4ebff;}#sk-container-id-8 div.sk-label input.sk-toggleable__control:checked~label.sk-toggleable__label {background-color: #d4ebff;}#sk-container-id-8 input.sk-hidden--visually {border: 0;clip: rect(1px 1px 1px 1px);clip: rect(1px, 1px, 1px, 1px);height: 1px;margin: -1px;overflow: hidden;padding: 0;position: absolute;width: 1px;}#sk-container-id-8 div.sk-estimator {font-family: monospace;background-color: #f0f8ff;border: 1px dotted black;border-radius: 0.25em;box-sizing: border-box;margin-bottom: 0.5em;}#sk-container-id-8 div.sk-estimator:hover {background-color: #d4ebff;}#sk-container-id-8 div.sk-parallel-item::after {content: \"\";width: 100%;border-bottom: 1px solid gray;flex-grow: 1;}#sk-container-id-8 div.sk-label:hover label.sk-toggleable__label {background-color: #d4ebff;}#sk-container-id-8 div.sk-serial::before {content: \"\";position: absolute;border-left: 1px solid gray;box-sizing: border-box;top: 0;bottom: 0;left: 50%;z-index: 0;}#sk-container-id-8 div.sk-serial {display: flex;flex-direction: column;align-items: center;background-color: white;padding-right: 0.2em;padding-left: 0.2em;position: relative;}#sk-container-id-8 div.sk-item {position: relative;z-index: 1;}#sk-container-id-8 div.sk-parallel {display: flex;align-items: stretch;justify-content: center;background-color: white;position: relative;}#sk-container-id-8 div.sk-item::before, #sk-container-id-8 div.sk-parallel-item::before {content: \"\";position: absolute;border-left: 1px solid gray;box-sizing: border-box;top: 0;bottom: 0;left: 50%;z-index: -1;}#sk-container-id-8 div.sk-parallel-item {display: flex;flex-direction: column;z-index: 1;position: relative;background-color: white;}#sk-container-id-8 div.sk-parallel-item:first-child::after {align-self: flex-end;width: 50%;}#sk-container-id-8 div.sk-parallel-item:last-child::after {align-self: flex-start;width: 50%;}#sk-container-id-8 div.sk-parallel-item:only-child::after {width: 0;}#sk-container-id-8 div.sk-dashed-wrapped {border: 1px dashed gray;margin: 0 0.4em 0.5em 0.4em;box-sizing: border-box;padding-bottom: 0.4em;background-color: white;}#sk-container-id-8 div.sk-label label {font-family: monospace;font-weight: bold;display: inline-block;line-height: 1.2em;}#sk-container-id-8 div.sk-label-container {text-align: center;}#sk-container-id-8 div.sk-container {/* jupyter's `normalize.less` sets `[hidden] { display: none; }` but bootstrap.min.css set `[hidden] { display: none !important; }` so we also need the `!important` here to be able to override the default hidden behavior on the sphinx rendered scikit-learn.org. See: https://github.com/scikit-learn/scikit-learn/issues/21755 */display: inline-block !important;position: relative;}#sk-container-id-8 div.sk-text-repr-fallback {display: none;}</style><div id=\"sk-container-id-8\" class=\"sk-top-container\"><div class=\"sk-text-repr-fallback\"><pre>RandomForestClassifier(max_depth=30, max_leaf_nodes=50, n_estimators=200)</pre><b>In a Jupyter environment, please rerun this cell to show the HTML representation or trust the notebook. <br />On GitHub, the HTML representation is unable to render, please try loading this page with nbviewer.org.</b></div><div class=\"sk-container\" hidden><div class=\"sk-item\"><div class=\"sk-estimator sk-toggleable\"><input class=\"sk-toggleable__control sk-hidden--visually\" id=\"sk-estimator-id-8\" type=\"checkbox\" checked><label for=\"sk-estimator-id-8\" class=\"sk-toggleable__label sk-toggleable__label-arrow\">RandomForestClassifier</label><div class=\"sk-toggleable__content\"><pre>RandomForestClassifier(max_depth=30, max_leaf_nodes=50, n_estimators=200)</pre></div></div></div></div></div>"
      ],
      "text/plain": [
       "RandomForestClassifier(max_depth=30, max_leaf_nodes=50, n_estimators=200)"
      ]
     },
     "execution_count": 111,
     "metadata": {},
     "output_type": "execute_result"
    }
   ],
   "source": [
    "# fitting the model with the optimal parameters\n",
    "rfc_opt_params=rfc_random.best_params_\n",
    "rfc_opt = RandomForestClassifier(**rfc_opt_params)\n",
    "rfc_opt.fit(X_train,np.ravel(y_train))"
   ]
  },
  {
   "cell_type": "code",
   "execution_count": 112,
   "id": "19472157",
   "metadata": {},
   "outputs": [
    {
     "name": "stdout",
     "output_type": "stream",
     "text": [
      "Random grid:  {'n_estimators': [5, 20, 50, 100, 150, 200, 300], 'max_depth': [10, 20, 30, 40, 50, 60, 70, 80, 90, 100, 110, 120], 'max_leaf_nodes': [2, 5, 10, 20, 50, 100], 'learning_rate': <scipy.stats._distn_infrastructure.rv_continuous_frozen object at 0x0000025AC8903B80>} \n",
      "\n"
     ]
    }
   ],
   "source": [
    "# GradientBoosting HPs tuning\n",
    "n_estimators = [5,20,50,100,150,200,300] # number of trees in the random forest\n",
    "max_depth = [int(x) for x in np.linspace(10, 120, num = 12)] # maximum number of levels allowed in each decision tree\n",
    "max_leaf_nodes=[2, 5, 10, 20, 50, 100]\n",
    "\n",
    "random_grid = {'n_estimators': n_estimators,\n",
    "'max_depth': max_depth,\n",
    "'max_leaf_nodes':max_leaf_nodes,\n",
    "'learning_rate': loguniform(0.01, 1)}\n",
    "\n",
    "print ('Random grid: ', random_grid, '\\n')"
   ]
  },
  {
   "cell_type": "code",
   "execution_count": 113,
   "id": "bb17f6dd",
   "metadata": {},
   "outputs": [
    {
     "name": "stdout",
     "output_type": "stream",
     "text": [
      "Fitting 3 folds for each of 100 candidates, totalling 300 fits\n",
      "Best parameters found:  {'learning_rate': 0.07141996801463805, 'max_depth': 70, 'max_leaf_nodes': 2, 'n_estimators': 200}\n",
      "Best score:  0.2605711586673371\n"
     ]
    }
   ],
   "source": [
    "# initializing the model and running the GB\n",
    "gbr=GradientBoostingClassifier(loss='log_loss')\n",
    "# gbr_random=GridSearchCV(estimator = gbr,param_grid = random_grid,\n",
    "#                cv = 3, verbose=2, n_jobs = -1, scoring=\"neg_log_loss\")\n",
    "gbr_random = RandomizedSearchCV(estimator = gbr,param_distributions = random_grid,\n",
    "               n_iter = 100, cv = 3, verbose=2, random_state=1, n_jobs = -1, scoring=\"neg_log_loss\")\n",
    "gbr_random.fit(x,np.ravel(y))\n",
    "print(\"Best parameters found: \", gbr_random.best_params_)\n",
    "print(\"Best score: \", -gbr_random.best_score_)"
   ]
  },
  {
   "cell_type": "code",
   "execution_count": 114,
   "id": "61e0efda",
   "metadata": {
    "scrolled": false
   },
   "outputs": [
    {
     "data": {
      "text/html": [
       "<style>#sk-container-id-9 {color: black;background-color: white;}#sk-container-id-9 pre{padding: 0;}#sk-container-id-9 div.sk-toggleable {background-color: white;}#sk-container-id-9 label.sk-toggleable__label {cursor: pointer;display: block;width: 100%;margin-bottom: 0;padding: 0.3em;box-sizing: border-box;text-align: center;}#sk-container-id-9 label.sk-toggleable__label-arrow:before {content: \"▸\";float: left;margin-right: 0.25em;color: #696969;}#sk-container-id-9 label.sk-toggleable__label-arrow:hover:before {color: black;}#sk-container-id-9 div.sk-estimator:hover label.sk-toggleable__label-arrow:before {color: black;}#sk-container-id-9 div.sk-toggleable__content {max-height: 0;max-width: 0;overflow: hidden;text-align: left;background-color: #f0f8ff;}#sk-container-id-9 div.sk-toggleable__content pre {margin: 0.2em;color: black;border-radius: 0.25em;background-color: #f0f8ff;}#sk-container-id-9 input.sk-toggleable__control:checked~div.sk-toggleable__content {max-height: 200px;max-width: 100%;overflow: auto;}#sk-container-id-9 input.sk-toggleable__control:checked~label.sk-toggleable__label-arrow:before {content: \"▾\";}#sk-container-id-9 div.sk-estimator input.sk-toggleable__control:checked~label.sk-toggleable__label {background-color: #d4ebff;}#sk-container-id-9 div.sk-label input.sk-toggleable__control:checked~label.sk-toggleable__label {background-color: #d4ebff;}#sk-container-id-9 input.sk-hidden--visually {border: 0;clip: rect(1px 1px 1px 1px);clip: rect(1px, 1px, 1px, 1px);height: 1px;margin: -1px;overflow: hidden;padding: 0;position: absolute;width: 1px;}#sk-container-id-9 div.sk-estimator {font-family: monospace;background-color: #f0f8ff;border: 1px dotted black;border-radius: 0.25em;box-sizing: border-box;margin-bottom: 0.5em;}#sk-container-id-9 div.sk-estimator:hover {background-color: #d4ebff;}#sk-container-id-9 div.sk-parallel-item::after {content: \"\";width: 100%;border-bottom: 1px solid gray;flex-grow: 1;}#sk-container-id-9 div.sk-label:hover label.sk-toggleable__label {background-color: #d4ebff;}#sk-container-id-9 div.sk-serial::before {content: \"\";position: absolute;border-left: 1px solid gray;box-sizing: border-box;top: 0;bottom: 0;left: 50%;z-index: 0;}#sk-container-id-9 div.sk-serial {display: flex;flex-direction: column;align-items: center;background-color: white;padding-right: 0.2em;padding-left: 0.2em;position: relative;}#sk-container-id-9 div.sk-item {position: relative;z-index: 1;}#sk-container-id-9 div.sk-parallel {display: flex;align-items: stretch;justify-content: center;background-color: white;position: relative;}#sk-container-id-9 div.sk-item::before, #sk-container-id-9 div.sk-parallel-item::before {content: \"\";position: absolute;border-left: 1px solid gray;box-sizing: border-box;top: 0;bottom: 0;left: 50%;z-index: -1;}#sk-container-id-9 div.sk-parallel-item {display: flex;flex-direction: column;z-index: 1;position: relative;background-color: white;}#sk-container-id-9 div.sk-parallel-item:first-child::after {align-self: flex-end;width: 50%;}#sk-container-id-9 div.sk-parallel-item:last-child::after {align-self: flex-start;width: 50%;}#sk-container-id-9 div.sk-parallel-item:only-child::after {width: 0;}#sk-container-id-9 div.sk-dashed-wrapped {border: 1px dashed gray;margin: 0 0.4em 0.5em 0.4em;box-sizing: border-box;padding-bottom: 0.4em;background-color: white;}#sk-container-id-9 div.sk-label label {font-family: monospace;font-weight: bold;display: inline-block;line-height: 1.2em;}#sk-container-id-9 div.sk-label-container {text-align: center;}#sk-container-id-9 div.sk-container {/* jupyter's `normalize.less` sets `[hidden] { display: none; }` but bootstrap.min.css set `[hidden] { display: none !important; }` so we also need the `!important` here to be able to override the default hidden behavior on the sphinx rendered scikit-learn.org. See: https://github.com/scikit-learn/scikit-learn/issues/21755 */display: inline-block !important;position: relative;}#sk-container-id-9 div.sk-text-repr-fallback {display: none;}</style><div id=\"sk-container-id-9\" class=\"sk-top-container\"><div class=\"sk-text-repr-fallback\"><pre>GradientBoostingClassifier(learning_rate=0.07141996801463805, max_depth=70,\n",
       "                           max_leaf_nodes=2, n_estimators=200)</pre><b>In a Jupyter environment, please rerun this cell to show the HTML representation or trust the notebook. <br />On GitHub, the HTML representation is unable to render, please try loading this page with nbviewer.org.</b></div><div class=\"sk-container\" hidden><div class=\"sk-item\"><div class=\"sk-estimator sk-toggleable\"><input class=\"sk-toggleable__control sk-hidden--visually\" id=\"sk-estimator-id-9\" type=\"checkbox\" checked><label for=\"sk-estimator-id-9\" class=\"sk-toggleable__label sk-toggleable__label-arrow\">GradientBoostingClassifier</label><div class=\"sk-toggleable__content\"><pre>GradientBoostingClassifier(learning_rate=0.07141996801463805, max_depth=70,\n",
       "                           max_leaf_nodes=2, n_estimators=200)</pre></div></div></div></div></div>"
      ],
      "text/plain": [
       "GradientBoostingClassifier(learning_rate=0.07141996801463805, max_depth=70,\n",
       "                           max_leaf_nodes=2, n_estimators=200)"
      ]
     },
     "execution_count": 114,
     "metadata": {},
     "output_type": "execute_result"
    }
   ],
   "source": [
    "# fitting the model with the optimal parameters\n",
    "gbr_opt_params=gbr_random.best_params_\n",
    "gbr_opt = GradientBoostingClassifier(**gbr_opt_params,loss='log_loss')\n",
    "gbr_opt.fit(X_train,np.ravel(y_train))"
   ]
  },
  {
   "cell_type": "code",
   "execution_count": 115,
   "id": "8be91746",
   "metadata": {},
   "outputs": [
    {
     "name": "stdout",
     "output_type": "stream",
     "text": [
      "Fitting 3 folds for each of 100 candidates, totalling 300 fits\n",
      "Best parameters found:  {'n_estimators': 150, 'max_depth': 3, 'colsample_bytree': 0.3}\n",
      "Best score:  0.2627374736908015\n"
     ]
    }
   ],
   "source": [
    "# # initializing the model and running XGB HPs tuning\n",
    "xgbc = xgb.XGBClassifier()\n",
    "xgb_random_grid = {\n",
    "    'colsample_bytree': [0.3, 0.7, 1.0],\n",
    "    'n_estimators': [150,200,250,300],\n",
    "    'max_depth': range(2, 11)}\n",
    "# xgb_random=GridSearchCV(estimator = xgbc,param_grid = xgb_random_grid,\n",
    "#                cv = 3, verbose=2, n_jobs = -1, scoring=\"neg_log_loss\")\n",
    "xgb_random = RandomizedSearchCV(estimator = xgbc,param_distributions = xgb_random_grid,\n",
    "               n_iter = 100, cv = 3, verbose=2, random_state=1, n_jobs = -1, scoring=\"neg_log_loss\")\n",
    "xgb_random.fit(xx,np.ravel(y))\n",
    "print(\"Best parameters found: \", xgb_random.best_params_)\n",
    "print(\"Best score: \", -xgb_random.best_score_)"
   ]
  },
  {
   "cell_type": "code",
   "execution_count": 116,
   "id": "489bb41c",
   "metadata": {
    "scrolled": true
   },
   "outputs": [
    {
     "data": {
      "text/html": [
       "<style>#sk-container-id-10 {color: black;background-color: white;}#sk-container-id-10 pre{padding: 0;}#sk-container-id-10 div.sk-toggleable {background-color: white;}#sk-container-id-10 label.sk-toggleable__label {cursor: pointer;display: block;width: 100%;margin-bottom: 0;padding: 0.3em;box-sizing: border-box;text-align: center;}#sk-container-id-10 label.sk-toggleable__label-arrow:before {content: \"▸\";float: left;margin-right: 0.25em;color: #696969;}#sk-container-id-10 label.sk-toggleable__label-arrow:hover:before {color: black;}#sk-container-id-10 div.sk-estimator:hover label.sk-toggleable__label-arrow:before {color: black;}#sk-container-id-10 div.sk-toggleable__content {max-height: 0;max-width: 0;overflow: hidden;text-align: left;background-color: #f0f8ff;}#sk-container-id-10 div.sk-toggleable__content pre {margin: 0.2em;color: black;border-radius: 0.25em;background-color: #f0f8ff;}#sk-container-id-10 input.sk-toggleable__control:checked~div.sk-toggleable__content {max-height: 200px;max-width: 100%;overflow: auto;}#sk-container-id-10 input.sk-toggleable__control:checked~label.sk-toggleable__label-arrow:before {content: \"▾\";}#sk-container-id-10 div.sk-estimator input.sk-toggleable__control:checked~label.sk-toggleable__label {background-color: #d4ebff;}#sk-container-id-10 div.sk-label input.sk-toggleable__control:checked~label.sk-toggleable__label {background-color: #d4ebff;}#sk-container-id-10 input.sk-hidden--visually {border: 0;clip: rect(1px 1px 1px 1px);clip: rect(1px, 1px, 1px, 1px);height: 1px;margin: -1px;overflow: hidden;padding: 0;position: absolute;width: 1px;}#sk-container-id-10 div.sk-estimator {font-family: monospace;background-color: #f0f8ff;border: 1px dotted black;border-radius: 0.25em;box-sizing: border-box;margin-bottom: 0.5em;}#sk-container-id-10 div.sk-estimator:hover {background-color: #d4ebff;}#sk-container-id-10 div.sk-parallel-item::after {content: \"\";width: 100%;border-bottom: 1px solid gray;flex-grow: 1;}#sk-container-id-10 div.sk-label:hover label.sk-toggleable__label {background-color: #d4ebff;}#sk-container-id-10 div.sk-serial::before {content: \"\";position: absolute;border-left: 1px solid gray;box-sizing: border-box;top: 0;bottom: 0;left: 50%;z-index: 0;}#sk-container-id-10 div.sk-serial {display: flex;flex-direction: column;align-items: center;background-color: white;padding-right: 0.2em;padding-left: 0.2em;position: relative;}#sk-container-id-10 div.sk-item {position: relative;z-index: 1;}#sk-container-id-10 div.sk-parallel {display: flex;align-items: stretch;justify-content: center;background-color: white;position: relative;}#sk-container-id-10 div.sk-item::before, #sk-container-id-10 div.sk-parallel-item::before {content: \"\";position: absolute;border-left: 1px solid gray;box-sizing: border-box;top: 0;bottom: 0;left: 50%;z-index: -1;}#sk-container-id-10 div.sk-parallel-item {display: flex;flex-direction: column;z-index: 1;position: relative;background-color: white;}#sk-container-id-10 div.sk-parallel-item:first-child::after {align-self: flex-end;width: 50%;}#sk-container-id-10 div.sk-parallel-item:last-child::after {align-self: flex-start;width: 50%;}#sk-container-id-10 div.sk-parallel-item:only-child::after {width: 0;}#sk-container-id-10 div.sk-dashed-wrapped {border: 1px dashed gray;margin: 0 0.4em 0.5em 0.4em;box-sizing: border-box;padding-bottom: 0.4em;background-color: white;}#sk-container-id-10 div.sk-label label {font-family: monospace;font-weight: bold;display: inline-block;line-height: 1.2em;}#sk-container-id-10 div.sk-label-container {text-align: center;}#sk-container-id-10 div.sk-container {/* jupyter's `normalize.less` sets `[hidden] { display: none; }` but bootstrap.min.css set `[hidden] { display: none !important; }` so we also need the `!important` here to be able to override the default hidden behavior on the sphinx rendered scikit-learn.org. See: https://github.com/scikit-learn/scikit-learn/issues/21755 */display: inline-block !important;position: relative;}#sk-container-id-10 div.sk-text-repr-fallback {display: none;}</style><div id=\"sk-container-id-10\" class=\"sk-top-container\"><div class=\"sk-text-repr-fallback\"><pre>XGBClassifier(base_score=None, booster=None, callbacks=None,\n",
       "              colsample_bylevel=None, colsample_bynode=None,\n",
       "              colsample_bytree=0.3, early_stopping_rounds=None,\n",
       "              enable_categorical=False, eval_metric=None, feature_types=None,\n",
       "              gamma=None, gpu_id=None, grow_policy=None, importance_type=None,\n",
       "              interaction_constraints=None, learning_rate=None, max_bin=None,\n",
       "              max_cat_threshold=None, max_cat_to_onehot=None,\n",
       "              max_delta_step=None, max_depth=3, max_leaves=None,\n",
       "              min_child_weight=None, missing=nan, monotone_constraints=None,\n",
       "              n_estimators=150, n_jobs=None, num_parallel_tree=None,\n",
       "              predictor=None, random_state=None, ...)</pre><b>In a Jupyter environment, please rerun this cell to show the HTML representation or trust the notebook. <br />On GitHub, the HTML representation is unable to render, please try loading this page with nbviewer.org.</b></div><div class=\"sk-container\" hidden><div class=\"sk-item\"><div class=\"sk-estimator sk-toggleable\"><input class=\"sk-toggleable__control sk-hidden--visually\" id=\"sk-estimator-id-10\" type=\"checkbox\" checked><label for=\"sk-estimator-id-10\" class=\"sk-toggleable__label sk-toggleable__label-arrow\">XGBClassifier</label><div class=\"sk-toggleable__content\"><pre>XGBClassifier(base_score=None, booster=None, callbacks=None,\n",
       "              colsample_bylevel=None, colsample_bynode=None,\n",
       "              colsample_bytree=0.3, early_stopping_rounds=None,\n",
       "              enable_categorical=False, eval_metric=None, feature_types=None,\n",
       "              gamma=None, gpu_id=None, grow_policy=None, importance_type=None,\n",
       "              interaction_constraints=None, learning_rate=None, max_bin=None,\n",
       "              max_cat_threshold=None, max_cat_to_onehot=None,\n",
       "              max_delta_step=None, max_depth=3, max_leaves=None,\n",
       "              min_child_weight=None, missing=nan, monotone_constraints=None,\n",
       "              n_estimators=150, n_jobs=None, num_parallel_tree=None,\n",
       "              predictor=None, random_state=None, ...)</pre></div></div></div></div></div>"
      ],
      "text/plain": [
       "XGBClassifier(base_score=None, booster=None, callbacks=None,\n",
       "              colsample_bylevel=None, colsample_bynode=None,\n",
       "              colsample_bytree=0.3, early_stopping_rounds=None,\n",
       "              enable_categorical=False, eval_metric=None, feature_types=None,\n",
       "              gamma=None, gpu_id=None, grow_policy=None, importance_type=None,\n",
       "              interaction_constraints=None, learning_rate=None, max_bin=None,\n",
       "              max_cat_threshold=None, max_cat_to_onehot=None,\n",
       "              max_delta_step=None, max_depth=3, max_leaves=None,\n",
       "              min_child_weight=None, missing=nan, monotone_constraints=None,\n",
       "              n_estimators=150, n_jobs=None, num_parallel_tree=None,\n",
       "              predictor=None, random_state=None, ...)"
      ]
     },
     "execution_count": 116,
     "metadata": {},
     "output_type": "execute_result"
    }
   ],
   "source": [
    "# fitting the model with the optimal parameters\n",
    "xgb_params=xgb_random.best_params_\n",
    "xgb_opt=xgb.XGBClassifier(**xgb_params)\n",
    "xgb_opt.fit(X_train_sc, np.ravel(y_train))"
   ]
  },
  {
   "cell_type": "code",
   "execution_count": 117,
   "id": "31e3cf99",
   "metadata": {},
   "outputs": [],
   "source": [
    "# and finally I'll experiment with Tensorflow model\n",
    "import tensorflow as tf\n",
    "from tensorflow.keras import Sequential\n",
    "from tensorflow.keras.optimizers import Adam\n",
    "from tensorflow.keras import backend as K\n",
    "from tensorflow.keras.layers import Dense\n",
    "from keras.utils.np_utils import to_categorical\n",
    "from keras.callbacks import EarlyStopping"
   ]
  },
  {
   "cell_type": "code",
   "execution_count": 118,
   "id": "341b98bc",
   "metadata": {},
   "outputs": [],
   "source": [
    "# changing y datatype for categorical\n",
    "y_train_cat=to_categorical(y_train)\n",
    "y_test_cat=to_categorical(y_test)"
   ]
  },
  {
   "cell_type": "code",
   "execution_count": 119,
   "id": "120f1165",
   "metadata": {},
   "outputs": [],
   "source": [
    "# xx_cast=tf.cast(xx, tf.float32)\n",
    "X_train_sc_cast=tf.cast(X_train_sc, tf.float32)\n",
    "X_test_sc_cast=tf.cast(X_test_sc, tf.float32)"
   ]
  },
  {
   "cell_type": "code",
   "execution_count": 120,
   "id": "d36ee6b8",
   "metadata": {},
   "outputs": [
    {
     "name": "stdout",
     "output_type": "stream",
     "text": [
      "Epoch 1/500\n",
      "15/15 [==============================] - 1s 12ms/step - loss: 0.4603 - accuracy: 0.8194 - val_loss: 0.3442 - val_accuracy: 0.8974\n",
      "Epoch 2/500\n",
      "15/15 [==============================] - 0s 3ms/step - loss: 0.2799 - accuracy: 0.8989 - val_loss: 0.2552 - val_accuracy: 0.9231\n",
      "Epoch 3/500\n",
      "15/15 [==============================] - 0s 3ms/step - loss: 0.2122 - accuracy: 0.9161 - val_loss: 0.2298 - val_accuracy: 0.9231\n",
      "Epoch 4/500\n",
      "15/15 [==============================] - 0s 3ms/step - loss: 0.1638 - accuracy: 0.9441 - val_loss: 0.2181 - val_accuracy: 0.9060\n",
      "Epoch 5/500\n",
      "15/15 [==============================] - 0s 3ms/step - loss: 0.1360 - accuracy: 0.9613 - val_loss: 0.2564 - val_accuracy: 0.9402\n",
      "Epoch 6/500\n",
      "15/15 [==============================] - 0s 3ms/step - loss: 0.0976 - accuracy: 0.9613 - val_loss: 0.2435 - val_accuracy: 0.9060\n",
      "Epoch 7/500\n",
      "15/15 [==============================] - 0s 3ms/step - loss: 0.0728 - accuracy: 0.9828 - val_loss: 0.2412 - val_accuracy: 0.9060\n",
      "Epoch 8/500\n",
      "15/15 [==============================] - 0s 3ms/step - loss: 0.0490 - accuracy: 0.9871 - val_loss: 0.2536 - val_accuracy: 0.9145\n",
      "Epoch 9/500\n",
      "15/15 [==============================] - 0s 3ms/step - loss: 0.0339 - accuracy: 0.9914 - val_loss: 0.2730 - val_accuracy: 0.8974\n",
      "Epoch 10/500\n",
      "15/15 [==============================] - 0s 4ms/step - loss: 0.0238 - accuracy: 0.9978 - val_loss: 0.2776 - val_accuracy: 0.9060\n",
      "Epoch 11/500\n",
      "15/15 [==============================] - 0s 3ms/step - loss: 0.0164 - accuracy: 0.9978 - val_loss: 0.2813 - val_accuracy: 0.9060\n",
      "Epoch 12/500\n",
      "15/15 [==============================] - 0s 3ms/step - loss: 0.0107 - accuracy: 1.0000 - val_loss: 0.3092 - val_accuracy: 0.9145\n",
      "Epoch 13/500\n",
      "15/15 [==============================] - 0s 3ms/step - loss: 0.0069 - accuracy: 1.0000 - val_loss: 0.3254 - val_accuracy: 0.9060\n",
      "Epoch 14/500\n",
      "15/15 [==============================] - 0s 3ms/step - loss: 0.0054 - accuracy: 1.0000 - val_loss: 0.3234 - val_accuracy: 0.9060\n",
      "Epoch 15/500\n",
      "15/15 [==============================] - 0s 3ms/step - loss: 0.0040 - accuracy: 1.0000 - val_loss: 0.3598 - val_accuracy: 0.9060\n",
      "Epoch 16/500\n",
      "15/15 [==============================] - 0s 3ms/step - loss: 0.0028 - accuracy: 1.0000 - val_loss: 0.3492 - val_accuracy: 0.9060\n",
      "Epoch 17/500\n",
      "15/15 [==============================] - 0s 3ms/step - loss: 0.0024 - accuracy: 1.0000 - val_loss: 0.3702 - val_accuracy: 0.9060\n",
      "Epoch 18/500\n",
      "15/15 [==============================] - 0s 3ms/step - loss: 0.0019 - accuracy: 1.0000 - val_loss: 0.3766 - val_accuracy: 0.9060\n",
      "Epoch 19/500\n",
      "15/15 [==============================] - 0s 3ms/step - loss: 0.0016 - accuracy: 1.0000 - val_loss: 0.3912 - val_accuracy: 0.9060\n",
      "Epoch 20/500\n",
      "15/15 [==============================] - 0s 3ms/step - loss: 0.0014 - accuracy: 1.0000 - val_loss: 0.3964 - val_accuracy: 0.9060\n",
      "Epoch 21/500\n",
      "15/15 [==============================] - 0s 3ms/step - loss: 0.0012 - accuracy: 1.0000 - val_loss: 0.3982 - val_accuracy: 0.9060\n",
      "Epoch 22/500\n",
      "15/15 [==============================] - 0s 3ms/step - loss: 0.0010 - accuracy: 1.0000 - val_loss: 0.4124 - val_accuracy: 0.9060\n",
      "Epoch 23/500\n",
      "15/15 [==============================] - 0s 3ms/step - loss: 9.1482e-04 - accuracy: 1.0000 - val_loss: 0.4165 - val_accuracy: 0.9060\n",
      "Epoch 24/500\n",
      "15/15 [==============================] - 0s 3ms/step - loss: 7.9958e-04 - accuracy: 1.0000 - val_loss: 0.4204 - val_accuracy: 0.9060\n",
      "Epoch 25/500\n",
      "15/15 [==============================] - 0s 3ms/step - loss: 7.0438e-04 - accuracy: 1.0000 - val_loss: 0.4241 - val_accuracy: 0.9060\n",
      "Epoch 26/500\n",
      "15/15 [==============================] - 0s 3ms/step - loss: 6.3887e-04 - accuracy: 1.0000 - val_loss: 0.4360 - val_accuracy: 0.9060\n",
      "Epoch 27/500\n",
      "15/15 [==============================] - 0s 3ms/step - loss: 5.7083e-04 - accuracy: 1.0000 - val_loss: 0.4370 - val_accuracy: 0.9060\n",
      "Epoch 28/500\n",
      "15/15 [==============================] - 0s 3ms/step - loss: 5.1262e-04 - accuracy: 1.0000 - val_loss: 0.4422 - val_accuracy: 0.9060\n",
      "Epoch 29/500\n",
      "15/15 [==============================] - 0s 3ms/step - loss: 4.6842e-04 - accuracy: 1.0000 - val_loss: 0.4496 - val_accuracy: 0.9060\n",
      "Epoch 30/500\n",
      "15/15 [==============================] - 0s 3ms/step - loss: 4.2841e-04 - accuracy: 1.0000 - val_loss: 0.4506 - val_accuracy: 0.9060\n",
      "Epoch 31/500\n",
      "15/15 [==============================] - 0s 3ms/step - loss: 3.8833e-04 - accuracy: 1.0000 - val_loss: 0.4594 - val_accuracy: 0.9060\n",
      "Epoch 32/500\n",
      "15/15 [==============================] - 0s 3ms/step - loss: 3.5990e-04 - accuracy: 1.0000 - val_loss: 0.4628 - val_accuracy: 0.9060\n",
      "Epoch 33/500\n",
      "15/15 [==============================] - 0s 3ms/step - loss: 3.3034e-04 - accuracy: 1.0000 - val_loss: 0.4650 - val_accuracy: 0.9060\n",
      "Epoch 34/500\n",
      "15/15 [==============================] - 0s 3ms/step - loss: 3.1105e-04 - accuracy: 1.0000 - val_loss: 0.4731 - val_accuracy: 0.9060\n",
      "Epoch 35/500\n",
      "15/15 [==============================] - 0s 3ms/step - loss: 2.8173e-04 - accuracy: 1.0000 - val_loss: 0.4725 - val_accuracy: 0.9060\n",
      "Epoch 36/500\n",
      "15/15 [==============================] - 0s 3ms/step - loss: 2.6142e-04 - accuracy: 1.0000 - val_loss: 0.4756 - val_accuracy: 0.9060\n",
      "Epoch 37/500\n",
      "15/15 [==============================] - 0s 3ms/step - loss: 2.4394e-04 - accuracy: 1.0000 - val_loss: 0.4807 - val_accuracy: 0.9060\n",
      "Epoch 38/500\n",
      "15/15 [==============================] - 0s 3ms/step - loss: 2.2747e-04 - accuracy: 1.0000 - val_loss: 0.4845 - val_accuracy: 0.9060\n",
      "Epoch 39/500\n",
      "15/15 [==============================] - 0s 3ms/step - loss: 2.1652e-04 - accuracy: 1.0000 - val_loss: 0.4893 - val_accuracy: 0.9060\n",
      "Epoch 40/500\n",
      "15/15 [==============================] - 0s 3ms/step - loss: 1.9749e-04 - accuracy: 1.0000 - val_loss: 0.4905 - val_accuracy: 0.9060\n",
      "Epoch 41/500\n",
      "15/15 [==============================] - 0s 3ms/step - loss: 1.8634e-04 - accuracy: 1.0000 - val_loss: 0.4943 - val_accuracy: 0.9060\n",
      "Epoch 42/500\n",
      "15/15 [==============================] - 0s 3ms/step - loss: 1.7478e-04 - accuracy: 1.0000 - val_loss: 0.4948 - val_accuracy: 0.9060\n",
      "Epoch 43/500\n",
      "15/15 [==============================] - 0s 3ms/step - loss: 1.6364e-04 - accuracy: 1.0000 - val_loss: 0.5012 - val_accuracy: 0.9060\n",
      "Epoch 44/500\n",
      "15/15 [==============================] - 0s 3ms/step - loss: 1.5507e-04 - accuracy: 1.0000 - val_loss: 0.5029 - val_accuracy: 0.9060\n",
      "Epoch 45/500\n",
      "15/15 [==============================] - 0s 3ms/step - loss: 1.4486e-04 - accuracy: 1.0000 - val_loss: 0.5068 - val_accuracy: 0.9060\n",
      "Epoch 46/500\n",
      "15/15 [==============================] - 0s 3ms/step - loss: 1.3764e-04 - accuracy: 1.0000 - val_loss: 0.5094 - val_accuracy: 0.9060\n",
      "Epoch 47/500\n",
      "15/15 [==============================] - 0s 3ms/step - loss: 1.3074e-04 - accuracy: 1.0000 - val_loss: 0.5107 - val_accuracy: 0.9060\n",
      "Epoch 48/500\n",
      "15/15 [==============================] - 0s 3ms/step - loss: 1.2384e-04 - accuracy: 1.0000 - val_loss: 0.5148 - val_accuracy: 0.9060\n",
      "Epoch 49/500\n",
      "15/15 [==============================] - 0s 3ms/step - loss: 1.1744e-04 - accuracy: 1.0000 - val_loss: 0.5161 - val_accuracy: 0.9060\n",
      "Epoch 50/500\n",
      "15/15 [==============================] - 0s 3ms/step - loss: 1.1113e-04 - accuracy: 1.0000 - val_loss: 0.5172 - val_accuracy: 0.9060\n",
      "Epoch 51/500\n",
      "15/15 [==============================] - 0s 3ms/step - loss: 1.0538e-04 - accuracy: 1.0000 - val_loss: 0.5196 - val_accuracy: 0.9060\n",
      "Epoch 52/500\n",
      "15/15 [==============================] - 0s 3ms/step - loss: 1.0076e-04 - accuracy: 1.0000 - val_loss: 0.5229 - val_accuracy: 0.9060\n",
      "Epoch 53/500\n",
      "15/15 [==============================] - 0s 3ms/step - loss: 9.6322e-05 - accuracy: 1.0000 - val_loss: 0.5235 - val_accuracy: 0.9060\n",
      "Epoch 54/500\n",
      "15/15 [==============================] - 0s 3ms/step - loss: 9.1452e-05 - accuracy: 1.0000 - val_loss: 0.5284 - val_accuracy: 0.9060\n",
      "Epoch 55/500\n",
      "15/15 [==============================] - 0s 3ms/step - loss: 8.7643e-05 - accuracy: 1.0000 - val_loss: 0.5305 - val_accuracy: 0.9060\n",
      "Epoch 56/500\n",
      "15/15 [==============================] - 0s 3ms/step - loss: 8.4103e-05 - accuracy: 1.0000 - val_loss: 0.5299 - val_accuracy: 0.9060\n",
      "Epoch 57/500\n",
      "15/15 [==============================] - 0s 3ms/step - loss: 7.9548e-05 - accuracy: 1.0000 - val_loss: 0.5326 - val_accuracy: 0.9060\n"
     ]
    },
    {
     "name": "stdout",
     "output_type": "stream",
     "text": [
      "Epoch 58/500\n",
      "15/15 [==============================] - 0s 3ms/step - loss: 7.6542e-05 - accuracy: 1.0000 - val_loss: 0.5374 - val_accuracy: 0.9060\n",
      "Epoch 59/500\n",
      "15/15 [==============================] - 0s 3ms/step - loss: 7.2841e-05 - accuracy: 1.0000 - val_loss: 0.5372 - val_accuracy: 0.9060\n",
      "Epoch 60/500\n",
      "15/15 [==============================] - 0s 3ms/step - loss: 6.9939e-05 - accuracy: 1.0000 - val_loss: 0.5391 - val_accuracy: 0.9060\n",
      "Epoch 61/500\n",
      "15/15 [==============================] - 0s 3ms/step - loss: 6.7071e-05 - accuracy: 1.0000 - val_loss: 0.5424 - val_accuracy: 0.9060\n",
      "Epoch 62/500\n",
      "15/15 [==============================] - 0s 3ms/step - loss: 6.4453e-05 - accuracy: 1.0000 - val_loss: 0.5443 - val_accuracy: 0.9060\n",
      "Epoch 63/500\n",
      "15/15 [==============================] - 0s 3ms/step - loss: 6.2022e-05 - accuracy: 1.0000 - val_loss: 0.5457 - val_accuracy: 0.9060\n",
      "Epoch 64/500\n",
      "15/15 [==============================] - 0s 3ms/step - loss: 5.9816e-05 - accuracy: 1.0000 - val_loss: 0.5486 - val_accuracy: 0.9060\n",
      "Epoch 65/500\n",
      "15/15 [==============================] - 0s 3ms/step - loss: 5.7181e-05 - accuracy: 1.0000 - val_loss: 0.5504 - val_accuracy: 0.9060\n",
      "Epoch 66/500\n",
      "15/15 [==============================] - 0s 3ms/step - loss: 5.4879e-05 - accuracy: 1.0000 - val_loss: 0.5514 - val_accuracy: 0.9060\n",
      "Epoch 67/500\n",
      "15/15 [==============================] - 0s 3ms/step - loss: 5.3067e-05 - accuracy: 1.0000 - val_loss: 0.5546 - val_accuracy: 0.9060\n",
      "Epoch 68/500\n",
      "15/15 [==============================] - 0s 3ms/step - loss: 5.1003e-05 - accuracy: 1.0000 - val_loss: 0.5560 - val_accuracy: 0.9060\n",
      "Epoch 69/500\n",
      "15/15 [==============================] - 0s 3ms/step - loss: 4.9066e-05 - accuracy: 1.0000 - val_loss: 0.5574 - val_accuracy: 0.9060\n",
      "Epoch 70/500\n",
      "15/15 [==============================] - 0s 3ms/step - loss: 4.7297e-05 - accuracy: 1.0000 - val_loss: 0.5590 - val_accuracy: 0.9060\n",
      "Epoch 71/500\n",
      "15/15 [==============================] - 0s 3ms/step - loss: 4.5708e-05 - accuracy: 1.0000 - val_loss: 0.5607 - val_accuracy: 0.9060\n",
      "Epoch 72/500\n",
      "15/15 [==============================] - 0s 3ms/step - loss: 4.3964e-05 - accuracy: 1.0000 - val_loss: 0.5637 - val_accuracy: 0.9060\n",
      "Epoch 73/500\n",
      "15/15 [==============================] - 0s 3ms/step - loss: 4.2833e-05 - accuracy: 1.0000 - val_loss: 0.5668 - val_accuracy: 0.9060\n",
      "Epoch 74/500\n",
      "15/15 [==============================] - 0s 3ms/step - loss: 4.1284e-05 - accuracy: 1.0000 - val_loss: 0.5662 - val_accuracy: 0.9060\n",
      "Epoch 75/500\n",
      "15/15 [==============================] - 0s 3ms/step - loss: 3.9923e-05 - accuracy: 1.0000 - val_loss: 0.5695 - val_accuracy: 0.9060\n",
      "Epoch 76/500\n",
      "15/15 [==============================] - 0s 3ms/step - loss: 3.8650e-05 - accuracy: 1.0000 - val_loss: 0.5694 - val_accuracy: 0.9060\n",
      "Epoch 77/500\n",
      "15/15 [==============================] - 0s 3ms/step - loss: 3.7184e-05 - accuracy: 1.0000 - val_loss: 0.5715 - val_accuracy: 0.9060\n",
      "Epoch 78/500\n",
      "15/15 [==============================] - 0s 3ms/step - loss: 3.5996e-05 - accuracy: 1.0000 - val_loss: 0.5736 - val_accuracy: 0.9060\n",
      "Epoch 79/500\n",
      "15/15 [==============================] - 0s 3ms/step - loss: 3.4907e-05 - accuracy: 1.0000 - val_loss: 0.5763 - val_accuracy: 0.9060\n",
      "Epoch 80/500\n",
      "15/15 [==============================] - 0s 3ms/step - loss: 3.3566e-05 - accuracy: 1.0000 - val_loss: 0.5774 - val_accuracy: 0.9060\n",
      "Epoch 81/500\n",
      "15/15 [==============================] - 0s 3ms/step - loss: 3.2618e-05 - accuracy: 1.0000 - val_loss: 0.5777 - val_accuracy: 0.9060\n",
      "Epoch 82/500\n",
      "15/15 [==============================] - 0s 3ms/step - loss: 3.1546e-05 - accuracy: 1.0000 - val_loss: 0.5806 - val_accuracy: 0.9060\n",
      "Epoch 83/500\n",
      "15/15 [==============================] - 0s 3ms/step - loss: 3.0784e-05 - accuracy: 1.0000 - val_loss: 0.5823 - val_accuracy: 0.9060\n",
      "Epoch 84/500\n",
      "15/15 [==============================] - 0s 3ms/step - loss: 2.9801e-05 - accuracy: 1.0000 - val_loss: 0.5825 - val_accuracy: 0.9060\n",
      "Epoch 85/500\n",
      "15/15 [==============================] - 0s 3ms/step - loss: 2.8813e-05 - accuracy: 1.0000 - val_loss: 0.5841 - val_accuracy: 0.9060\n",
      "Epoch 86/500\n",
      "15/15 [==============================] - 0s 3ms/step - loss: 2.8037e-05 - accuracy: 1.0000 - val_loss: 0.5871 - val_accuracy: 0.9060\n",
      "Epoch 87/500\n",
      "15/15 [==============================] - 0s 3ms/step - loss: 2.7154e-05 - accuracy: 1.0000 - val_loss: 0.5877 - val_accuracy: 0.9060\n",
      "Epoch 88/500\n",
      "15/15 [==============================] - 0s 3ms/step - loss: 2.6459e-05 - accuracy: 1.0000 - val_loss: 0.5890 - val_accuracy: 0.9060\n",
      "Epoch 89/500\n",
      "15/15 [==============================] - 0s 3ms/step - loss: 2.5727e-05 - accuracy: 1.0000 - val_loss: 0.5894 - val_accuracy: 0.9060\n",
      "Epoch 90/500\n",
      "15/15 [==============================] - 0s 3ms/step - loss: 2.5015e-05 - accuracy: 1.0000 - val_loss: 0.5918 - val_accuracy: 0.9060\n",
      "Epoch 91/500\n",
      "15/15 [==============================] - 0s 3ms/step - loss: 2.4415e-05 - accuracy: 1.0000 - val_loss: 0.5930 - val_accuracy: 0.9060\n",
      "Epoch 92/500\n",
      "15/15 [==============================] - 0s 3ms/step - loss: 2.3635e-05 - accuracy: 1.0000 - val_loss: 0.5942 - val_accuracy: 0.9060\n",
      "Epoch 93/500\n",
      "15/15 [==============================] - 0s 3ms/step - loss: 2.3030e-05 - accuracy: 1.0000 - val_loss: 0.5963 - val_accuracy: 0.9060\n",
      "Epoch 94/500\n",
      "15/15 [==============================] - 0s 3ms/step - loss: 2.2720e-05 - accuracy: 1.0000 - val_loss: 0.5949 - val_accuracy: 0.9060\n",
      "Epoch 95/500\n",
      "15/15 [==============================] - 0s 3ms/step - loss: 2.1791e-05 - accuracy: 1.0000 - val_loss: 0.5985 - val_accuracy: 0.9060\n",
      "Epoch 96/500\n",
      "15/15 [==============================] - 0s 3ms/step - loss: 2.1287e-05 - accuracy: 1.0000 - val_loss: 0.6012 - val_accuracy: 0.9060\n",
      "Epoch 97/500\n",
      "15/15 [==============================] - 0s 3ms/step - loss: 2.0760e-05 - accuracy: 1.0000 - val_loss: 0.6011 - val_accuracy: 0.9060\n",
      "Epoch 98/500\n",
      "15/15 [==============================] - 0s 3ms/step - loss: 2.0313e-05 - accuracy: 1.0000 - val_loss: 0.6018 - val_accuracy: 0.9060\n",
      "Epoch 99/500\n",
      "15/15 [==============================] - 0s 3ms/step - loss: 1.9713e-05 - accuracy: 1.0000 - val_loss: 0.6040 - val_accuracy: 0.9060\n",
      "Epoch 100/500\n",
      "15/15 [==============================] - 0s 3ms/step - loss: 1.9147e-05 - accuracy: 1.0000 - val_loss: 0.6053 - val_accuracy: 0.9060\n",
      "Epoch 101/500\n",
      "15/15 [==============================] - 0s 3ms/step - loss: 1.8684e-05 - accuracy: 1.0000 - val_loss: 0.6060 - val_accuracy: 0.9060\n",
      "Epoch 102/500\n",
      "15/15 [==============================] - 0s 3ms/step - loss: 1.8262e-05 - accuracy: 1.0000 - val_loss: 0.6086 - val_accuracy: 0.9060\n",
      "Epoch 103/500\n",
      "15/15 [==============================] - 0s 3ms/step - loss: 1.7772e-05 - accuracy: 1.0000 - val_loss: 0.6087 - val_accuracy: 0.9060\n",
      "Epoch 104/500\n",
      "15/15 [==============================] - 0s 3ms/step - loss: 1.7378e-05 - accuracy: 1.0000 - val_loss: 0.6094 - val_accuracy: 0.9060\n"
     ]
    }
   ],
   "source": [
    "# setting up the functional model and early stopping monitor\n",
    "input = tf.keras.layers.Input(shape = X_train_sc_cast.shape[1:])\n",
    "hidden1 = tf.keras.layers.Dense(150, activation='relu')(input)\n",
    "hidden2 = tf.keras.layers.Dense(150, activation='relu')(hidden1)\n",
    "hidden3 = tf.keras.layers.Dense(150, activation='relu')(hidden2)\n",
    "concat = tf.keras.layers.Concatenate()([input, hidden3])\n",
    "output = tf.keras.layers.Dense(2,activation='softmax')(concat)\n",
    "model_funct = tf.keras.models.Model(inputs=[input], outputs=[output])\n",
    "\n",
    "model_funct.compile(\n",
    "    loss='categorical_crossentropy',\n",
    "    optimizer='adam',\n",
    "    metrics=['accuracy']\n",
    ")\n",
    "\n",
    "early_stopping=EarlyStopping(patience=100)\n",
    "\n",
    "model_tf=model_funct.fit(X_train_sc_cast, y_train_cat, epochs=500, validation_data=(X_test_sc_cast,y_test_cat), callbacks=[early_stopping])"
   ]
  },
  {
   "cell_type": "code",
   "execution_count": 121,
   "id": "97ba9504",
   "metadata": {
    "scrolled": true
   },
   "outputs": [
    {
     "data": {
      "image/png": "[encoded data removed]",
      "text/plain": [
       "<Figure size 640x480 with 1 Axes>"
      ]
     },
     "metadata": {},
     "output_type": "display_data"
    }
   ],
   "source": [
    "# plotting the history of the model\n",
    "# given the goal is to minimize loss, after the 15-th epoch the loss doesn't improve\n",
    "plt.plot(model_tf.history['loss'])\n",
    "plt.plot(model_tf.history['val_loss'])\n",
    "plt.show()"
   ]
  },
  {
   "cell_type": "code",
   "execution_count": 122,
   "id": "686eb29b",
   "metadata": {},
   "outputs": [
    {
     "name": "stdout",
     "output_type": "stream",
     "text": [
      "4/4 [==============================] - 0s 1ms/step\n"
     ]
    }
   ],
   "source": [
    "# ensemble of the models based on the average of the predictions of the four models\n",
    "predictions_xgb=xgb_opt.predict_proba(X_test_sc)\n",
    "predictions_sgbc=gbr_opt.predict_proba(X_test)\n",
    "predictions_rfc=rfc_opt.predict_proba(X_test)\n",
    "predictions_tf=model_funct.predict(X_test_sc_cast)\n",
    "pred_ensemble=(predictions_xgb+predictions_sgbc+predictions_rfc+predictions_tf)/4\n",
    "pred_ensemble_1col=np.round(pred_ensemble[:,1],0)"
   ]
  },
  {
   "cell_type": "code",
   "execution_count": 123,
   "id": "ce2e79bf",
   "metadata": {},
   "outputs": [
    {
     "name": "stdout",
     "output_type": "stream",
     "text": [
      "accuracy_score\n",
      "0.93\n",
      "________________________________________________________\n",
      "confusion_matrix\n",
      "[[98  3]\n",
      " [ 5 11]]\n",
      "________________________________________________________\n",
      "classification_report\n",
      "              precision    recall  f1-score   support\n",
      "\n",
      "       False       0.95      0.97      0.96       101\n",
      "        True       0.79      0.69      0.73        16\n",
      "\n",
      "    accuracy                           0.93       117\n",
      "   macro avg       0.87      0.83      0.85       117\n",
      "weighted avg       0.93      0.93      0.93       117\n",
      "\n"
     ]
    }
   ],
   "source": [
    "# print accuracy, confusion matrix & classification report for test data\n",
    "print(\"accuracy_score\")\n",
    "print('%.2f' % accuracy_score(np.ravel(y_test), pred_ensemble_1col))\n",
    "print(\"________________________________________________________\")\n",
    "print(\"confusion_matrix\")\n",
    "print(confusion_matrix(np.ravel(y_test), pred_ensemble_1col))\n",
    "print(\"________________________________________________________\")\n",
    "print(\"classification_report\")\n",
    "print(classification_report(np.ravel(y_test), pred_ensemble_1col))"
   ]
  }
 ],
 "metadata": {
  "kernelspec": {
   "display_name": "Python 3 (ipykernel)",
   "language": "python",
   "name": "python3"
  },
  "language_info": {
   "codemirror_mode": {
    "name": "ipython",
    "version": 3
   },
   "file_extension": ".py",
   "mimetype": "text/x-python",
   "name": "python",
   "nbconvert_exporter": "python",
   "pygments_lexer": "ipython3",
   "version": "3.10.9"
  }
 },
 "nbformat": 4,
 "nbformat_minor": 5
}
