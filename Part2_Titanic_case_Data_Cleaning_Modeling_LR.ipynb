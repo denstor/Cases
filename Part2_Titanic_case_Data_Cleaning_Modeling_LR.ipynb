{
 "cells": [
  {
   "cell_type": "code",
   "execution_count": 211,
   "id": "76a86dcc",
   "metadata": {},
   "outputs": [],
   "source": [
    "# Load libraries for this and next parts of the cases at once\n",
    "import pandas as pd\n",
    "import numpy as np\n",
    "from pandas.plotting import scatter_matrix\n",
    "from matplotlib import pyplot\n",
    "import matplotlib.pyplot as plt\n",
    "from sklearn.model_selection import train_test_split\n",
    "from sklearn.model_selection import cross_val_score\n",
    "from sklearn.model_selection import StratifiedKFold\n",
    "from sklearn.metrics import classification_report\n",
    "from sklearn.metrics import confusion_matrix\n",
    "from sklearn.metrics import accuracy_score\n",
    "from sklearn.linear_model import LinearRegression\n",
    "from sklearn.linear_model import LogisticRegression\n",
    "from sklearn.tree import DecisionTreeClassifier\n",
    "from sklearn.neighbors import KNeighborsClassifier\n",
    "from sklearn.discriminant_analysis import LinearDiscriminantAnalysis\n",
    "from sklearn.naive_bayes import GaussianNB\n",
    "from sklearn.svm import SVC\n",
    "from sklearn.model_selection import KFold\n",
    "from sklearn.preprocessing import StandardScaler\n",
    "from sklearn.ensemble import RandomForestClassifier\n",
    "from sklearn.model_selection import GridSearchCV"
   ]
  },
  {
   "cell_type": "code",
   "execution_count": 212,
   "id": "f72beca9",
   "metadata": {},
   "outputs": [],
   "source": [
    "# dataset downloading, selecting and reordering columns for further analysis\n",
    "dataset=pd.read_excel(\"cata.xlsx\")\n",
    "dataset=dataset.drop(['name','sibsp', 'parch', 'ticket', 'fare', \n",
    "                      'cabin', 'embarked', 'boat', 'body', 'home.dest'],axis=1)\n",
    "dataset=dataset[['survived','pclass', 'sex', 'age']]"
   ]
  },
  {
   "cell_type": "code",
   "execution_count": 213,
   "id": "455bfa01",
   "metadata": {
    "scrolled": true
   },
   "outputs": [
    {
     "data": {
      "text/html": [
       "<div>\n",
       "<style scoped>\n",
       "    .dataframe tbody tr th:only-of-type {\n",
       "        vertical-align: middle;\n",
       "    }\n",
       "\n",
       "    .dataframe tbody tr th {\n",
       "        vertical-align: top;\n",
       "    }\n",
       "\n",
       "    .dataframe thead th {\n",
       "        text-align: right;\n",
       "    }\n",
       "</style>\n",
       "<table border=\"1\" class=\"dataframe\">\n",
       "  <thead>\n",
       "    <tr style=\"text-align: right;\">\n",
       "      <th></th>\n",
       "      <th>survived</th>\n",
       "      <th>pclass</th>\n",
       "      <th>sex</th>\n",
       "      <th>age</th>\n",
       "    </tr>\n",
       "  </thead>\n",
       "  <tbody>\n",
       "    <tr>\n",
       "      <th>0</th>\n",
       "      <td>1</td>\n",
       "      <td>1</td>\n",
       "      <td>female</td>\n",
       "      <td>29.0000</td>\n",
       "    </tr>\n",
       "    <tr>\n",
       "      <th>1</th>\n",
       "      <td>1</td>\n",
       "      <td>1</td>\n",
       "      <td>male</td>\n",
       "      <td>0.9167</td>\n",
       "    </tr>\n",
       "    <tr>\n",
       "      <th>2</th>\n",
       "      <td>0</td>\n",
       "      <td>1</td>\n",
       "      <td>female</td>\n",
       "      <td>2.0000</td>\n",
       "    </tr>\n",
       "    <tr>\n",
       "      <th>3</th>\n",
       "      <td>0</td>\n",
       "      <td>1</td>\n",
       "      <td>male</td>\n",
       "      <td>30.0000</td>\n",
       "    </tr>\n",
       "    <tr>\n",
       "      <th>4</th>\n",
       "      <td>0</td>\n",
       "      <td>1</td>\n",
       "      <td>female</td>\n",
       "      <td>25.0000</td>\n",
       "    </tr>\n",
       "  </tbody>\n",
       "</table>\n",
       "</div>"
      ],
      "text/plain": [
       "   survived  pclass     sex      age\n",
       "0         1       1  female  29.0000\n",
       "1         1       1    male   0.9167\n",
       "2         0       1  female   2.0000\n",
       "3         0       1    male  30.0000\n",
       "4         0       1  female  25.0000"
      ]
     },
     "execution_count": 213,
     "metadata": {},
     "output_type": "execute_result"
    }
   ],
   "source": [
    "# exploratory data analysis and cleaning\n",
    "dataset.head()"
   ]
  },
  {
   "cell_type": "code",
   "execution_count": 214,
   "id": "c8ceb478",
   "metadata": {
    "scrolled": true
   },
   "outputs": [
    {
     "data": {
      "text/plain": [
       "(1309, 4)"
      ]
     },
     "execution_count": 214,
     "metadata": {},
     "output_type": "execute_result"
    }
   ],
   "source": [
    "dataset.shape"
   ]
  },
  {
   "cell_type": "code",
   "execution_count": 215,
   "id": "b769ff4c",
   "metadata": {},
   "outputs": [
    {
     "name": "stdout",
     "output_type": "stream",
     "text": [
      "<class 'pandas.core.frame.DataFrame'>\n",
      "RangeIndex: 1309 entries, 0 to 1308\n",
      "Data columns (total 4 columns):\n",
      " #   Column    Non-Null Count  Dtype  \n",
      "---  ------    --------------  -----  \n",
      " 0   survived  1309 non-null   int64  \n",
      " 1   pclass    1309 non-null   int64  \n",
      " 2   sex       1309 non-null   object \n",
      " 3   age       1046 non-null   float64\n",
      "dtypes: float64(1), int64(2), object(1)\n",
      "memory usage: 41.0+ KB\n"
     ]
    }
   ],
   "source": [
    "dataset.info()"
   ]
  },
  {
   "cell_type": "code",
   "execution_count": 216,
   "id": "c519abce",
   "metadata": {
    "scrolled": false
   },
   "outputs": [
    {
     "data": {
      "text/html": [
       "<div>\n",
       "<style scoped>\n",
       "    .dataframe tbody tr th:only-of-type {\n",
       "        vertical-align: middle;\n",
       "    }\n",
       "\n",
       "    .dataframe tbody tr th {\n",
       "        vertical-align: top;\n",
       "    }\n",
       "\n",
       "    .dataframe thead th {\n",
       "        text-align: right;\n",
       "    }\n",
       "</style>\n",
       "<table border=\"1\" class=\"dataframe\">\n",
       "  <thead>\n",
       "    <tr style=\"text-align: right;\">\n",
       "      <th></th>\n",
       "      <th>survived</th>\n",
       "      <th>pclass</th>\n",
       "      <th>age</th>\n",
       "    </tr>\n",
       "  </thead>\n",
       "  <tbody>\n",
       "    <tr>\n",
       "      <th>count</th>\n",
       "      <td>1309.000000</td>\n",
       "      <td>1309.000000</td>\n",
       "      <td>1046.000000</td>\n",
       "    </tr>\n",
       "    <tr>\n",
       "      <th>mean</th>\n",
       "      <td>0.381971</td>\n",
       "      <td>2.294882</td>\n",
       "      <td>29.881135</td>\n",
       "    </tr>\n",
       "    <tr>\n",
       "      <th>std</th>\n",
       "      <td>0.486055</td>\n",
       "      <td>0.837836</td>\n",
       "      <td>14.413500</td>\n",
       "    </tr>\n",
       "    <tr>\n",
       "      <th>min</th>\n",
       "      <td>0.000000</td>\n",
       "      <td>1.000000</td>\n",
       "      <td>0.166700</td>\n",
       "    </tr>\n",
       "    <tr>\n",
       "      <th>25%</th>\n",
       "      <td>0.000000</td>\n",
       "      <td>2.000000</td>\n",
       "      <td>21.000000</td>\n",
       "    </tr>\n",
       "    <tr>\n",
       "      <th>50%</th>\n",
       "      <td>0.000000</td>\n",
       "      <td>3.000000</td>\n",
       "      <td>28.000000</td>\n",
       "    </tr>\n",
       "    <tr>\n",
       "      <th>75%</th>\n",
       "      <td>1.000000</td>\n",
       "      <td>3.000000</td>\n",
       "      <td>39.000000</td>\n",
       "    </tr>\n",
       "    <tr>\n",
       "      <th>max</th>\n",
       "      <td>1.000000</td>\n",
       "      <td>3.000000</td>\n",
       "      <td>80.000000</td>\n",
       "    </tr>\n",
       "  </tbody>\n",
       "</table>\n",
       "</div>"
      ],
      "text/plain": [
       "          survived       pclass          age\n",
       "count  1309.000000  1309.000000  1046.000000\n",
       "mean      0.381971     2.294882    29.881135\n",
       "std       0.486055     0.837836    14.413500\n",
       "min       0.000000     1.000000     0.166700\n",
       "25%       0.000000     2.000000    21.000000\n",
       "50%       0.000000     3.000000    28.000000\n",
       "75%       1.000000     3.000000    39.000000\n",
       "max       1.000000     3.000000    80.000000"
      ]
     },
     "execution_count": 216,
     "metadata": {},
     "output_type": "execute_result"
    }
   ],
   "source": [
    "dataset.describe()"
   ]
  },
  {
   "cell_type": "code",
   "execution_count": 217,
   "id": "c8331e2a",
   "metadata": {},
   "outputs": [
    {
     "data": {
      "text/plain": [
       "survived      0\n",
       "pclass        0\n",
       "sex           0\n",
       "age         263\n",
       "dtype: int64"
      ]
     },
     "execution_count": 217,
     "metadata": {},
     "output_type": "execute_result"
    }
   ],
   "source": [
    "# checking the dataset for nan and deleting empty rows\n",
    "dataset.isna().sum()"
   ]
  },
  {
   "cell_type": "code",
   "execution_count": 218,
   "id": "bdf69e2e",
   "metadata": {
    "scrolled": true
   },
   "outputs": [],
   "source": [
    "dataset=dataset.dropna(axis=0)"
   ]
  },
  {
   "cell_type": "code",
   "execution_count": 219,
   "id": "909b4116",
   "metadata": {},
   "outputs": [],
   "source": [
    "# formatting the \"survived\" column into categorical\n",
    "dataset.survived.replace(to_replace=[0,1],value=[\"no\",\"yes\"], inplace=True)\n",
    "dataset.sex.replace(to_replace=[\"female\",\"male\"],value=[0,1], inplace=True)"
   ]
  },
  {
   "cell_type": "code",
   "execution_count": 220,
   "id": "28397f1e",
   "metadata": {},
   "outputs": [],
   "source": [
    "dataset = dataset.astype({'survived':'category','pclass':'int','sex':'int','age':'float'})"
   ]
  },
  {
   "cell_type": "code",
   "execution_count": 221,
   "id": "1169a17a",
   "metadata": {},
   "outputs": [
    {
     "name": "stdout",
     "output_type": "stream",
     "text": [
      "<class 'pandas.core.frame.DataFrame'>\n",
      "Int64Index: 1046 entries, 0 to 1308\n",
      "Data columns (total 4 columns):\n",
      " #   Column    Non-Null Count  Dtype   \n",
      "---  ------    --------------  -----   \n",
      " 0   survived  1046 non-null   category\n",
      " 1   pclass    1046 non-null   int32   \n",
      " 2   sex       1046 non-null   int32   \n",
      " 3   age       1046 non-null   float64 \n",
      "dtypes: category(1), float64(1), int32(2)\n",
      "memory usage: 25.7 KB\n"
     ]
    }
   ],
   "source": [
    "dataset.info()"
   ]
  },
  {
   "cell_type": "code",
   "execution_count": 222,
   "id": "b3ad1652",
   "metadata": {},
   "outputs": [],
   "source": [
    "# EDA (exploratory data analysis) - scatter plot matrix\n",
    "# scatter_matrix(dataset)\n",
    "# pyplot.show()"
   ]
  },
  {
   "cell_type": "code",
   "execution_count": 258,
   "id": "baae8cbf",
   "metadata": {},
   "outputs": [],
   "source": [
    "# split-out validation dataset\n",
    "array = dataset.values\n",
    "X = array[:,1:]\n",
    "y = array[:,0]"
   ]
  },
  {
   "cell_type": "code",
   "execution_count": 247,
   "id": "eb84e996",
   "metadata": {},
   "outputs": [
    {
     "data": {
      "image/png": "[encoded data removed]",
      "text/plain": [
       "<Figure size 640x480 with 1 Axes>"
      ]
     },
     "metadata": {},
     "output_type": "display_data"
    }
   ],
   "source": [
    "# # standardize the data (the age scale is times higher vs the others)\n",
    "object=StandardScaler()\n",
    "X=object.fit_transform(X)\n",
    "plt.boxplot(X)\n",
    "plt.show()"
   ]
  },
  {
   "cell_type": "code",
   "execution_count": 252,
   "id": "daebc7f4",
   "metadata": {},
   "outputs": [],
   "source": [
    "# changing datatype of y to numerical (specifically for building the LR model in this part of the cases)\n",
    "yn=y.copy()\n",
    "yn[yn=='yes']=1\n",
    "yn[yn=='no']=0\n",
    "yn=yn.astype(int)"
   ]
  },
  {
   "cell_type": "code",
   "execution_count": 253,
   "id": "2e75ecf7",
   "metadata": {},
   "outputs": [],
   "source": [
    "# set up the train & test split\n",
    "X_train, X_validation, Y_train, Y_validation = train_test_split(X, yn, test_size=0.20, random_state=1)"
   ]
  },
  {
   "cell_type": "code",
   "execution_count": 254,
   "id": "d27f8d55",
   "metadata": {},
   "outputs": [
    {
     "name": "stdout",
     "output_type": "stream",
     "text": [
      " R2 scores mean - 0.32: std - 0.09\n"
     ]
    }
   ],
   "source": [
    "# Linear Regression model and cross-validation deployment\n",
    "modelLR=LinearRegression()\n",
    "scores=cross_val_score(modelLR, X_train, Y_train, cv=5, scoring='r2')\n",
    "print(' R2 scores mean - %.2f: std - %.2f' % (scores.mean(), scores.std()))"
   ]
  },
  {
   "cell_type": "code",
   "execution_count": 255,
   "id": "b2e8d56e",
   "metadata": {},
   "outputs": [
    {
     "name": "stdout",
     "output_type": "stream",
     "text": [
      "______________________________________________\n",
      "R2 coefficient\n",
      "0.58\n"
     ]
    }
   ],
   "source": [
    "# fitting the model and making predictions for the validation (test) dataset\n",
    "# the achieved R2 correlation is medium, the linear model is not efficient.\n",
    "# modelLR=LinearRegression()\n",
    "modelLR.fit(X_train, Y_train)\n",
    "predictions = modelLR.predict(X_validation)\n",
    "predictions=np.round(predictions.astype(float),0)\n",
    "print(\"______________________________________________\")\n",
    "print(\"R2 coefficient\")\n",
    "print('%.2f' % np.corrcoef(predictions,Y_validation)[0,1])"
   ]
  },
  {
   "cell_type": "code",
   "execution_count": 264,
   "id": "40e4c54d",
   "metadata": {},
   "outputs": [
    {
     "name": "stdout",
     "output_type": "stream",
     "text": [
      "pclass, sex, age:  [-0.14 -0.24 -0.08]\n"
     ]
    }
   ],
   "source": [
    "# the sex has the highest impact on survival among the others\n",
    "importance=modelLR.coef_\n",
    "print(\"pclass, sex, age: \", np.round(importance,2))"
   ]
  },
  {
   "cell_type": "code",
   "execution_count": 232,
   "id": "c9f5620b",
   "metadata": {},
   "outputs": [],
   "source": [
    "# in the next part I will deploy multiple set of linear and non-linear models to find the best one"
   ]
  }
 ],
 "metadata": {
  "kernelspec": {
   "display_name": "Python 3 (ipykernel)",
   "language": "python",
   "name": "python3"
  },
  "language_info": {
   "codemirror_mode": {
    "name": "ipython",
    "version": 3
   },
   "file_extension": ".py",
   "mimetype": "text/x-python",
   "name": "python",
   "nbconvert_exporter": "python",
   "pygments_lexer": "ipython3",
   "version": "3.10.9"
  }
 },
 "nbformat": 4,
 "nbformat_minor": 5
}
