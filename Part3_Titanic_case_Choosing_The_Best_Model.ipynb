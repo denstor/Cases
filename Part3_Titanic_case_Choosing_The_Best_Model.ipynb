{
 "cells": [
  {
   "cell_type": "code",
   "execution_count": 23,
   "id": "d35375ed",
   "metadata": {},
   "outputs": [],
   "source": [
    "# Load libraries for this and next parts of the cases at once\n",
    "import pandas as pd\n",
    "import numpy as np\n",
    "from pandas.plotting import scatter_matrix\n",
    "from matplotlib import pyplot\n",
    "from sklearn.model_selection import train_test_split\n",
    "from sklearn.model_selection import cross_val_score\n",
    "from sklearn.model_selection import StratifiedKFold\n",
    "from sklearn.metrics import classification_report\n",
    "from sklearn.metrics import confusion_matrix\n",
    "from sklearn.metrics import accuracy_score\n",
    "from sklearn.linear_model import LinearRegression\n",
    "from sklearn.linear_model import LogisticRegression\n",
    "from sklearn.tree import DecisionTreeClassifier\n",
    "from sklearn.neighbors import KNeighborsClassifier\n",
    "from sklearn.discriminant_analysis import LinearDiscriminantAnalysis\n",
    "from sklearn.naive_bayes import GaussianNB\n",
    "from sklearn.svm import SVC\n",
    "from sklearn.model_selection import KFold\n",
    "from sklearn.preprocessing import StandardScaler\n",
    "from sklearn.ensemble import RandomForestClassifier\n",
    "from sklearn.model_selection import GridSearchCV\n",
    "\n",
    "# dataset downloading, selecting and reordering columns for further analysis\n",
    "dataset=pd.read_excel(\"cata.xlsx\")\n",
    "dataset=dataset.drop(['name','sibsp', 'parch', 'ticket', 'fare', \n",
    "                      'cabin', 'embarked', 'boat', 'body', 'home.dest'],axis=1)\n",
    "dataset=dataset[['survived','pclass', 'sex', 'age']]\n",
    "\n",
    "# checking the dataset for nan and deleting empty rows\n",
    "dataset.isna().sum()\n",
    "dataset=dataset.dropna(axis=0)\n",
    "\n",
    "# formatting the \"survived\" column into categorical\n",
    "dataset.survived.replace(to_replace=[0,1],value=[\"no\",\"yes\"], inplace=True)\n",
    "dataset.sex.replace(to_replace=[\"female\",\"male\"],value=[0,1], inplace=True)\n",
    "dataset = dataset.astype({'survived':'category','pclass':'int','sex':'int','age':'float'})\n",
    "\n",
    "# split-out validation dataset\n",
    "array = dataset.values\n",
    "X = array[:,1:]\n",
    "y = array[:,0]\n",
    "\n",
    "# set up the train & test split\n",
    "X_train, X_validation, Y_train, Y_validation = train_test_split(X, y, test_size=0.20, random_state=1)"
   ]
  },
  {
   "cell_type": "code",
   "execution_count": 24,
   "id": "1875e0a9",
   "metadata": {},
   "outputs": [],
   "source": [
    "# the goal is to check different models for prediction (linear and non-linear ones)\n",
    "# and choose the most accurate one. the list of models is given below:\n",
    "# 1. Logistic Regression (LR)\n",
    "# 2. Linear Discriminant Analysis (LDA)\n",
    "# 3. K-Nearest Neighbors (KNN)\n",
    "# 4. Gaussian Naive Bayes (NB)\n",
    "# 5. Support Vector Machines (SVM)\n",
    "# 6. Classification and Regression Trees (CART)\n",
    "# 7. Random Forest Classifier (RFC)\n",
    "\n",
    "models = []\n",
    "models.append(('LR', LogisticRegression(solver='liblinear', multi_class='ovr')))\n",
    "models.append(('LDA', LinearDiscriminantAnalysis()))\n",
    "models.append(('KNN', KNeighborsClassifier()))\n",
    "models.append(('NB', GaussianNB()))\n",
    "models.append(('SVM', SVC()))\n",
    "models.append(('CART', DecisionTreeClassifier()))\n",
    "models.append(('RFC', RandomForestClassifier()))"
   ]
  },
  {
   "cell_type": "code",
   "execution_count": 25,
   "id": "4eacd251",
   "metadata": {
    "scrolled": true
   },
   "outputs": [
    {
     "name": "stdout",
     "output_type": "stream",
     "text": [
      "LR: 0.780 (0.03)\n",
      "LDA: 0.777 (0.03)\n",
      "KNN: 0.762 (0.05)\n",
      "NB: 0.775 (0.03)\n",
      "SVM: 0.606 (0.03)\n",
      "CART: 0.770 (0.04)\n",
      "RFC: 0.778 (0.04)\n"
     ]
    }
   ],
   "source": [
    "# evaluate each model in turn and show the final results\n",
    "# results may slightly differ if re-run the code\n",
    "# Logistic Regression (LR) shows the best R2 and std performance - LR: 0.780 (0.03)\n",
    "# for the validation I'll use the LR model \n",
    "results = []\n",
    "names = []\n",
    "for name, model in models:\n",
    "    kfold = StratifiedKFold(n_splits=10, random_state=1, shuffle=True)\n",
    "    cv_results = cross_val_score(model, X_train, Y_train, cv=kfold, scoring='accuracy')\n",
    "    results.append(cv_results)\n",
    "    names.append(name)\n",
    "    print('%s: %.3f (%.2f)' % (name, cv_results.mean(), cv_results.std()))"
   ]
  },
  {
   "cell_type": "code",
   "execution_count": 30,
   "id": "decdcff1",
   "metadata": {},
   "outputs": [],
   "source": [
    "# making predictions on validation (test) dataset by using LR model\n",
    "model = LogisticRegression(solver='liblinear', multi_class='ovr')\n",
    "model.fit(X_train, Y_train)\n",
    "predictions = model.predict(X_validation)"
   ]
  },
  {
   "cell_type": "code",
   "execution_count": 36,
   "id": "df6776bb",
   "metadata": {},
   "outputs": [
    {
     "name": "stdout",
     "output_type": "stream",
     "text": [
      "accuracy_score\n",
      "0.80\n",
      "________________________________________________________\n",
      "confusion_matrix\n",
      "[[99 24]\n",
      " [18 69]]\n",
      "________________________________________________________\n",
      "classification_report\n",
      "              precision    recall  f1-score   support\n",
      "\n",
      "          no       0.85      0.80      0.83       123\n",
      "         yes       0.74      0.79      0.77        87\n",
      "\n",
      "    accuracy                           0.80       210\n",
      "   macro avg       0.79      0.80      0.80       210\n",
      "weighted avg       0.80      0.80      0.80       210\n",
      "\n"
     ]
    }
   ],
   "source": [
    "# Evaluate predictions: high accuracy score (0.80) = TP+TN\n",
    "# high f1-score (precision, recall) (0.80)\n",
    "# confusion matrix: T1 error (FP) - 18 (8.6%), T2 error (FN) - 24 (11.4%)\n",
    "print(\"accuracy_score\")\n",
    "print('%.2f' % accuracy_score(Y_validation, predictions))\n",
    "print(\"________________________________________________________\")\n",
    "print(\"confusion_matrix\")\n",
    "print(confusion_matrix(Y_validation, predictions))\n",
    "print(\"________________________________________________________\")\n",
    "print(\"classification_report\")\n",
    "print(classification_report(Y_validation, predictions))"
   ]
  },
  {
   "cell_type": "code",
   "execution_count": 37,
   "id": "bbdb5551",
   "metadata": {},
   "outputs": [
    {
     "name": "stdout",
     "output_type": "stream",
     "text": [
      "accuracy_score\n",
      "0.79\n",
      "________________________________________________________\n",
      "confusion_matrix\n",
      "[[529  90]\n",
      " [134 293]]\n",
      "________________________________________________________\n",
      "classification_report\n",
      "              precision    recall  f1-score   support\n",
      "\n",
      "          no       0.80      0.85      0.83       619\n",
      "         yes       0.77      0.69      0.72       427\n",
      "\n",
      "    accuracy                           0.79      1046\n",
      "   macro avg       0.78      0.77      0.77      1046\n",
      "weighted avg       0.78      0.79      0.78      1046\n",
      "\n"
     ]
    }
   ],
   "source": [
    "# making predictions on the whole dataset by using LR model\n",
    "model.fit(X, y)\n",
    "predictions = model.predict(X)\n",
    "\n",
    "# Evaluate predictions: high accuracy score (0.79) = TP+TN\n",
    "# high f1-score (precision, recall) (0.78)\n",
    "# confusion matrix: T1 error (FP) - 134 (12.8%), T2 error (FN) - 90 (8.6%)\n",
    "# T1 error (FP) worsened\n",
    "print(\"accuracy_score\")\n",
    "print('%.2f' % accuracy_score(y,predictions))\n",
    "print(\"________________________________________________________\")\n",
    "print(\"confusion_matrix\")\n",
    "print(confusion_matrix(y,predictions))\n",
    "print(\"________________________________________________________\")\n",
    "print(\"classification_report\")\n",
    "print(classification_report(y,predictions))"
   ]
  },
  {
   "cell_type": "code",
   "execution_count": 29,
   "id": "1537d8b0",
   "metadata": {},
   "outputs": [],
   "source": [
    "# in the next part I'll use two models: the best one (LR) and the worst one (SVC)\n",
    "# in order to improve performance with Hyperparameter Tuning"
   ]
  }
 ],
 "metadata": {
  "kernelspec": {
   "display_name": "Python 3 (ipykernel)",
   "language": "python",
   "name": "python3"
  },
  "language_info": {
   "codemirror_mode": {
    "name": "ipython",
    "version": 3
   },
   "file_extension": ".py",
   "mimetype": "text/x-python",
   "name": "python",
   "nbconvert_exporter": "python",
   "pygments_lexer": "ipython3",
   "version": "3.10.9"
  }
 },
 "nbformat": 4,
 "nbformat_minor": 5
}
